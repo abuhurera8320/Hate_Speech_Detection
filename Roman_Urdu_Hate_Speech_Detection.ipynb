{
  "cells": [
    {
      "cell_type": "markdown",
      "metadata": {
        "id": "view-in-github",
        "colab_type": "text"
      },
      "source": [
        "<a href=\"https://colab.research.google.com/github/abuhurera8320/Hate_Speech_Detection/blob/main/Roman_Urdu_Hate_Speech_Detection.ipynb\" target=\"_parent\"><img src=\"https://colab.research.google.com/assets/colab-badge.svg\" alt=\"Open In Colab\"/></a>"
      ]
    },
    {
      "cell_type": "code",
      "execution_count": 1,
      "metadata": {
        "id": "vqjL5Dp7RJqL"
      },
      "outputs": [],
      "source": [
        "import pandas as pd\n",
        "import matplotlib.pyplot as plt\n",
        "import numpy as np"
      ]
    },
    {
      "cell_type": "code",
      "execution_count": 2,
      "metadata": {
        "id": "2vlS7w8AQPeE"
      },
      "outputs": [],
      "source": [
        "from keras.preprocessing.text import Tokenizer\n",
        "from keras.preprocessing.sequence import pad_sequences\n",
        "from tensorflow.keras.utils import to_categorical\n",
        "from keras.models import Sequential,load_model\n",
        "from keras.layers import Conv1D,LSTM,Dense,Embedding,RepeatVector,TimeDistributed,Bidirectional,GRU,SimpleRNN\n",
        "from keras.callbacks import EarlyStopping\n",
        "from keras.preprocessing.text import Tokenizer\n",
        "from keras.preprocessing.sequence import pad_sequences\n",
        "from nltk.translate.bleu_score import corpus_bleu\n",
        "from IPython.display import Markdown, display\n",
        "from keras.layers import Dropout\n",
        "from tensorflow.keras.optimizers import Adam\n",
        "from tensorflow.keras.callbacks import ReduceLROnPlateau"
      ]
    },
    {
      "cell_type": "code",
      "execution_count": null,
      "metadata": {
        "id": "sgm01JvMRV9x"
      },
      "outputs": [],
      "source": [
        "df=pd.read_csv('/content/drive/MyDrive/FYP /task_1_train.tsv', sep='\\t')"
      ]
    },
    {
      "cell_type": "code",
      "execution_count": null,
      "metadata": {
        "colab": {
          "base_uri": "https://localhost:8080/"
        },
        "id": "zimdvefxRWW_",
        "outputId": "6356b221-6a74-45a7-9b29-ac8e9bb035d3"
      },
      "outputs": [
        {
          "data": {
            "text/plain": [
              "Text     7208\n",
              "Label    7208\n",
              "dtype: int64"
            ]
          },
          "execution_count": 5,
          "metadata": {},
          "output_type": "execute_result"
        }
      ],
      "source": [
        "df.columns=['Text','Label']\n",
        "df.count()"
      ]
    },
    {
      "cell_type": "code",
      "execution_count": null,
      "metadata": {
        "colab": {
          "base_uri": "https://localhost:8080/"
        },
        "id": "_jcdjnfxRWbC",
        "outputId": "95f942a8-1359-408e-b14b-4ab5167905bf"
      },
      "outputs": [
        {
          "name": "stdout",
          "output_type": "stream",
          "text": [
            "Label 0 is for Abusive/Offensive\n",
            "Label 1 is for Normal\n"
          ]
        }
      ],
      "source": [
        "l=df['Label'].unique()\n",
        "l_dict={0:'Abusive/Offensive',1:'Normal'}\n",
        "for i in l:\n",
        "    print('Label {} is for {}'.format(i,l_dict[i]))"
      ]
    },
    {
      "cell_type": "code",
      "execution_count": null,
      "metadata": {
        "colab": {
          "base_uri": "https://localhost:8080/"
        },
        "id": "Q49uFn7-RWd1",
        "outputId": "af8f1a16-5816-4d76-babe-fbb30b3a381c"
      },
      "outputs": [
        {
          "data": {
            "text/plain": [
              "Text     3850\n",
              "Label    3850\n",
              "dtype: int64"
            ]
          },
          "execution_count": 7,
          "metadata": {},
          "output_type": "execute_result"
        }
      ],
      "source": [
        "offensivedf=df.loc[df['Label']==1]\n",
        "offensivedf.count()"
      ]
    },
    {
      "cell_type": "code",
      "execution_count": null,
      "metadata": {
        "id": "e7BGD3cURWfl"
      },
      "outputs": [],
      "source": [
        "df1=pd.read_csv('/content/drive/MyDrive/FYP /task_1_test.tsv', sep='\\t')"
      ]
    },
    {
      "cell_type": "code",
      "execution_count": null,
      "metadata": {
        "colab": {
          "base_uri": "https://localhost:8080/"
        },
        "id": "cXocGCMIRWhV",
        "outputId": "8eddd2f5-1b46-48df-921c-1c9c185eb5e6"
      },
      "outputs": [
        {
          "data": {
            "text/plain": [
              "Text     2002\n",
              "Label    2002\n",
              "dtype: int64"
            ]
          },
          "execution_count": 9,
          "metadata": {},
          "output_type": "execute_result"
        }
      ],
      "source": [
        "df1.columns=['Text','Label']\n",
        "df1.count()"
      ]
    },
    {
      "cell_type": "code",
      "execution_count": null,
      "metadata": {
        "colab": {
          "base_uri": "https://localhost:8080/"
        },
        "id": "B6ET2MquRtYZ",
        "outputId": "268482bc-0284-4668-9ddc-d38f2eba34d0"
      },
      "outputs": [
        {
          "data": {
            "text/plain": [
              "Text     1069\n",
              "Label    1069\n",
              "dtype: int64"
            ]
          },
          "execution_count": 10,
          "metadata": {},
          "output_type": "execute_result"
        }
      ],
      "source": [
        "offensivedf=df1.loc[df1['Label']==1]\n",
        "offensivedf.count()"
      ]
    },
    {
      "cell_type": "code",
      "execution_count": null,
      "metadata": {
        "colab": {
          "base_uri": "https://localhost:8080/",
          "height": 206
        },
        "id": "_G11xe9tRtgi",
        "outputId": "5e2020de-ca08-4a19-d51c-f60b8bff17a5"
      },
      "outputs": [
        {
          "data": {
            "text/html": [
              "\n",
              "  <div id=\"df-83a31651-d592-4fba-8fb4-22b9be1a9a16\">\n",
              "    <div class=\"colab-df-container\">\n",
              "      <div>\n",
              "<style scoped>\n",
              "    .dataframe tbody tr th:only-of-type {\n",
              "        vertical-align: middle;\n",
              "    }\n",
              "\n",
              "    .dataframe tbody tr th {\n",
              "        vertical-align: top;\n",
              "    }\n",
              "\n",
              "    .dataframe thead th {\n",
              "        text-align: right;\n",
              "    }\n",
              "</style>\n",
              "<table border=\"1\" class=\"dataframe\">\n",
              "  <thead>\n",
              "    <tr style=\"text-align: right;\">\n",
              "      <th></th>\n",
              "      <th>Text</th>\n",
              "      <th>Label</th>\n",
              "    </tr>\n",
              "  </thead>\n",
              "  <tbody>\n",
              "    <tr>\n",
              "      <th>6</th>\n",
              "      <td>hum kisi se km nhi</td>\n",
              "      <td>1</td>\n",
              "    </tr>\n",
              "    <tr>\n",
              "      <th>7</th>\n",
              "      <td>aurat bhatak sakri hy kbi “maa” ni bhatakti . ...</td>\n",
              "      <td>1</td>\n",
              "    </tr>\n",
              "    <tr>\n",
              "      <th>10</th>\n",
              "      <td>with due respect sir kya aurat march se ye ch...</td>\n",
              "      <td>1</td>\n",
              "    </tr>\n",
              "    <tr>\n",
              "      <th>15</th>\n",
              "      <td>😂😂😂😂😂😂 chal ja tujhy maaf kia</td>\n",
              "      <td>1</td>\n",
              "    </tr>\n",
              "    <tr>\n",
              "      <th>16</th>\n",
              "      <td>agr ap chahtay hn k log ap ko acha kahean to a...</td>\n",
              "      <td>1</td>\n",
              "    </tr>\n",
              "  </tbody>\n",
              "</table>\n",
              "</div>\n",
              "      <button class=\"colab-df-convert\" onclick=\"convertToInteractive('df-83a31651-d592-4fba-8fb4-22b9be1a9a16')\"\n",
              "              title=\"Convert this dataframe to an interactive table.\"\n",
              "              style=\"display:none;\">\n",
              "        \n",
              "  <svg xmlns=\"http://www.w3.org/2000/svg\" height=\"24px\"viewBox=\"0 0 24 24\"\n",
              "       width=\"24px\">\n",
              "    <path d=\"M0 0h24v24H0V0z\" fill=\"none\"/>\n",
              "    <path d=\"M18.56 5.44l.94 2.06.94-2.06 2.06-.94-2.06-.94-.94-2.06-.94 2.06-2.06.94zm-11 1L8.5 8.5l.94-2.06 2.06-.94-2.06-.94L8.5 2.5l-.94 2.06-2.06.94zm10 10l.94 2.06.94-2.06 2.06-.94-2.06-.94-.94-2.06-.94 2.06-2.06.94z\"/><path d=\"M17.41 7.96l-1.37-1.37c-.4-.4-.92-.59-1.43-.59-.52 0-1.04.2-1.43.59L10.3 9.45l-7.72 7.72c-.78.78-.78 2.05 0 2.83L4 21.41c.39.39.9.59 1.41.59.51 0 1.02-.2 1.41-.59l7.78-7.78 2.81-2.81c.8-.78.8-2.07 0-2.86zM5.41 20L4 18.59l7.72-7.72 1.47 1.35L5.41 20z\"/>\n",
              "  </svg>\n",
              "      </button>\n",
              "      \n",
              "  <style>\n",
              "    .colab-df-container {\n",
              "      display:flex;\n",
              "      flex-wrap:wrap;\n",
              "      gap: 12px;\n",
              "    }\n",
              "\n",
              "    .colab-df-convert {\n",
              "      background-color: #E8F0FE;\n",
              "      border: none;\n",
              "      border-radius: 50%;\n",
              "      cursor: pointer;\n",
              "      display: none;\n",
              "      fill: #1967D2;\n",
              "      height: 32px;\n",
              "      padding: 0 0 0 0;\n",
              "      width: 32px;\n",
              "    }\n",
              "\n",
              "    .colab-df-convert:hover {\n",
              "      background-color: #E2EBFA;\n",
              "      box-shadow: 0px 1px 2px rgba(60, 64, 67, 0.3), 0px 1px 3px 1px rgba(60, 64, 67, 0.15);\n",
              "      fill: #174EA6;\n",
              "    }\n",
              "\n",
              "    [theme=dark] .colab-df-convert {\n",
              "      background-color: #3B4455;\n",
              "      fill: #D2E3FC;\n",
              "    }\n",
              "\n",
              "    [theme=dark] .colab-df-convert:hover {\n",
              "      background-color: #434B5C;\n",
              "      box-shadow: 0px 1px 3px 1px rgba(0, 0, 0, 0.15);\n",
              "      filter: drop-shadow(0px 1px 2px rgba(0, 0, 0, 0.3));\n",
              "      fill: #FFFFFF;\n",
              "    }\n",
              "  </style>\n",
              "\n",
              "      <script>\n",
              "        const buttonEl =\n",
              "          document.querySelector('#df-83a31651-d592-4fba-8fb4-22b9be1a9a16 button.colab-df-convert');\n",
              "        buttonEl.style.display =\n",
              "          google.colab.kernel.accessAllowed ? 'block' : 'none';\n",
              "\n",
              "        async function convertToInteractive(key) {\n",
              "          const element = document.querySelector('#df-83a31651-d592-4fba-8fb4-22b9be1a9a16');\n",
              "          const dataTable =\n",
              "            await google.colab.kernel.invokeFunction('convertToInteractive',\n",
              "                                                     [key], {});\n",
              "          if (!dataTable) return;\n",
              "\n",
              "          const docLinkHtml = 'Like what you see? Visit the ' +\n",
              "            '<a target=\"_blank\" href=https://colab.research.google.com/notebooks/data_table.ipynb>data table notebook</a>'\n",
              "            + ' to learn more about interactive tables.';\n",
              "          element.innerHTML = '';\n",
              "          dataTable['output_type'] = 'display_data';\n",
              "          await google.colab.output.renderOutput(dataTable, element);\n",
              "          const docLink = document.createElement('div');\n",
              "          docLink.innerHTML = docLinkHtml;\n",
              "          element.appendChild(docLink);\n",
              "        }\n",
              "      </script>\n",
              "    </div>\n",
              "  </div>\n",
              "  "
            ],
            "text/plain": [
              "                                                 Text  Label\n",
              "6                                  hum kisi se km nhi      1\n",
              "7   aurat bhatak sakri hy kbi “maa” ni bhatakti . ...      1\n",
              "10   with due respect sir kya aurat march se ye ch...      1\n",
              "15                      😂😂😂😂😂😂 chal ja tujhy maaf kia      1\n",
              "16  agr ap chahtay hn k log ap ko acha kahean to a...      1"
            ]
          },
          "execution_count": 11,
          "metadata": {},
          "output_type": "execute_result"
        }
      ],
      "source": [
        "Neutral=df.loc[df['Label']==1]\n",
        "Neutral.head()"
      ]
    },
    {
      "cell_type": "code",
      "execution_count": null,
      "metadata": {
        "colab": {
          "base_uri": "https://localhost:8080/",
          "height": 206
        },
        "id": "tUE0NdMVRtkm",
        "outputId": "0b7b0595-2bfd-4423-b997-f1defbfdb755"
      },
      "outputs": [
        {
          "data": {
            "text/html": [
              "\n",
              "  <div id=\"df-f4307926-5b47-4e73-83fe-c43b0e90aaf6\">\n",
              "    <div class=\"colab-df-container\">\n",
              "      <div>\n",
              "<style scoped>\n",
              "    .dataframe tbody tr th:only-of-type {\n",
              "        vertical-align: middle;\n",
              "    }\n",
              "\n",
              "    .dataframe tbody tr th {\n",
              "        vertical-align: top;\n",
              "    }\n",
              "\n",
              "    .dataframe thead th {\n",
              "        text-align: right;\n",
              "    }\n",
              "</style>\n",
              "<table border=\"1\" class=\"dataframe\">\n",
              "  <thead>\n",
              "    <tr style=\"text-align: right;\">\n",
              "      <th></th>\n",
              "      <th>Text</th>\n",
              "      <th>Label</th>\n",
              "    </tr>\n",
              "  </thead>\n",
              "  <tbody>\n",
              "    <tr>\n",
              "      <th>0</th>\n",
              "      <td>bhaunk bhaunk ke pagal ho jaata ab tak....</td>\n",
              "      <td>0</td>\n",
              "    </tr>\n",
              "    <tr>\n",
              "      <th>1</th>\n",
              "      <td>shivsaina  nam mulla  saina  rakh  hijra  uddh...</td>\n",
              "      <td>0</td>\n",
              "    </tr>\n",
              "    <tr>\n",
              "      <th>2</th>\n",
              "      <td>there are some yahodi daboo like imran chore z...</td>\n",
              "      <td>0</td>\n",
              "    </tr>\n",
              "    <tr>\n",
              "      <th>3</th>\n",
              "      <td>chutiye ye hunduism ni he islam he , isme koi ...</td>\n",
              "      <td>0</td>\n",
              "    </tr>\n",
              "    <tr>\n",
              "      <th>4</th>\n",
              "      <td>han g rakhail e awal kiya bak rai hai. kisay a...</td>\n",
              "      <td>0</td>\n",
              "    </tr>\n",
              "  </tbody>\n",
              "</table>\n",
              "</div>\n",
              "      <button class=\"colab-df-convert\" onclick=\"convertToInteractive('df-f4307926-5b47-4e73-83fe-c43b0e90aaf6')\"\n",
              "              title=\"Convert this dataframe to an interactive table.\"\n",
              "              style=\"display:none;\">\n",
              "        \n",
              "  <svg xmlns=\"http://www.w3.org/2000/svg\" height=\"24px\"viewBox=\"0 0 24 24\"\n",
              "       width=\"24px\">\n",
              "    <path d=\"M0 0h24v24H0V0z\" fill=\"none\"/>\n",
              "    <path d=\"M18.56 5.44l.94 2.06.94-2.06 2.06-.94-2.06-.94-.94-2.06-.94 2.06-2.06.94zm-11 1L8.5 8.5l.94-2.06 2.06-.94-2.06-.94L8.5 2.5l-.94 2.06-2.06.94zm10 10l.94 2.06.94-2.06 2.06-.94-2.06-.94-.94-2.06-.94 2.06-2.06.94z\"/><path d=\"M17.41 7.96l-1.37-1.37c-.4-.4-.92-.59-1.43-.59-.52 0-1.04.2-1.43.59L10.3 9.45l-7.72 7.72c-.78.78-.78 2.05 0 2.83L4 21.41c.39.39.9.59 1.41.59.51 0 1.02-.2 1.41-.59l7.78-7.78 2.81-2.81c.8-.78.8-2.07 0-2.86zM5.41 20L4 18.59l7.72-7.72 1.47 1.35L5.41 20z\"/>\n",
              "  </svg>\n",
              "      </button>\n",
              "      \n",
              "  <style>\n",
              "    .colab-df-container {\n",
              "      display:flex;\n",
              "      flex-wrap:wrap;\n",
              "      gap: 12px;\n",
              "    }\n",
              "\n",
              "    .colab-df-convert {\n",
              "      background-color: #E8F0FE;\n",
              "      border: none;\n",
              "      border-radius: 50%;\n",
              "      cursor: pointer;\n",
              "      display: none;\n",
              "      fill: #1967D2;\n",
              "      height: 32px;\n",
              "      padding: 0 0 0 0;\n",
              "      width: 32px;\n",
              "    }\n",
              "\n",
              "    .colab-df-convert:hover {\n",
              "      background-color: #E2EBFA;\n",
              "      box-shadow: 0px 1px 2px rgba(60, 64, 67, 0.3), 0px 1px 3px 1px rgba(60, 64, 67, 0.15);\n",
              "      fill: #174EA6;\n",
              "    }\n",
              "\n",
              "    [theme=dark] .colab-df-convert {\n",
              "      background-color: #3B4455;\n",
              "      fill: #D2E3FC;\n",
              "    }\n",
              "\n",
              "    [theme=dark] .colab-df-convert:hover {\n",
              "      background-color: #434B5C;\n",
              "      box-shadow: 0px 1px 3px 1px rgba(0, 0, 0, 0.15);\n",
              "      filter: drop-shadow(0px 1px 2px rgba(0, 0, 0, 0.3));\n",
              "      fill: #FFFFFF;\n",
              "    }\n",
              "  </style>\n",
              "\n",
              "      <script>\n",
              "        const buttonEl =\n",
              "          document.querySelector('#df-f4307926-5b47-4e73-83fe-c43b0e90aaf6 button.colab-df-convert');\n",
              "        buttonEl.style.display =\n",
              "          google.colab.kernel.accessAllowed ? 'block' : 'none';\n",
              "\n",
              "        async function convertToInteractive(key) {\n",
              "          const element = document.querySelector('#df-f4307926-5b47-4e73-83fe-c43b0e90aaf6');\n",
              "          const dataTable =\n",
              "            await google.colab.kernel.invokeFunction('convertToInteractive',\n",
              "                                                     [key], {});\n",
              "          if (!dataTable) return;\n",
              "\n",
              "          const docLinkHtml = 'Like what you see? Visit the ' +\n",
              "            '<a target=\"_blank\" href=https://colab.research.google.com/notebooks/data_table.ipynb>data table notebook</a>'\n",
              "            + ' to learn more about interactive tables.';\n",
              "          element.innerHTML = '';\n",
              "          dataTable['output_type'] = 'display_data';\n",
              "          await google.colab.output.renderOutput(dataTable, element);\n",
              "          const docLink = document.createElement('div');\n",
              "          docLink.innerHTML = docLinkHtml;\n",
              "          element.appendChild(docLink);\n",
              "        }\n",
              "      </script>\n",
              "    </div>\n",
              "  </div>\n",
              "  "
            ],
            "text/plain": [
              "                                                Text  Label\n",
              "0         bhaunk bhaunk ke pagal ho jaata ab tak....      0\n",
              "1  shivsaina  nam mulla  saina  rakh  hijra  uddh...      0\n",
              "2  there are some yahodi daboo like imran chore z...      0\n",
              "3  chutiye ye hunduism ni he islam he , isme koi ...      0\n",
              "4  han g rakhail e awal kiya bak rai hai. kisay a...      0"
            ]
          },
          "execution_count": 12,
          "metadata": {},
          "output_type": "execute_result"
        }
      ],
      "source": [
        "hate=df.loc[df['Label']==0]\n",
        "hate.head()"
      ]
    },
    {
      "cell_type": "code",
      "execution_count": null,
      "metadata": {
        "colab": {
          "base_uri": "https://localhost:8080/",
          "height": 281
        },
        "id": "SW3lTjSORtnX",
        "outputId": "f4543375-a9d3-44c6-b354-8c05e2f12d13"
      },
      "outputs": [
        {
          "data": {
            "image/png": "[encoded data removed]",
            "text/plain": [
              "<Figure size 432x288 with 1 Axes>"
            ]
          },
          "metadata": {},
          "output_type": "display_data"
        }
      ],
      "source": [
        "Neu = df[df['Label'] == 1].shape[0]\n",
        "Neg = df[df['Label'] == 0].shape[0]\n",
        "# bar plot of the 3 classes\n",
        "plt.bar(15,Neg,3, label=\"Negative\")\n",
        "plt.bar(20,Neu,3, label=\"Neutral\")\n",
        "plt.legend()\n",
        "plt.ylabel('Number of examples')\n",
        "plt.title('Proportion of examples')\n",
        "plt.show()"
      ]
    },
    {
      "cell_type": "code",
      "execution_count": null,
      "metadata": {
        "id": "Ez7k5rYER3TS"
      },
      "outputs": [],
      "source": [
        ""
      ]
    },
    {
      "cell_type": "markdown",
      "metadata": {
        "id": "79d9251c"
      },
      "source": [
        "## Data Preprocessing\n",
        "#### 1. Removing Punctuations\n",
        "#### 2. Converting to Lower case\n",
        "#### 3. Removing stopwords"
      ]
    },
    {
      "cell_type": "code",
      "execution_count": null,
      "metadata": {
        "colab": {
          "base_uri": "https://localhost:8080/",
          "height": 36
        },
        "id": "bnamm4YDR3Xh",
        "outputId": "5e3d9d23-aed7-4854-92c0-288dc21082cb"
      },
      "outputs": [
        {
          "data": {
            "application/vnd.google.colaboratory.intrinsic+json": {
              "type": "string"
            },
            "text/plain": [
              "'!\"#$%&\\'()*+,-./:;<=>?@[\\\\]^_`{|}~'"
            ]
          },
          "execution_count": 14,
          "metadata": {},
          "output_type": "execute_result"
        }
      ],
      "source": [
        "import string\n",
        "string.punctuation"
      ]
    },
    {
      "cell_type": "code",
      "execution_count": null,
      "metadata": {
        "id": "62flABnQSBps"
      },
      "outputs": [],
      "source": [
        "import re\n",
        "def remove_punct(text):\n",
        "    ''' Input parameter:\n",
        "    text: (str)\n",
        "    this method is used to take each text line and check the characters if it\n",
        "    contains any puntuation and then remove them with blank space'''  \n",
        "    text  = \"\".join([char for [char] in text if char not in string.punctuation])\n",
        "    text = re.sub('[0-9]+', '', text)\n",
        "    return text\n"
      ]
    },
    {
      "cell_type": "code",
      "execution_count": null,
      "metadata": {
        "id": "Lqj-BA-hSBtb"
      },
      "outputs": [],
      "source": [
        "# removing all the punctuation\n",
        "df['Text'] = df['Text'].apply(lambda x: remove_punct(str(x))) "
      ]
    },
    {
      "cell_type": "code",
      "execution_count": null,
      "metadata": {
        "colab": {
          "base_uri": "https://localhost:8080/"
        },
        "id": "a3KB0WluSK9_",
        "outputId": "aa14e32c-ebae-4f51-f9b0-f7b99204c69b"
      },
      "outputs": [
        {
          "data": {
            "text/plain": [
              "0               bhaunk bhaunk ke pagal ho jaata ab tak\n",
              "1    shivsaina  nam mulla  saina  rakh  hijra  uddh...\n",
              "2    there are some yahodi daboo like imran chore z...\n",
              "3    chutiye ye hunduism ni he islam he  isme koi k...\n",
              "4    han g rakhail e awal kiya bak rai hai kisay ah...\n",
              "Name: Text, dtype: object"
            ]
          },
          "execution_count": 17,
          "metadata": {},
          "output_type": "execute_result"
        }
      ],
      "source": [
        "df['Text'].head()"
      ]
    },
    {
      "cell_type": "code",
      "execution_count": null,
      "metadata": {
        "id": "xHZlVJaOSLFT"
      },
      "outputs": [],
      "source": [
        ""
      ]
    },
    {
      "cell_type": "markdown",
      "metadata": {
        "id": "b07d046c"
      },
      "source": [
        "#### Converting the text corpus to Lower Case"
      ]
    },
    {
      "cell_type": "code",
      "execution_count": null,
      "metadata": {
        "id": "FuAppufSSLM5"
      },
      "outputs": [],
      "source": [
        "def convert_to_lower_case(text):\n",
        "    ''' Input parameter:\n",
        "    text: (str)\n",
        "    this method is used to take each text line and converts the characters  into lower case and joins them further'''\n",
        "    text  = \"\".join([char.lower() for [char] in text if char not in string.punctuation])\n",
        "    return text\n"
      ]
    },
    {
      "cell_type": "code",
      "execution_count": null,
      "metadata": {
        "id": "5bhw_nhcSLUe"
      },
      "outputs": [],
      "source": [
        "df['Text'] = df['Text'].apply(lambda x: convert_to_lower_case(str(x))) #calling lower case on each line"
      ]
    },
    {
      "cell_type": "code",
      "execution_count": null,
      "metadata": {
        "colab": {
          "base_uri": "https://localhost:8080/"
        },
        "id": "kTuY8xR1Sh3A",
        "outputId": "f63dcb46-fc72-4500-8eca-87c9af26fbf9"
      },
      "outputs": [
        {
          "data": {
            "text/plain": [
              "0               bhaunk bhaunk ke pagal ho jaata ab tak\n",
              "1    shivsaina  nam mulla  saina  rakh  hijra  uddh...\n",
              "2    there are some yahodi daboo like imran chore z...\n",
              "3    chutiye ye hunduism ni he islam he  isme koi k...\n",
              "4    han g rakhail e awal kiya bak rai hai kisay ah...\n",
              "Name: Text, dtype: object"
            ]
          },
          "execution_count": 20,
          "metadata": {},
          "output_type": "execute_result"
        }
      ],
      "source": [
        "df['Text'].head()"
      ]
    },
    {
      "cell_type": "code",
      "execution_count": null,
      "metadata": {
        "id": "3AGdjJOuSiET"
      },
      "outputs": [],
      "source": [
        ""
      ]
    },
    {
      "cell_type": "markdown",
      "metadata": {
        "id": "040b7bc2"
      },
      "source": [
        "### Removing Stopwords"
      ]
    },
    {
      "cell_type": "code",
      "execution_count": null,
      "metadata": {
        "id": "Xu0dVimJStIZ"
      },
      "outputs": [],
      "source": [
        "stopwords=['ai', 'ayi', 'hy', 'hai', 'main', 'ki', 'tha', 'koi', 'ko', 'sy', 'woh', 'bhi', 'aur', 'wo', 'yeh', 'rha', \n",
        "           'hota', 'ho', 'ga', 'ka', 'le', 'lye', 'kr', 'kar', 'lye', 'liye', 'hotay', 'waisay', 'gya', 'gaya', 'kch',\n",
        "           'ab', 'thy', 'thay', 'houn', 'hain', 'han', 'to','is', 'hi', 'jo', 'kya', 'thi', 'se', 'pe', 'phr', 'wala',\n",
        "           'waisay', 'us', 'na', 'ny', 'hun', 'rha', 'raha', 'ja', 'rahay', 'abi', 'uski', 'ne', 'haan', 'acha', 'nai',\n",
        "           'sent', 'you', 'kafi', 'gai', 'rhy', 'kuch', 'jata', 'aye', 'ya', 'dono', 'hoa', 'aese', 'de', 'wohi',\n",
        "           'jati', 'jb', 'krta', 'lg', 'rahi', 'hui', 'karna', 'krna', 'gi', 'hova', 'yehi', 'jana', 'jye', 'chal', 'mil',\n",
        "           'tu', 'hum', 'par', 'hay', 'kis', 'sb', 'gy', 'dain', 'krny', 'tou','h','je','or','jee','he','in','un','kay','ki','ya','ap','meri','me']\n"
      ]
    },
    {
      "cell_type": "code",
      "execution_count": null,
      "metadata": {
        "id": "cwnZyHgxStWL"
      },
      "outputs": [],
      "source": [
        "dictStopWords = {} # global variable\n",
        "forFastTextData = []\n",
        "def removeStopWordss(text):\n",
        "    text = re.sub('[^a-zA-Z]',' ',str(text))\n",
        "    text = text.lower()\n",
        "    wordList =str(text).split()\n",
        "    for word in wordList:\n",
        "        if word in stopwords:\n",
        "            wordList.remove(word)\n",
        "            if word not in dictStopWords:\n",
        "                dictStopWords[word]= 1\n",
        "            else:\n",
        "                dictStopWords[word] = dictStopWords[word] + 1\n",
        "    newSentence = \" \".join(wordList)\n",
        "    forFastTextData.append(newSentence.split())\n",
        "    return (newSentence)"
      ]
    },
    {
      "cell_type": "code",
      "execution_count": null,
      "metadata": {
        "id": "-19pDmLPStaN"
      },
      "outputs": [],
      "source": [
        "df['Text'] = df['Text'].apply(lambda x: removeStopWordss(x)) # sentence with removed stop words"
      ]
    },
    {
      "cell_type": "code",
      "execution_count": null,
      "metadata": {
        "colab": {
          "base_uri": "https://localhost:8080/"
        },
        "id": "FVmNjdeSStcU",
        "outputId": "1a81f7d4-3900-4aaf-9ab5-d059f7855215"
      },
      "outputs": [
        {
          "data": {
            "text/plain": [
              "{'hai': 1911,\n",
              " 'hain': 607,\n",
              " 'ho': 919,\n",
              " 'ka': 1174,\n",
              " 'ki': 1711,\n",
              " 'ko': 1438,\n",
              " 'me': 577,\n",
              " 'na': 552,\n",
              " 'se': 860,\n",
              " 'to': 1040}"
            ]
          },
          "execution_count": 24,
          "metadata": {},
          "output_type": "execute_result"
        }
      ],
      "source": [
        "## checking for most common stopwords from the dictionary\n",
        "import collections\n",
        "from collections import Counter\n",
        "dictGraph = {}\n",
        "d = Counter(dictStopWords) # creating a counter \n",
        "d.most_common(10) \n",
        "for k,v in d.most_common(10):\n",
        "    dictGraph[k] = v\n",
        "dictGraph"
      ]
    },
    {
      "cell_type": "code",
      "execution_count": null,
      "metadata": {
        "colab": {
          "base_uri": "https://localhost:8080/",
          "height": 295
        },
        "id": "724u2oOaS5wj",
        "outputId": "0941a7f6-72b2-48c6-f626-f76548570265"
      },
      "outputs": [
        {
          "data": {
            "image/png": "[encoded data removed]",
            "text/plain": [
              "<Figure size 432x288 with 1 Axes>"
            ]
          },
          "metadata": {},
          "output_type": "display_data"
        }
      ],
      "source": [
        "#plotting a graph of 10 most common stopwords from dictionary\n",
        "plt.bar(dictGraph.keys(), dictGraph.values(), align='center', color = 'green')\n",
        "plt.title('Bargraph for Most Common StopWords')\n",
        "plt.xlabel('StopWords')\n",
        "plt.ylabel('Count')\n",
        "plt.show()"
      ]
    },
    {
      "cell_type": "code",
      "execution_count": null,
      "metadata": {
        "colab": {
          "base_uri": "https://localhost:8080/"
        },
        "id": "g-Qx8DWOTEwb",
        "outputId": "eca370e4-3ba6-46d2-c1eb-138664ac44d5"
      },
      "outputs": [
        {
          "data": {
            "text/plain": [
              "10789"
            ]
          },
          "execution_count": 26,
          "metadata": {},
          "output_type": "execute_result"
        }
      ],
      "source": [
        "sum(dictGraph.values())"
      ]
    },
    {
      "cell_type": "code",
      "execution_count": null,
      "metadata": {
        "id": "yWvsSm0tTE6Q"
      },
      "outputs": [],
      "source": [
        ""
      ]
    },
    {
      "cell_type": "markdown",
      "metadata": {
        "id": "18d8aca7"
      },
      "source": [
        "### Removal of Characters(Stemming)"
      ]
    },
    {
      "cell_type": "code",
      "execution_count": null,
      "metadata": {
        "id": "IxQ2Nno4XiUc"
      },
      "outputs": [],
      "source": [
        "def replacing_characters(word):\n",
        "    ''' Input Parameter: \n",
        "    word: word from the sentences'''\n",
        " \n",
        "    word = re.sub(r'ain$', r'ein', word)\n",
        "    word = re.sub(r'ai', r'ae', word)\n",
        "    word = re.sub(r'ay$', r'e', word)\n",
        "    word = re.sub(r'ey$', r'e', word)\n",
        "    word = re.sub(r'aa+', r'aa', word)\n",
        "    word = re.sub(r'e+', r'ee', word)\n",
        "    word = re.sub(r'ai', r'ahi', word) # e.g \"sahi and sai nahi\"\n",
        "    word = re.sub(r'ai', r'ahi', word)\n",
        "    word = re.sub(r'ie$', r'y', word)\n",
        "    word = re.sub(r'^es', r'is', word)\n",
        "    word = re.sub(r'a+', r'a', word)\n",
        "    word = re.sub(r'j+', r'j', word)\n",
        "    word = re.sub(r'd+', r'd', word)\n",
        "    word = re.sub(r'u', r'o', word)\n",
        "    word = re.sub(r'o+', r'o', word)\n",
        "    if not re.match(r'ar', word):\n",
        "        word = re.sub(r'ar', r'r', word)\n",
        "        word = re.sub(r'iy+', r'i', word)\n",
        "        word = re.sub(r'ih+', r'eh', word)\n",
        "        word = re.sub(r's+', r's', word)\n",
        "    if re.search(r'[rst]y', 'word') and word[-1] != 'y':\n",
        "        word = re.sub(r'y', r'i', word)\n",
        "    if re.search(r'[^a]i', word):\n",
        "        word = re.sub(r'i$', r'y', word)\n",
        "    if re.search(r'[a-z]h', word):\n",
        "        word = re.sub(r'h', '', word)\n",
        "    return word"
      ]
    },
    {
      "cell_type": "code",
      "execution_count": null,
      "metadata": {
        "id": "OvtQr3qJXiV5"
      },
      "outputs": [],
      "source": [
        "df['Text'] = df['Text'].apply(lambda x: replacing_characters(x))"
      ]
    },
    {
      "cell_type": "code",
      "execution_count": null,
      "metadata": {
        "colab": {
          "base_uri": "https://localhost:8080/"
        },
        "id": "1c43DIVPXiZ3",
        "outputId": "0593304e-aeca-443c-8f9e-897a12bad101"
      },
      "outputs": [
        {
          "data": {
            "text/plain": [
              "0                       baonk baonk kee pagal jata tak\n",
              "1    sivsaeena nam molla saeena rak ijra odav tacke...\n",
              "2    teeree ree somee yaodi dabo likee imran coree ...\n",
              "3    cotiee yee ondoism ni islam ismee kisi moslim ...\n",
              "4    g rakaeel ee awal kia bak raee kisay amaq ka r...\n",
              "Name: Text, dtype: object"
            ]
          },
          "execution_count": 29,
          "metadata": {},
          "output_type": "execute_result"
        }
      ],
      "source": [
        "df['Text'].head()"
      ]
    },
    {
      "cell_type": "markdown",
      "metadata": {
        "id": "xJcoREXiX3Tq"
      },
      "source": [
        "## Importing Pretrained Word2vec embeddings"
      ]
    },
    {
      "cell_type": "code",
      "execution_count": null,
      "metadata": {
        "id": "PtvsKUm_X_T3"
      },
      "outputs": [],
      "source": [
        "import gensim"
      ]
    },
    {
      "cell_type": "code",
      "execution_count": null,
      "metadata": {
        "id": "Obq05PAyYD7Z"
      },
      "outputs": [],
      "source": [
        "m = gensim.models.KeyedVectors.load_word2vec_format('/content/drive/MyDrive/FYP /vectors500000.txt')"
      ]
    },
    {
      "cell_type": "code",
      "execution_count": null,
      "metadata": {
        "colab": {
          "base_uri": "https://localhost:8080/"
        },
        "id": "fF39iBYYYJrI",
        "outputId": "008fe3a5-b6d8-4414-d147-e5aa8f2d70df"
      },
      "outputs": [
        {
          "name": "stdout",
          "output_type": "stream",
          "text": [
            "Vocabulary Size: 31307 - Embedding Dim: 300\n"
          ]
        }
      ],
      "source": [
        "w2v_weights = m.vectors\n",
        "vocab_size, embedding_size = w2v_weights.shape\n",
        "print(\"Vocabulary Size: {} - Embedding Dim: {}\".format(vocab_size, embedding_size))"
      ]
    },
    {
      "cell_type": "markdown",
      "metadata": {
        "id": "bc545c7c"
      },
      "source": [
        "**Test Train Split**"
      ]
    },
    {
      "cell_type": "code",
      "execution_count": 3,
      "metadata": {
        "colab": {
          "base_uri": "https://localhost:8080/",
          "height": 424
        },
        "id": "r_RqOKBZZLSt",
        "outputId": "61631bbc-40da-47df-b434-479fcf9fc74f"
      },
      "outputs": [
        {
          "output_type": "execute_result",
          "data": {
            "text/plain": [
              "      Unnamed: 0                                               Text  Label\n",
              "0              0                     baonk baonk kee pagal jata tak      0\n",
              "1              1  sivsaeena nam molla saeena rak ijra odav tacke...      0\n",
              "2              2  teeree ree somee yaodi dabo likee imran coree ...      0\n",
              "3              3  cotiee yee ondoism ni islam ismee kisi moslim ...      0\n",
              "4              4  g rakaeel ee awal kia bak raee kisay amaq ka r...      0\n",
              "...          ...                                                ...    ...\n",
              "9205        1997  keesee gali dynee palee soc lia kro gali dyta ...      1\n",
              "9206        1998                                      madrbord saly      0\n",
              "9207        1999  frog naseem osee reepreeseent mqm baldia firee...      0\n",
              "9208        2000                                kod bci samjti saly      0\n",
              "9209        2001                           rt beencod ow stop osing      0\n",
              "\n",
              "[9210 rows x 3 columns]"
            ],
            "text/html": [
              "\n",
              "  <div id=\"df-fa0900c6-24ab-44d9-ac39-3c02a97ebac2\">\n",
              "    <div class=\"colab-df-container\">\n",
              "      <div>\n",
              "<style scoped>\n",
              "    .dataframe tbody tr th:only-of-type {\n",
              "        vertical-align: middle;\n",
              "    }\n",
              "\n",
              "    .dataframe tbody tr th {\n",
              "        vertical-align: top;\n",
              "    }\n",
              "\n",
              "    .dataframe thead th {\n",
              "        text-align: right;\n",
              "    }\n",
              "</style>\n",
              "<table border=\"1\" class=\"dataframe\">\n",
              "  <thead>\n",
              "    <tr style=\"text-align: right;\">\n",
              "      <th></th>\n",
              "      <th>Unnamed: 0</th>\n",
              "      <th>Text</th>\n",
              "      <th>Label</th>\n",
              "    </tr>\n",
              "  </thead>\n",
              "  <tbody>\n",
              "    <tr>\n",
              "      <th>0</th>\n",
              "      <td>0</td>\n",
              "      <td>baonk baonk kee pagal jata tak</td>\n",
              "      <td>0</td>\n",
              "    </tr>\n",
              "    <tr>\n",
              "      <th>1</th>\n",
              "      <td>1</td>\n",
              "      <td>sivsaeena nam molla saeena rak ijra odav tacke...</td>\n",
              "      <td>0</td>\n",
              "    </tr>\n",
              "    <tr>\n",
              "      <th>2</th>\n",
              "      <td>2</td>\n",
              "      <td>teeree ree somee yaodi dabo likee imran coree ...</td>\n",
              "      <td>0</td>\n",
              "    </tr>\n",
              "    <tr>\n",
              "      <th>3</th>\n",
              "      <td>3</td>\n",
              "      <td>cotiee yee ondoism ni islam ismee kisi moslim ...</td>\n",
              "      <td>0</td>\n",
              "    </tr>\n",
              "    <tr>\n",
              "      <th>4</th>\n",
              "      <td>4</td>\n",
              "      <td>g rakaeel ee awal kia bak raee kisay amaq ka r...</td>\n",
              "      <td>0</td>\n",
              "    </tr>\n",
              "    <tr>\n",
              "      <th>...</th>\n",
              "      <td>...</td>\n",
              "      <td>...</td>\n",
              "      <td>...</td>\n",
              "    </tr>\n",
              "    <tr>\n",
              "      <th>9205</th>\n",
              "      <td>1997</td>\n",
              "      <td>keesee gali dynee palee soc lia kro gali dyta ...</td>\n",
              "      <td>1</td>\n",
              "    </tr>\n",
              "    <tr>\n",
              "      <th>9206</th>\n",
              "      <td>1998</td>\n",
              "      <td>madrbord saly</td>\n",
              "      <td>0</td>\n",
              "    </tr>\n",
              "    <tr>\n",
              "      <th>9207</th>\n",
              "      <td>1999</td>\n",
              "      <td>frog naseem osee reepreeseent mqm baldia firee...</td>\n",
              "      <td>0</td>\n",
              "    </tr>\n",
              "    <tr>\n",
              "      <th>9208</th>\n",
              "      <td>2000</td>\n",
              "      <td>kod bci samjti saly</td>\n",
              "      <td>0</td>\n",
              "    </tr>\n",
              "    <tr>\n",
              "      <th>9209</th>\n",
              "      <td>2001</td>\n",
              "      <td>rt beencod ow stop osing</td>\n",
              "      <td>0</td>\n",
              "    </tr>\n",
              "  </tbody>\n",
              "</table>\n",
              "<p>9210 rows × 3 columns</p>\n",
              "</div>\n",
              "      <button class=\"colab-df-convert\" onclick=\"convertToInteractive('df-fa0900c6-24ab-44d9-ac39-3c02a97ebac2')\"\n",
              "              title=\"Convert this dataframe to an interactive table.\"\n",
              "              style=\"display:none;\">\n",
              "        \n",
              "  <svg xmlns=\"http://www.w3.org/2000/svg\" height=\"24px\"viewBox=\"0 0 24 24\"\n",
              "       width=\"24px\">\n",
              "    <path d=\"M0 0h24v24H0V0z\" fill=\"none\"/>\n",
              "    <path d=\"M18.56 5.44l.94 2.06.94-2.06 2.06-.94-2.06-.94-.94-2.06-.94 2.06-2.06.94zm-11 1L8.5 8.5l.94-2.06 2.06-.94-2.06-.94L8.5 2.5l-.94 2.06-2.06.94zm10 10l.94 2.06.94-2.06 2.06-.94-2.06-.94-.94-2.06-.94 2.06-2.06.94z\"/><path d=\"M17.41 7.96l-1.37-1.37c-.4-.4-.92-.59-1.43-.59-.52 0-1.04.2-1.43.59L10.3 9.45l-7.72 7.72c-.78.78-.78 2.05 0 2.83L4 21.41c.39.39.9.59 1.41.59.51 0 1.02-.2 1.41-.59l7.78-7.78 2.81-2.81c.8-.78.8-2.07 0-2.86zM5.41 20L4 18.59l7.72-7.72 1.47 1.35L5.41 20z\"/>\n",
              "  </svg>\n",
              "      </button>\n",
              "      \n",
              "  <style>\n",
              "    .colab-df-container {\n",
              "      display:flex;\n",
              "      flex-wrap:wrap;\n",
              "      gap: 12px;\n",
              "    }\n",
              "\n",
              "    .colab-df-convert {\n",
              "      background-color: #E8F0FE;\n",
              "      border: none;\n",
              "      border-radius: 50%;\n",
              "      cursor: pointer;\n",
              "      display: none;\n",
              "      fill: #1967D2;\n",
              "      height: 32px;\n",
              "      padding: 0 0 0 0;\n",
              "      width: 32px;\n",
              "    }\n",
              "\n",
              "    .colab-df-convert:hover {\n",
              "      background-color: #E2EBFA;\n",
              "      box-shadow: 0px 1px 2px rgba(60, 64, 67, 0.3), 0px 1px 3px 1px rgba(60, 64, 67, 0.15);\n",
              "      fill: #174EA6;\n",
              "    }\n",
              "\n",
              "    [theme=dark] .colab-df-convert {\n",
              "      background-color: #3B4455;\n",
              "      fill: #D2E3FC;\n",
              "    }\n",
              "\n",
              "    [theme=dark] .colab-df-convert:hover {\n",
              "      background-color: #434B5C;\n",
              "      box-shadow: 0px 1px 3px 1px rgba(0, 0, 0, 0.15);\n",
              "      filter: drop-shadow(0px 1px 2px rgba(0, 0, 0, 0.3));\n",
              "      fill: #FFFFFF;\n",
              "    }\n",
              "  </style>\n",
              "\n",
              "      <script>\n",
              "        const buttonEl =\n",
              "          document.querySelector('#df-fa0900c6-24ab-44d9-ac39-3c02a97ebac2 button.colab-df-convert');\n",
              "        buttonEl.style.display =\n",
              "          google.colab.kernel.accessAllowed ? 'block' : 'none';\n",
              "\n",
              "        async function convertToInteractive(key) {\n",
              "          const element = document.querySelector('#df-fa0900c6-24ab-44d9-ac39-3c02a97ebac2');\n",
              "          const dataTable =\n",
              "            await google.colab.kernel.invokeFunction('convertToInteractive',\n",
              "                                                     [key], {});\n",
              "          if (!dataTable) return;\n",
              "\n",
              "          const docLinkHtml = 'Like what you see? Visit the ' +\n",
              "            '<a target=\"_blank\" href=https://colab.research.google.com/notebooks/data_table.ipynb>data table notebook</a>'\n",
              "            + ' to learn more about interactive tables.';\n",
              "          element.innerHTML = '';\n",
              "          dataTable['output_type'] = 'display_data';\n",
              "          await google.colab.output.renderOutput(dataTable, element);\n",
              "          const docLink = document.createElement('div');\n",
              "          docLink.innerHTML = docLinkHtml;\n",
              "          element.appendChild(docLink);\n",
              "        }\n",
              "      </script>\n",
              "    </div>\n",
              "  </div>\n",
              "  "
            ]
          },
          "metadata": {},
          "execution_count": 3
        }
      ],
      "source": [
        "df=pd.read_csv('/content/drive/MyDrive/FYP /preprocessed_df.csv')\n",
        "df.drop(['Sen_Out_StopWord'],axis=1)"
      ]
    },
    {
      "cell_type": "code",
      "execution_count": 4,
      "metadata": {
        "id": "80_2lgLBYQDQ"
      },
      "outputs": [],
      "source": [
        "from sklearn.model_selection import train_test_split"
      ]
    },
    {
      "cell_type": "code",
      "execution_count": 5,
      "metadata": {
        "id": "5Quf7PkFbPMy"
      },
      "outputs": [],
      "source": [
        "X=df['Text']\n",
        "y=df['Label']\n",
        "X_train, X_test, y_train, y_test = train_test_split( X, y, test_size=0.20, random_state=42)"
      ]
    },
    {
      "cell_type": "code",
      "execution_count": 6,
      "metadata": {
        "colab": {
          "base_uri": "https://localhost:8080/"
        },
        "id": "CUWnCBGPbbRR",
        "outputId": "58c37057-5278-4a70-d782-160aa3fb2d81"
      },
      "outputs": [
        {
          "output_type": "stream",
          "name": "stdout",
          "text": [
            "train data:(7368,), train labels:(7368,),test data:(1842,), test labels:(1842,)\n"
          ]
        }
      ],
      "source": [
        "print(f'train data:{X_train.shape}, train labels:{y_train.shape},test data:{X_test.shape}, test labels:{y_test.shape}')"
      ]
    },
    {
      "cell_type": "markdown",
      "metadata": {
        "id": "PRI3l0zYnne5"
      },
      "source": [
        "**Tokenization**"
      ]
    },
    {
      "cell_type": "code",
      "execution_count": 7,
      "metadata": {
        "colab": {
          "base_uri": "https://localhost:8080/"
        },
        "id": "HrZd7fA2Lje5",
        "outputId": "48cceaec-b7a3-44a1-cbce-2a0066f01781"
      },
      "outputs": [
        {
          "output_type": "execute_result",
          "data": {
            "text/plain": [
              "66"
            ]
          },
          "metadata": {},
          "execution_count": 7
        }
      ],
      "source": [
        "count = df['Text'].str.split().apply(len)\n",
        "count=count.sort_values(axis=0, ascending=False, inplace=False, kind='quicksort', na_position='last', ignore_index=False, key=None)\n",
        "MAX_SEQUENCE_LENGTH=count.iloc[0]+10\n",
        "MAX_SEQUENCE_LENGTH"
      ]
    },
    {
      "cell_type": "code",
      "execution_count": 8,
      "metadata": {
        "colab": {
          "base_uri": "https://localhost:8080/"
        },
        "id": "KIMLUp1fnufD",
        "outputId": "7ff39cc2-4d27-490e-83d4-c1f298851296"
      },
      "outputs": [
        {
          "output_type": "stream",
          "name": "stdout",
          "text": [
            "Vocabulary Size : 15686\n"
          ]
        }
      ],
      "source": [
        "tokenizer = Tokenizer()\n",
        "tokenizer.fit_on_texts(X_train)\n",
        "\n",
        "word_index = tokenizer.word_index\n",
        "vocab_size = len(tokenizer.word_index) + 1\n",
        "print(\"Vocabulary Size :\", vocab_size)"
      ]
    },
    {
      "cell_type": "code",
      "execution_count": 9,
      "metadata": {
        "colab": {
          "base_uri": "https://localhost:8080/"
        },
        "id": "MC-Wa1Yup4JW",
        "outputId": "9d9bc5d9-6ffb-49c3-d873-1d388418d4d7"
      },
      "outputs": [
        {
          "output_type": "stream",
          "name": "stdout",
          "text": [
            "Training X Shape: (7368, 66)\n",
            "Testing X Shape: (1842, 66)\n"
          ]
        }
      ],
      "source": [
        "\n",
        "X_train = pad_sequences(tokenizer.texts_to_sequences(X_train),\n",
        "                        maxlen = MAX_SEQUENCE_LENGTH)\n",
        "X_test = pad_sequences(tokenizer.texts_to_sequences(X_test),\n",
        "                       maxlen = MAX_SEQUENCE_LENGTH)\n",
        "\n",
        "print(\"Training X Shape:\",X_train.shape)\n",
        "print(\"Testing X Shape:\",X_test.shape)"
      ]
    },
    {
      "cell_type": "markdown",
      "metadata": {
        "id": "jjSywoohVPQV"
      },
      "source": [
        "##**Simple RNN's**"
      ]
    },
    {
      "cell_type": "code",
      "execution_count": 34,
      "metadata": {
        "colab": {
          "base_uri": "https://localhost:8080/"
        },
        "id": "qvf_ptchVdvc",
        "outputId": "6e524c92-4cdb-4f24-86ec-02413a7e4326"
      },
      "outputs": [
        {
          "output_type": "stream",
          "name": "stdout",
          "text": [
            "Model: \"sequential_5\"\n",
            "_________________________________________________________________\n",
            " Layer (type)                Output Shape              Param #   \n",
            "=================================================================\n",
            " embedding_5 (Embedding)     (None, 66, 100)           1568600   \n",
            "                                                                 \n",
            " simple_rnn_5 (SimpleRNN)    (None, 50)                7550      \n",
            "                                                                 \n",
            " dropout (Dropout)           (None, 50)                0         \n",
            "                                                                 \n",
            " dense_8 (Dense)             (None, 50)                2550      \n",
            "                                                                 \n",
            " dense_9 (Dense)             (None, 1)                 51        \n",
            "                                                                 \n",
            "=================================================================\n",
            "Total params: 1,578,751\n",
            "Trainable params: 1,578,751\n",
            "Non-trainable params: 0\n",
            "_________________________________________________________________\n"
          ]
        }
      ],
      "source": [
        "#%%time\n",
        "#with strategy.scope():\n",
        "    # A simpleRNN without any pretrained embeddings and one dense layer\n",
        "model = Sequential()\n",
        "model.add(Embedding(len(word_index) + 1, 100, input_length=MAX_SEQUENCE_LENGTH))\n",
        "model.add(SimpleRNN(50,dropout=0.2))\n",
        "model.add(Dropout(0.25))\n",
        "model.add(Dense(50,activation='relu'))\n",
        "model.add(Dense(1, activation='sigmoid'))\n",
        "model.compile(loss='binary_crossentropy', optimizer='adam', metrics=['accuracy'])\n",
        "    \n",
        "model.summary()"
      ]
    },
    {
      "cell_type": "code",
      "execution_count": 35,
      "metadata": {
        "colab": {
          "base_uri": "https://localhost:8080/"
        },
        "id": "i6dsdLlOYip-",
        "outputId": "b0d2600d-f51c-420c-da0a-32e8fb1fdadb"
      },
      "outputs": [
        {
          "output_type": "stream",
          "name": "stdout",
          "text": [
            "Epoch 1/5\n",
            "29/29 [==============================] - 4s 99ms/step - loss: 0.6831 - accuracy: 0.5594 - val_loss: 0.6674 - val_accuracy: 0.5787\n",
            "Epoch 2/5\n",
            "29/29 [==============================] - 3s 89ms/step - loss: 0.5454 - accuracy: 0.7512 - val_loss: 0.5026 - val_accuracy: 0.7340\n",
            "Epoch 3/5\n",
            "29/29 [==============================] - 3s 87ms/step - loss: 0.2753 - accuracy: 0.9007 - val_loss: 0.3996 - val_accuracy: 0.8263\n",
            "Epoch 4/5\n",
            "29/29 [==============================] - 2s 84ms/step - loss: 0.0990 - accuracy: 0.9720 - val_loss: 0.3925 - val_accuracy: 0.8523\n",
            "Epoch 5/5\n",
            "29/29 [==============================] - 3s 88ms/step - loss: 0.0390 - accuracy: 0.9891 - val_loss: 0.4544 - val_accuracy: 0.8442\n"
          ]
        }
      ],
      "source": [
        "history=model.fit(X_train, y_train, epochs=5, batch_size=256,validation_data=(X_test, y_test),verbose=1)"
      ]
    },
    {
      "cell_type": "code",
      "source": [
        "scores = model.predict(X_test)\n",
        "#print(y_pred.shape)\n",
        "#y_pred = np.argmax(y_pred, axis=1)\n",
        "#print(y_pred.shape)\n",
        "\n",
        "#\n",
        "y_pred = [decode_sentiment(score) for score in scores]\n",
        "metrics.accuracy_score(y_test, y_pred)"
      ],
      "metadata": {
        "colab": {
          "base_uri": "https://localhost:8080/"
        },
        "id": "fDr09aSm7BI6",
        "outputId": "b46a6a1f-0b0f-4953-b137-13d012dcbb32"
      },
      "execution_count": 36,
      "outputs": [
        {
          "output_type": "execute_result",
          "data": {
            "text/plain": [
              "0.8441910966340934"
            ]
          },
          "metadata": {},
          "execution_count": 36
        }
      ]
    },
    {
      "cell_type": "code",
      "source": [
        "print(\"classification report:\")\n",
        "print(metrics.classification_report(y_test, y_pred))#, target_names=target_names))"
      ],
      "metadata": {
        "colab": {
          "base_uri": "https://localhost:8080/"
        },
        "id": "_ogb6skw7BVD",
        "outputId": "7b90f171-e336-4276-dc96-e6e8996465f9"
      },
      "execution_count": 37,
      "outputs": [
        {
          "output_type": "stream",
          "name": "stdout",
          "text": [
            "classification report:\n",
            "              precision    recall  f1-score   support\n",
            "\n",
            "           0       0.86      0.80      0.83       868\n",
            "           1       0.83      0.88      0.86       974\n",
            "\n",
            "    accuracy                           0.84      1842\n",
            "   macro avg       0.85      0.84      0.84      1842\n",
            "weighted avg       0.84      0.84      0.84      1842\n",
            "\n"
          ]
        }
      ]
    },
    {
      "cell_type": "code",
      "source": [
        "print(\"confusion matrix: \")\n",
        "print(metrics.confusion_matrix(y_test, y_pred))"
      ],
      "metadata": {
        "colab": {
          "base_uri": "https://localhost:8080/"
        },
        "id": "KVF6qj0w7Xxt",
        "outputId": "db7c3e65-c13f-4907-b168-5416ef279602"
      },
      "execution_count": 38,
      "outputs": [
        {
          "output_type": "stream",
          "name": "stdout",
          "text": [
            "confusion matrix: \n",
            "[[696 172]\n",
            " [115 859]]\n"
          ]
        }
      ]
    },
    {
      "cell_type": "code",
      "execution_count": 39,
      "metadata": {
        "id": "3akSppbUYhfa",
        "colab": {
          "base_uri": "https://localhost:8080/",
          "height": 279
        },
        "outputId": "f371c0b1-71cd-415d-f621-f0b4e1017dae"
      },
      "outputs": [
        {
          "output_type": "execute_result",
          "data": {
            "text/plain": [
              "Text(0.5, 1.0, 'Loss evolution')"
            ]
          },
          "metadata": {},
          "execution_count": 39
        },
        {
          "output_type": "display_data",
          "data": {
            "text/plain": [
              "<Figure size 864x576 with 1 Axes>"
            ],
            "image/png": "[encoded data removed]"
          },
          "metadata": {
            "needs_background": "light"
          }
        }
      ],
      "source": [
        "plt.figure(figsize=(12, 8))\n",
        "plt.subplot(2, 2, 1)\n",
        "plt.plot(history.history['loss'], label='Loss')\n",
        "plt.plot(history.history['val_loss'], label='val_Loss')\n",
        "plt.legend()\n",
        "plt.grid()\n",
        "plt.title('Loss evolution')\n"
      ]
    },
    {
      "cell_type": "code",
      "source": [
        "plt.subplot(1, 1, 1)\n",
        "plt.plot(history.history['accuracy'], label='accuracy')\n",
        "plt.plot(history.history['val_accuracy'], label='val_accuracy')\n",
        "plt.legend()\n",
        "plt.grid()\n",
        "plt.title('Accuracy evolution')"
      ],
      "metadata": {
        "colab": {
          "base_uri": "https://localhost:8080/",
          "height": 298
        },
        "id": "d9_R2IsV8N0z",
        "outputId": "672002f2-0bef-4c51-fe7e-9d167d175640"
      },
      "execution_count": 40,
      "outputs": [
        {
          "output_type": "execute_result",
          "data": {
            "text/plain": [
              "Text(0.5, 1.0, 'Accuracy evolution')"
            ]
          },
          "metadata": {},
          "execution_count": 40
        },
        {
          "output_type": "display_data",
          "data": {
            "text/plain": [
              "<Figure size 432x288 with 1 Axes>"
            ],
            "image/png": "[encoded data removed]"
          },
          "metadata": {
            "needs_background": "light"
          }
        }
      ]
    },
    {
      "cell_type": "markdown",
      "metadata": {
        "id": "5NLVzLeLnQb-"
      },
      "source": [
        "## **Bi-Directional LSTM**"
      ]
    },
    {
      "cell_type": "code",
      "execution_count": 13,
      "metadata": {
        "colab": {
          "base_uri": "https://localhost:8080/"
        },
        "id": "d4113r68cIX7",
        "outputId": "a43cc36a-08ae-4729-86b9-4de198c5819c"
      },
      "outputs": [
        {
          "output_type": "stream",
          "name": "stdout",
          "text": [
            "Epoch 1/5\n",
            "29/29 [==============================] - 21s 434ms/step - loss: 0.6436 - accuracy: 0.6374 - val_loss: 0.5289 - val_accuracy: 0.8284\n",
            "Epoch 2/5\n",
            "29/29 [==============================] - 10s 361ms/step - loss: 0.3528 - accuracy: 0.9007 - val_loss: 0.3810 - val_accuracy: 0.8572\n",
            "Epoch 3/5\n",
            "29/29 [==============================] - 10s 358ms/step - loss: 0.1522 - accuracy: 0.9577 - val_loss: 0.4219 - val_accuracy: 0.8556\n",
            "Epoch 4/5\n",
            "29/29 [==============================] - 10s 355ms/step - loss: 0.0731 - accuracy: 0.9810 - val_loss: 0.5207 - val_accuracy: 0.8637\n",
            "Epoch 5/5\n",
            "29/29 [==============================] - 10s 360ms/step - loss: 0.0424 - accuracy: 0.9893 - val_loss: 0.6057 - val_accuracy: 0.8599\n"
          ]
        }
      ],
      "source": [
        "\n",
        "model = Sequential()\n",
        "\n",
        "# Keras Embedding layer with Word2Vec weights initialization\n",
        "model.add(Embedding(input_dim=31307,\n",
        "                    output_dim=embedding_size,\n",
        "                    weights=[w2v_weights],\n",
        "                    input_length=MAX_SEQUENCE_LENGTH,\n",
        "                    mask_zero=True,\n",
        "                    trainable=False))\n",
        "#model.add(Dropout(0.25))\n",
        "#model.add(Conv1D(128, 3, activation='relu'))\n",
        "model.add(Bidirectional(LSTM(100, dropout=0.3)))\n",
        "#model.add(Dense(512,activation='relu'))\n",
        "model.add(Dense(1,activation='sigmoid'))\n",
        "\n",
        "model.compile(optimizer='adam', loss='binary_crossentropy',\n",
        "              metrics=['accuracy'])\n",
        "#ReduceLROnPlateau = ReduceLROnPlateau(factor=0.1, min_lr = 0.01, monitor = 'val_loss',verbose = 1)\n",
        "history = model.fit(X_train, y_train, epochs=5, batch_size=256,\n",
        "                    validation_data=(X_test, y_test), verbose=1)"
      ]
    },
    {
      "cell_type": "code",
      "execution_count": 20,
      "metadata": {
        "id": "Zf1IFqAHkkdr"
      },
      "outputs": [],
      "source": [
        "def decode_sentiment(score):\n",
        "    return 1 if score>0.5 else 0"
      ]
    },
    {
      "cell_type": "code",
      "execution_count": 21,
      "metadata": {
        "colab": {
          "base_uri": "https://localhost:8080/"
        },
        "id": "_RJeqHfKRoeC",
        "outputId": "f5484853-f4ed-422d-c268-33d9e5c8163b"
      },
      "outputs": [
        {
          "output_type": "execute_result",
          "data": {
            "text/plain": [
              "0.8604777415852335"
            ]
          },
          "metadata": {},
          "execution_count": 21
        }
      ],
      "source": [
        "from sklearn import metrics\n",
        "scores = model.predict(X_test)\n",
        "#print(y_pred.shape)\n",
        "#y_pred = np.argmax(y_pred, axis=1)\n",
        "#print(y_pred.shape)\n",
        "\n",
        "#\n",
        "y_pred = [decode_sentiment(score) for score in scores]\n",
        "metrics.accuracy_score(y_test, y_pred)"
      ]
    },
    {
      "cell_type": "code",
      "execution_count": 16,
      "metadata": {
        "colab": {
          "base_uri": "https://localhost:8080/"
        },
        "id": "J9CWxq6gfjYu",
        "outputId": "b889f5f6-0ad9-4a23-f4ea-2ae06b2e974e"
      },
      "outputs": [
        {
          "output_type": "stream",
          "name": "stdout",
          "text": [
            "classification report:\n",
            "              precision    recall  f1-score   support\n",
            "\n",
            "           0       0.85      0.85      0.85       868\n",
            "           1       0.87      0.87      0.87       974\n",
            "\n",
            "    accuracy                           0.86      1842\n",
            "   macro avg       0.86      0.86      0.86      1842\n",
            "weighted avg       0.86      0.86      0.86      1842\n",
            "\n"
          ]
        }
      ],
      "source": [
        "print(\"classification report:\")\n",
        "print(metrics.classification_report(y_test, y_pred))#, target_names=target_names))"
      ]
    },
    {
      "cell_type": "code",
      "execution_count": 17,
      "metadata": {
        "colab": {
          "base_uri": "https://localhost:8080/"
        },
        "id": "JURsk-qIfjeH",
        "outputId": "c552de6f-d243-405a-b8c1-c8a89ae463d3"
      },
      "outputs": [
        {
          "output_type": "stream",
          "name": "stdout",
          "text": [
            "confusion matrix: \n",
            "[[741 127]\n",
            " [131 843]]\n"
          ]
        }
      ],
      "source": [
        "print(\"confusion matrix: \")\n",
        "print(metrics.confusion_matrix(y_test, y_pred))"
      ]
    },
    {
      "cell_type": "code",
      "execution_count": 18,
      "metadata": {
        "colab": {
          "base_uri": "https://localhost:8080/",
          "height": 279
        },
        "id": "W32kkx6kfuDq",
        "outputId": "2d3c4320-f4a3-47ba-dc37-0d3af034e99c"
      },
      "outputs": [
        {
          "output_type": "execute_result",
          "data": {
            "text/plain": [
              "Text(0.5, 1.0, 'Loss evolution')"
            ]
          },
          "metadata": {},
          "execution_count": 18
        },
        {
          "output_type": "display_data",
          "data": {
            "text/plain": [
              "<Figure size 864x576 with 1 Axes>"
            ],
            "image/png": "[encoded data removed]"
          },
          "metadata": {
            "needs_background": "light"
          }
        }
      ],
      "source": [
        "plt.figure(figsize=(12, 8))\n",
        "plt.subplot(2, 2, 1)\n",
        "plt.plot(history.history['loss'], label='Loss')\n",
        "plt.plot(history.history['val_loss'], label='val_Loss')\n",
        "plt.legend()\n",
        "plt.grid()\n",
        "plt.title('Loss evolution')"
      ]
    },
    {
      "cell_type": "code",
      "execution_count": 19,
      "metadata": {
        "colab": {
          "base_uri": "https://localhost:8080/",
          "height": 298
        },
        "id": "bdUaEswgfuNC",
        "outputId": "f491f939-0b11-4da2-f3dc-d7a4cb4d3c4b"
      },
      "outputs": [
        {
          "output_type": "execute_result",
          "data": {
            "text/plain": [
              "Text(0.5, 1.0, 'Accuracy evolution')"
            ]
          },
          "metadata": {},
          "execution_count": 19
        },
        {
          "output_type": "display_data",
          "data": {
            "text/plain": [
              "<Figure size 432x288 with 1 Axes>"
            ],
            "image/png": "[encoded data removed]"
          },
          "metadata": {
            "needs_background": "light"
          }
        }
      ],
      "source": [
        "plt.subplot(1, 1, 1)\n",
        "plt.plot(history.history['accuracy'], label='accuracy')\n",
        "plt.plot(history.history['val_accuracy'], label='val_accuracy')\n",
        "plt.legend()\n",
        "plt.grid()\n",
        "plt.title('Accuracy evolution')"
      ]
    },
    {
      "cell_type": "code",
      "execution_count": 19,
      "metadata": {
        "id": "GOX6MtzdlyVC"
      },
      "outputs": [],
      "source": [
        ""
      ]
    },
    {
      "cell_type": "code",
      "source": [
        ""
      ],
      "metadata": {
        "id": "TNl1tNTNNiJD"
      },
      "execution_count": null,
      "outputs": []
    }
  ],
  "metadata": {
    "accelerator": "GPU",
    "colab": {
      "collapsed_sections": [],
      "name": "Roman_Urdu_Hate_Speech_Detection",
      "provenance": [],
      "mount_file_id": "1JEw9QMnehx234D0gQLbZEKrvevVry222",
      "authorship_tag": "ABX9TyMPKKtvJ776xdeITQ2xHqdw",
      "include_colab_link": true
    },
    "kernelspec": {
      "display_name": "Python 3",
      "name": "python3"
    },
    "language_info": {
      "name": "python"
    }
  },
  "nbformat": 4,
  "nbformat_minor": 0
}