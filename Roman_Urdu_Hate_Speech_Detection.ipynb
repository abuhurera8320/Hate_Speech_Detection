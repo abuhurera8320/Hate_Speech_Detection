{
  "cells": [
    {
      "cell_type": "markdown",
      "metadata": {
        "id": "view-in-github",
        "colab_type": "text"
      },
      "source": [
        "<a href=\"https://colab.research.google.com/github/abuhurera8320/Hate_Speech_Detection/blob/main/Roman_Urdu_Hate_Speech_Detection.ipynb\" target=\"_parent\"><img src=\"https://colab.research.google.com/assets/colab-badge.svg\" alt=\"Open In Colab\"/></a>"
      ]
    },
    {
      "cell_type": "code",
      "execution_count": 1,
      "metadata": {
        "id": "vqjL5Dp7RJqL"
      },
      "outputs": [],
      "source": [
        "import pandas as pd\n",
        "import matplotlib.pyplot as plt\n",
        "import numpy as np"
      ]
    },
    {
      "cell_type": "code",
      "execution_count": 2,
      "metadata": {
        "id": "2vlS7w8AQPeE"
      },
      "outputs": [],
      "source": [
        "from keras.preprocessing.text import Tokenizer\n",
        "from keras.preprocessing.sequence import pad_sequences\n",
        "from tensorflow.keras.utils import to_categorical\n",
        "from keras.models import Sequential,load_model\n",
        "from keras.layers import Conv1D,LSTM,Dense,Embedding,RepeatVector,TimeDistributed,Bidirectional,GRU,SimpleRNN\n",
        "from keras.callbacks import EarlyStopping\n",
        "from keras.preprocessing.text import Tokenizer\n",
        "from keras.preprocessing.sequence import pad_sequences\n",
        "from nltk.translate.bleu_score import corpus_bleu\n",
        "from IPython.display import Markdown, display\n",
        "from keras.layers import Dropout\n",
        "from tensorflow.keras.optimizers import Adam\n",
        "from tensorflow.keras.callbacks import ReduceLROnPlateau\n",
        "from tensorflow.keras.preprocessing.text import text_to_word_sequence"
      ]
    },
    {
      "cell_type": "code",
      "execution_count": 15,
      "metadata": {
        "id": "sgm01JvMRV9x"
      },
      "outputs": [],
      "source": [
        "df=pd.read_csv('/content/drive/MyDrive/FYP /task_1_train.tsv', sep='\\t')"
      ]
    },
    {
      "cell_type": "code",
      "execution_count": 16,
      "metadata": {
        "colab": {
          "base_uri": "https://localhost:8080/"
        },
        "id": "zimdvefxRWW_",
        "outputId": "192af675-879f-4da3-ecc5-1834be75702c"
      },
      "outputs": [
        {
          "output_type": "execute_result",
          "data": {
            "text/plain": [
              "Text     7208\n",
              "Label    7208\n",
              "dtype: int64"
            ]
          },
          "metadata": {},
          "execution_count": 16
        }
      ],
      "source": [
        "df.columns=['Text','Label']\n",
        "df.count()"
      ]
    },
    {
      "cell_type": "code",
      "execution_count": 17,
      "metadata": {
        "colab": {
          "base_uri": "https://localhost:8080/"
        },
        "id": "_jcdjnfxRWbC",
        "outputId": "e11ccd53-1491-4674-cc5d-81fcfb38d043"
      },
      "outputs": [
        {
          "output_type": "stream",
          "name": "stdout",
          "text": [
            "Label 0 is for Abusive/Offensive\n",
            "Label 1 is for Normal\n"
          ]
        }
      ],
      "source": [
        "l=df['Label'].unique()\n",
        "l_dict={0:'Abusive/Offensive',1:'Normal'}\n",
        "for i in l:\n",
        "    print('Label {} is for {}'.format(i,l_dict[i]))"
      ]
    },
    {
      "cell_type": "code",
      "execution_count": 18,
      "metadata": {
        "colab": {
          "base_uri": "https://localhost:8080/"
        },
        "id": "Q49uFn7-RWd1",
        "outputId": "79af1983-c558-4649-c713-e5dd6b43ce13"
      },
      "outputs": [
        {
          "output_type": "execute_result",
          "data": {
            "text/plain": [
              "Text     3850\n",
              "Label    3850\n",
              "dtype: int64"
            ]
          },
          "metadata": {},
          "execution_count": 18
        }
      ],
      "source": [
        "offensivedf=df.loc[df['Label']==1]\n",
        "offensivedf.count()"
      ]
    },
    {
      "cell_type": "code",
      "execution_count": 19,
      "metadata": {
        "id": "e7BGD3cURWfl"
      },
      "outputs": [],
      "source": [
        "df1=pd.read_csv('/content/drive/MyDrive/FYP /task_1_test.tsv', sep='\\t')"
      ]
    },
    {
      "cell_type": "code",
      "execution_count": 20,
      "metadata": {
        "colab": {
          "base_uri": "https://localhost:8080/"
        },
        "id": "cXocGCMIRWhV",
        "outputId": "b038d353-35e0-4c94-ea39-82f6d2409325"
      },
      "outputs": [
        {
          "output_type": "execute_result",
          "data": {
            "text/plain": [
              "Text     2002\n",
              "Label    2002\n",
              "dtype: int64"
            ]
          },
          "metadata": {},
          "execution_count": 20
        }
      ],
      "source": [
        "df1.columns=['Text','Label']\n",
        "df1.count()"
      ]
    },
    {
      "cell_type": "code",
      "execution_count": 21,
      "metadata": {
        "colab": {
          "base_uri": "https://localhost:8080/"
        },
        "id": "B6ET2MquRtYZ",
        "outputId": "8ec7979d-2c64-438f-e82a-78bb08543a43"
      },
      "outputs": [
        {
          "output_type": "execute_result",
          "data": {
            "text/plain": [
              "Text     1069\n",
              "Label    1069\n",
              "dtype: int64"
            ]
          },
          "metadata": {},
          "execution_count": 21
        }
      ],
      "source": [
        "offensivedf=df1.loc[df1['Label']==1]\n",
        "offensivedf.count()"
      ]
    },
    {
      "cell_type": "code",
      "execution_count": 22,
      "metadata": {
        "colab": {
          "base_uri": "https://localhost:8080/",
          "height": 206
        },
        "id": "_G11xe9tRtgi",
        "outputId": "197eefcc-4ef7-4e50-b40c-c69c9ed21cd0"
      },
      "outputs": [
        {
          "output_type": "execute_result",
          "data": {
            "text/plain": [
              "                                                 Text  Label\n",
              "6                                  hum kisi se km nhi      1\n",
              "7   aurat bhatak sakri hy kbi “maa” ni bhatakti . ...      1\n",
              "10   with due respect sir kya aurat march se ye ch...      1\n",
              "15                      😂😂😂😂😂😂 chal ja tujhy maaf kia      1\n",
              "16  agr ap chahtay hn k log ap ko acha kahean to a...      1"
            ],
            "text/html": [
              "\n",
              "  <div id=\"df-1f621df7-2b4d-4496-932d-cbc7ce4def64\">\n",
              "    <div class=\"colab-df-container\">\n",
              "      <div>\n",
              "<style scoped>\n",
              "    .dataframe tbody tr th:only-of-type {\n",
              "        vertical-align: middle;\n",
              "    }\n",
              "\n",
              "    .dataframe tbody tr th {\n",
              "        vertical-align: top;\n",
              "    }\n",
              "\n",
              "    .dataframe thead th {\n",
              "        text-align: right;\n",
              "    }\n",
              "</style>\n",
              "<table border=\"1\" class=\"dataframe\">\n",
              "  <thead>\n",
              "    <tr style=\"text-align: right;\">\n",
              "      <th></th>\n",
              "      <th>Text</th>\n",
              "      <th>Label</th>\n",
              "    </tr>\n",
              "  </thead>\n",
              "  <tbody>\n",
              "    <tr>\n",
              "      <th>6</th>\n",
              "      <td>hum kisi se km nhi</td>\n",
              "      <td>1</td>\n",
              "    </tr>\n",
              "    <tr>\n",
              "      <th>7</th>\n",
              "      <td>aurat bhatak sakri hy kbi “maa” ni bhatakti . ...</td>\n",
              "      <td>1</td>\n",
              "    </tr>\n",
              "    <tr>\n",
              "      <th>10</th>\n",
              "      <td>with due respect sir kya aurat march se ye ch...</td>\n",
              "      <td>1</td>\n",
              "    </tr>\n",
              "    <tr>\n",
              "      <th>15</th>\n",
              "      <td>😂😂😂😂😂😂 chal ja tujhy maaf kia</td>\n",
              "      <td>1</td>\n",
              "    </tr>\n",
              "    <tr>\n",
              "      <th>16</th>\n",
              "      <td>agr ap chahtay hn k log ap ko acha kahean to a...</td>\n",
              "      <td>1</td>\n",
              "    </tr>\n",
              "  </tbody>\n",
              "</table>\n",
              "</div>\n",
              "      <button class=\"colab-df-convert\" onclick=\"convertToInteractive('df-1f621df7-2b4d-4496-932d-cbc7ce4def64')\"\n",
              "              title=\"Convert this dataframe to an interactive table.\"\n",
              "              style=\"display:none;\">\n",
              "        \n",
              "  <svg xmlns=\"http://www.w3.org/2000/svg\" height=\"24px\"viewBox=\"0 0 24 24\"\n",
              "       width=\"24px\">\n",
              "    <path d=\"M0 0h24v24H0V0z\" fill=\"none\"/>\n",
              "    <path d=\"M18.56 5.44l.94 2.06.94-2.06 2.06-.94-2.06-.94-.94-2.06-.94 2.06-2.06.94zm-11 1L8.5 8.5l.94-2.06 2.06-.94-2.06-.94L8.5 2.5l-.94 2.06-2.06.94zm10 10l.94 2.06.94-2.06 2.06-.94-2.06-.94-.94-2.06-.94 2.06-2.06.94z\"/><path d=\"M17.41 7.96l-1.37-1.37c-.4-.4-.92-.59-1.43-.59-.52 0-1.04.2-1.43.59L10.3 9.45l-7.72 7.72c-.78.78-.78 2.05 0 2.83L4 21.41c.39.39.9.59 1.41.59.51 0 1.02-.2 1.41-.59l7.78-7.78 2.81-2.81c.8-.78.8-2.07 0-2.86zM5.41 20L4 18.59l7.72-7.72 1.47 1.35L5.41 20z\"/>\n",
              "  </svg>\n",
              "      </button>\n",
              "      \n",
              "  <style>\n",
              "    .colab-df-container {\n",
              "      display:flex;\n",
              "      flex-wrap:wrap;\n",
              "      gap: 12px;\n",
              "    }\n",
              "\n",
              "    .colab-df-convert {\n",
              "      background-color: #E8F0FE;\n",
              "      border: none;\n",
              "      border-radius: 50%;\n",
              "      cursor: pointer;\n",
              "      display: none;\n",
              "      fill: #1967D2;\n",
              "      height: 32px;\n",
              "      padding: 0 0 0 0;\n",
              "      width: 32px;\n",
              "    }\n",
              "\n",
              "    .colab-df-convert:hover {\n",
              "      background-color: #E2EBFA;\n",
              "      box-shadow: 0px 1px 2px rgba(60, 64, 67, 0.3), 0px 1px 3px 1px rgba(60, 64, 67, 0.15);\n",
              "      fill: #174EA6;\n",
              "    }\n",
              "\n",
              "    [theme=dark] .colab-df-convert {\n",
              "      background-color: #3B4455;\n",
              "      fill: #D2E3FC;\n",
              "    }\n",
              "\n",
              "    [theme=dark] .colab-df-convert:hover {\n",
              "      background-color: #434B5C;\n",
              "      box-shadow: 0px 1px 3px 1px rgba(0, 0, 0, 0.15);\n",
              "      filter: drop-shadow(0px 1px 2px rgba(0, 0, 0, 0.3));\n",
              "      fill: #FFFFFF;\n",
              "    }\n",
              "  </style>\n",
              "\n",
              "      <script>\n",
              "        const buttonEl =\n",
              "          document.querySelector('#df-1f621df7-2b4d-4496-932d-cbc7ce4def64 button.colab-df-convert');\n",
              "        buttonEl.style.display =\n",
              "          google.colab.kernel.accessAllowed ? 'block' : 'none';\n",
              "\n",
              "        async function convertToInteractive(key) {\n",
              "          const element = document.querySelector('#df-1f621df7-2b4d-4496-932d-cbc7ce4def64');\n",
              "          const dataTable =\n",
              "            await google.colab.kernel.invokeFunction('convertToInteractive',\n",
              "                                                     [key], {});\n",
              "          if (!dataTable) return;\n",
              "\n",
              "          const docLinkHtml = 'Like what you see? Visit the ' +\n",
              "            '<a target=\"_blank\" href=https://colab.research.google.com/notebooks/data_table.ipynb>data table notebook</a>'\n",
              "            + ' to learn more about interactive tables.';\n",
              "          element.innerHTML = '';\n",
              "          dataTable['output_type'] = 'display_data';\n",
              "          await google.colab.output.renderOutput(dataTable, element);\n",
              "          const docLink = document.createElement('div');\n",
              "          docLink.innerHTML = docLinkHtml;\n",
              "          element.appendChild(docLink);\n",
              "        }\n",
              "      </script>\n",
              "    </div>\n",
              "  </div>\n",
              "  "
            ]
          },
          "metadata": {},
          "execution_count": 22
        }
      ],
      "source": [
        "Neutral=df.loc[df['Label']==1]\n",
        "Neutral.head()"
      ]
    },
    {
      "cell_type": "code",
      "execution_count": 23,
      "metadata": {
        "colab": {
          "base_uri": "https://localhost:8080/",
          "height": 206
        },
        "id": "tUE0NdMVRtkm",
        "outputId": "8ead7252-af66-4023-e83d-7a0aaea7c833"
      },
      "outputs": [
        {
          "output_type": "execute_result",
          "data": {
            "text/plain": [
              "                                                Text  Label\n",
              "0         bhaunk bhaunk ke pagal ho jaata ab tak....      0\n",
              "1  shivsaina  nam mulla  saina  rakh  hijra  uddh...      0\n",
              "2  there are some yahodi daboo like imran chore z...      0\n",
              "3  chutiye ye hunduism ni he islam he , isme koi ...      0\n",
              "4  han g rakhail e awal kiya bak rai hai. kisay a...      0"
            ],
            "text/html": [
              "\n",
              "  <div id=\"df-000c72c2-5aff-49a6-8e32-7befd3bbf00d\">\n",
              "    <div class=\"colab-df-container\">\n",
              "      <div>\n",
              "<style scoped>\n",
              "    .dataframe tbody tr th:only-of-type {\n",
              "        vertical-align: middle;\n",
              "    }\n",
              "\n",
              "    .dataframe tbody tr th {\n",
              "        vertical-align: top;\n",
              "    }\n",
              "\n",
              "    .dataframe thead th {\n",
              "        text-align: right;\n",
              "    }\n",
              "</style>\n",
              "<table border=\"1\" class=\"dataframe\">\n",
              "  <thead>\n",
              "    <tr style=\"text-align: right;\">\n",
              "      <th></th>\n",
              "      <th>Text</th>\n",
              "      <th>Label</th>\n",
              "    </tr>\n",
              "  </thead>\n",
              "  <tbody>\n",
              "    <tr>\n",
              "      <th>0</th>\n",
              "      <td>bhaunk bhaunk ke pagal ho jaata ab tak....</td>\n",
              "      <td>0</td>\n",
              "    </tr>\n",
              "    <tr>\n",
              "      <th>1</th>\n",
              "      <td>shivsaina  nam mulla  saina  rakh  hijra  uddh...</td>\n",
              "      <td>0</td>\n",
              "    </tr>\n",
              "    <tr>\n",
              "      <th>2</th>\n",
              "      <td>there are some yahodi daboo like imran chore z...</td>\n",
              "      <td>0</td>\n",
              "    </tr>\n",
              "    <tr>\n",
              "      <th>3</th>\n",
              "      <td>chutiye ye hunduism ni he islam he , isme koi ...</td>\n",
              "      <td>0</td>\n",
              "    </tr>\n",
              "    <tr>\n",
              "      <th>4</th>\n",
              "      <td>han g rakhail e awal kiya bak rai hai. kisay a...</td>\n",
              "      <td>0</td>\n",
              "    </tr>\n",
              "  </tbody>\n",
              "</table>\n",
              "</div>\n",
              "      <button class=\"colab-df-convert\" onclick=\"convertToInteractive('df-000c72c2-5aff-49a6-8e32-7befd3bbf00d')\"\n",
              "              title=\"Convert this dataframe to an interactive table.\"\n",
              "              style=\"display:none;\">\n",
              "        \n",
              "  <svg xmlns=\"http://www.w3.org/2000/svg\" height=\"24px\"viewBox=\"0 0 24 24\"\n",
              "       width=\"24px\">\n",
              "    <path d=\"M0 0h24v24H0V0z\" fill=\"none\"/>\n",
              "    <path d=\"M18.56 5.44l.94 2.06.94-2.06 2.06-.94-2.06-.94-.94-2.06-.94 2.06-2.06.94zm-11 1L8.5 8.5l.94-2.06 2.06-.94-2.06-.94L8.5 2.5l-.94 2.06-2.06.94zm10 10l.94 2.06.94-2.06 2.06-.94-2.06-.94-.94-2.06-.94 2.06-2.06.94z\"/><path d=\"M17.41 7.96l-1.37-1.37c-.4-.4-.92-.59-1.43-.59-.52 0-1.04.2-1.43.59L10.3 9.45l-7.72 7.72c-.78.78-.78 2.05 0 2.83L4 21.41c.39.39.9.59 1.41.59.51 0 1.02-.2 1.41-.59l7.78-7.78 2.81-2.81c.8-.78.8-2.07 0-2.86zM5.41 20L4 18.59l7.72-7.72 1.47 1.35L5.41 20z\"/>\n",
              "  </svg>\n",
              "      </button>\n",
              "      \n",
              "  <style>\n",
              "    .colab-df-container {\n",
              "      display:flex;\n",
              "      flex-wrap:wrap;\n",
              "      gap: 12px;\n",
              "    }\n",
              "\n",
              "    .colab-df-convert {\n",
              "      background-color: #E8F0FE;\n",
              "      border: none;\n",
              "      border-radius: 50%;\n",
              "      cursor: pointer;\n",
              "      display: none;\n",
              "      fill: #1967D2;\n",
              "      height: 32px;\n",
              "      padding: 0 0 0 0;\n",
              "      width: 32px;\n",
              "    }\n",
              "\n",
              "    .colab-df-convert:hover {\n",
              "      background-color: #E2EBFA;\n",
              "      box-shadow: 0px 1px 2px rgba(60, 64, 67, 0.3), 0px 1px 3px 1px rgba(60, 64, 67, 0.15);\n",
              "      fill: #174EA6;\n",
              "    }\n",
              "\n",
              "    [theme=dark] .colab-df-convert {\n",
              "      background-color: #3B4455;\n",
              "      fill: #D2E3FC;\n",
              "    }\n",
              "\n",
              "    [theme=dark] .colab-df-convert:hover {\n",
              "      background-color: #434B5C;\n",
              "      box-shadow: 0px 1px 3px 1px rgba(0, 0, 0, 0.15);\n",
              "      filter: drop-shadow(0px 1px 2px rgba(0, 0, 0, 0.3));\n",
              "      fill: #FFFFFF;\n",
              "    }\n",
              "  </style>\n",
              "\n",
              "      <script>\n",
              "        const buttonEl =\n",
              "          document.querySelector('#df-000c72c2-5aff-49a6-8e32-7befd3bbf00d button.colab-df-convert');\n",
              "        buttonEl.style.display =\n",
              "          google.colab.kernel.accessAllowed ? 'block' : 'none';\n",
              "\n",
              "        async function convertToInteractive(key) {\n",
              "          const element = document.querySelector('#df-000c72c2-5aff-49a6-8e32-7befd3bbf00d');\n",
              "          const dataTable =\n",
              "            await google.colab.kernel.invokeFunction('convertToInteractive',\n",
              "                                                     [key], {});\n",
              "          if (!dataTable) return;\n",
              "\n",
              "          const docLinkHtml = 'Like what you see? Visit the ' +\n",
              "            '<a target=\"_blank\" href=https://colab.research.google.com/notebooks/data_table.ipynb>data table notebook</a>'\n",
              "            + ' to learn more about interactive tables.';\n",
              "          element.innerHTML = '';\n",
              "          dataTable['output_type'] = 'display_data';\n",
              "          await google.colab.output.renderOutput(dataTable, element);\n",
              "          const docLink = document.createElement('div');\n",
              "          docLink.innerHTML = docLinkHtml;\n",
              "          element.appendChild(docLink);\n",
              "        }\n",
              "      </script>\n",
              "    </div>\n",
              "  </div>\n",
              "  "
            ]
          },
          "metadata": {},
          "execution_count": 23
        }
      ],
      "source": [
        "hate=df.loc[df['Label']==0]\n",
        "hate.head()"
      ]
    },
    {
      "cell_type": "code",
      "execution_count": 24,
      "metadata": {
        "colab": {
          "base_uri": "https://localhost:8080/",
          "height": 281
        },
        "id": "SW3lTjSORtnX",
        "outputId": "e1223c5b-3fd4-4b8f-89e8-d7a23f794a01"
      },
      "outputs": [
        {
          "output_type": "display_data",
          "data": {
            "text/plain": [
              "<Figure size 432x288 with 1 Axes>"
            ],
            "image/png": "[encoded data removed]"
          },
          "metadata": {
            "needs_background": "light"
          }
        }
      ],
      "source": [
        "Neu = df[df['Label'] == 1].shape[0]\n",
        "Neg = df[df['Label'] == 0].shape[0]\n",
        "# bar plot of the 3 classes\n",
        "plt.bar(15,Neg,3, label=\"Negative\")\n",
        "plt.bar(20,Neu,3, label=\"Neutral\")\n",
        "plt.legend()\n",
        "plt.ylabel('Number of examples')\n",
        "plt.title('Proportion of examples')\n",
        "plt.show()"
      ]
    },
    {
      "cell_type": "code",
      "execution_count": 26,
      "metadata": {
        "id": "Ez7k5rYER3TS"
      },
      "outputs": [],
      "source": [
        "df = pd.concat([df, df1], ignore_index=True, sort=False)"
      ]
    },
    {
      "cell_type": "code",
      "source": [
        "df.shape"
      ],
      "metadata": {
        "colab": {
          "base_uri": "https://localhost:8080/"
        },
        "id": "4wjumsi7Kgcn",
        "outputId": "e257a469-7e5c-49be-b453-4bfd36483f3e"
      },
      "execution_count": 27,
      "outputs": [
        {
          "output_type": "execute_result",
          "data": {
            "text/plain": [
              "(9210, 2)"
            ]
          },
          "metadata": {},
          "execution_count": 27
        }
      ]
    },
    {
      "cell_type": "markdown",
      "metadata": {
        "id": "79d9251c"
      },
      "source": [
        "## Data Preprocessing\n",
        "#### 1. Removing Punctuations\n",
        "#### 2. Converting to Lower case\n",
        "#### 3. Removing stopwords"
      ]
    },
    {
      "cell_type": "code",
      "execution_count": 28,
      "metadata": {
        "colab": {
          "base_uri": "https://localhost:8080/",
          "height": 36
        },
        "id": "bnamm4YDR3Xh",
        "outputId": "53020691-061e-43c6-fc19-a71f917161a4"
      },
      "outputs": [
        {
          "output_type": "execute_result",
          "data": {
            "text/plain": [
              "'!\"#$%&\\'()*+,-./:;<=>?@[\\\\]^_`{|}~'"
            ],
            "application/vnd.google.colaboratory.intrinsic+json": {
              "type": "string"
            }
          },
          "metadata": {},
          "execution_count": 28
        }
      ],
      "source": [
        "import string\n",
        "string.punctuation"
      ]
    },
    {
      "cell_type": "code",
      "execution_count": 29,
      "metadata": {
        "id": "62flABnQSBps"
      },
      "outputs": [],
      "source": [
        "import re\n",
        "def remove_punct(text):\n",
        "    ''' Input parameter:\n",
        "    text: (str)\n",
        "    this method is used to take each text line and check the characters if it\n",
        "    contains any puntuation and then remove them with blank space'''  \n",
        "    text  = \"\".join([char for [char] in text if char not in string.punctuation])\n",
        "    text = re.sub('[0-9]+', '', text)\n",
        "    return text\n"
      ]
    },
    {
      "cell_type": "code",
      "execution_count": 30,
      "metadata": {
        "id": "Lqj-BA-hSBtb"
      },
      "outputs": [],
      "source": [
        "# removing all the punctuation\n",
        "df['Text'] = df['Text'].apply(lambda x: remove_punct(str(x))) "
      ]
    },
    {
      "cell_type": "code",
      "execution_count": 31,
      "metadata": {
        "colab": {
          "base_uri": "https://localhost:8080/"
        },
        "id": "a3KB0WluSK9_",
        "outputId": "b44786a7-c43f-4fcf-ed40-c10b416c9c1f"
      },
      "outputs": [
        {
          "output_type": "execute_result",
          "data": {
            "text/plain": [
              "0               bhaunk bhaunk ke pagal ho jaata ab tak\n",
              "1    shivsaina  nam mulla  saina  rakh  hijra  uddh...\n",
              "2    there are some yahodi daboo like imran chore z...\n",
              "3    chutiye ye hunduism ni he islam he  isme koi k...\n",
              "4    han g rakhail e awal kiya bak rai hai kisay ah...\n",
              "Name: Text, dtype: object"
            ]
          },
          "metadata": {},
          "execution_count": 31
        }
      ],
      "source": [
        "df['Text'].head()"
      ]
    },
    {
      "cell_type": "code",
      "execution_count": 31,
      "metadata": {
        "id": "xHZlVJaOSLFT"
      },
      "outputs": [],
      "source": [
        ""
      ]
    },
    {
      "cell_type": "markdown",
      "metadata": {
        "id": "b07d046c"
      },
      "source": [
        "#### Converting the text corpus to Lower Case"
      ]
    },
    {
      "cell_type": "code",
      "execution_count": 32,
      "metadata": {
        "id": "FuAppufSSLM5"
      },
      "outputs": [],
      "source": [
        "def convert_to_lower_case(text):\n",
        "    ''' Input parameter:\n",
        "    text: (str)\n",
        "    this method is used to take each text line and converts the characters  into lower case and joins them further'''\n",
        "    text  = \"\".join([char.lower() for [char] in text if char not in string.punctuation])\n",
        "    return text\n"
      ]
    },
    {
      "cell_type": "code",
      "execution_count": 33,
      "metadata": {
        "id": "5bhw_nhcSLUe"
      },
      "outputs": [],
      "source": [
        "df['Text'] = df['Text'].apply(lambda x: convert_to_lower_case(str(x))) #calling lower case on each line"
      ]
    },
    {
      "cell_type": "code",
      "execution_count": 34,
      "metadata": {
        "colab": {
          "base_uri": "https://localhost:8080/"
        },
        "id": "kTuY8xR1Sh3A",
        "outputId": "360dd2dd-92cc-4fc4-9869-72423c30194c"
      },
      "outputs": [
        {
          "output_type": "execute_result",
          "data": {
            "text/plain": [
              "0               bhaunk bhaunk ke pagal ho jaata ab tak\n",
              "1    shivsaina  nam mulla  saina  rakh  hijra  uddh...\n",
              "2    there are some yahodi daboo like imran chore z...\n",
              "3    chutiye ye hunduism ni he islam he  isme koi k...\n",
              "4    han g rakhail e awal kiya bak rai hai kisay ah...\n",
              "Name: Text, dtype: object"
            ]
          },
          "metadata": {},
          "execution_count": 34
        }
      ],
      "source": [
        "df['Text'].head()"
      ]
    },
    {
      "cell_type": "code",
      "execution_count": 34,
      "metadata": {
        "id": "3AGdjJOuSiET"
      },
      "outputs": [],
      "source": [
        ""
      ]
    },
    {
      "cell_type": "markdown",
      "metadata": {
        "id": "040b7bc2"
      },
      "source": [
        "### Removing Stopwords"
      ]
    },
    {
      "cell_type": "code",
      "execution_count": 35,
      "metadata": {
        "id": "Xu0dVimJStIZ"
      },
      "outputs": [],
      "source": [
        "stopwords=['ai', 'ayi', 'hy', 'hai', 'main', 'ki', 'tha', 'koi', 'ko', 'sy', 'woh', 'bhi', 'aur', 'wo', 'yeh', 'rha', \n",
        "           'hota', 'ho', 'ga', 'ka', 'le', 'lye', 'kr', 'kar', 'lye', 'liye', 'hotay', 'waisay', 'gya', 'gaya', 'kch',\n",
        "           'ab', 'thy', 'thay', 'houn', 'hain', 'han', 'to','is', 'hi', 'jo', 'kya', 'thi', 'se', 'pe', 'phr', 'wala',\n",
        "           'waisay', 'us', 'na', 'ny', 'hun', 'rha', 'raha', 'ja', 'rahay', 'abi', 'uski', 'ne', 'haan', 'acha', 'nai',\n",
        "           'sent', 'you', 'kafi', 'gai', 'rhy', 'kuch', 'jata', 'aye', 'ya', 'dono', 'hoa', 'aese', 'de', 'wohi',\n",
        "           'jati', 'jb', 'krta', 'lg', 'rahi', 'hui', 'karna', 'krna', 'gi', 'hova', 'yehi', 'jana', 'jye', 'chal', 'mil',\n",
        "           'tu', 'hum', 'par', 'hay', 'kis', 'sb', 'gy', 'dain', 'krny', 'tou','h','je','or','jee','he','in','un','kay','ki','ya','ap','meri','me']\n"
      ]
    },
    {
      "cell_type": "code",
      "execution_count": 36,
      "metadata": {
        "id": "cwnZyHgxStWL"
      },
      "outputs": [],
      "source": [
        "dictStopWords = {} # global variable\n",
        "forFastTextData = []\n",
        "def removeStopWordss(text):\n",
        "    text = re.sub('[^a-zA-Z]',' ',str(text))\n",
        "    text = text.lower()\n",
        "    wordList =str(text).split()\n",
        "    for word in wordList:\n",
        "        if word in stopwords:\n",
        "            wordList.remove(word)\n",
        "            if word not in dictStopWords:\n",
        "                dictStopWords[word]= 1\n",
        "            else:\n",
        "                dictStopWords[word] = dictStopWords[word] + 1\n",
        "    newSentence = \" \".join(wordList)\n",
        "    forFastTextData.append(newSentence.split())\n",
        "    return (newSentence)"
      ]
    },
    {
      "cell_type": "code",
      "execution_count": 37,
      "metadata": {
        "id": "-19pDmLPStaN"
      },
      "outputs": [],
      "source": [
        "df['Text'] = df['Text'].apply(lambda x: removeStopWordss(x)) # sentence with removed stop words"
      ]
    },
    {
      "cell_type": "code",
      "execution_count": 38,
      "metadata": {
        "colab": {
          "base_uri": "https://localhost:8080/"
        },
        "id": "FVmNjdeSStcU",
        "outputId": "4bb5337d-96cb-4012-cf53-7f83003681c2"
      },
      "outputs": [
        {
          "output_type": "execute_result",
          "data": {
            "text/plain": [
              "{'hai': 2457,\n",
              " 'hain': 781,\n",
              " 'ho': 1154,\n",
              " 'ka': 1490,\n",
              " 'ki': 2205,\n",
              " 'ko': 1808,\n",
              " 'me': 722,\n",
              " 'na': 708,\n",
              " 'se': 1123,\n",
              " 'to': 1369}"
            ]
          },
          "metadata": {},
          "execution_count": 38
        }
      ],
      "source": [
        "## checking for most common stopwords from the dictionary\n",
        "import collections\n",
        "from collections import Counter\n",
        "dictGraph = {}\n",
        "d = Counter(dictStopWords) # creating a counter \n",
        "d.most_common(10) \n",
        "for k,v in d.most_common(10):\n",
        "    dictGraph[k] = v\n",
        "dictGraph"
      ]
    },
    {
      "cell_type": "code",
      "execution_count": 39,
      "metadata": {
        "colab": {
          "base_uri": "https://localhost:8080/",
          "height": 295
        },
        "id": "724u2oOaS5wj",
        "outputId": "0448d0c6-6d94-4046-a12d-0a7dabd651bb"
      },
      "outputs": [
        {
          "output_type": "display_data",
          "data": {
            "text/plain": [
              "<Figure size 432x288 with 1 Axes>"
            ],
            "image/png": "[encoded data removed]"
          },
          "metadata": {
            "needs_background": "light"
          }
        }
      ],
      "source": [
        "#plotting a graph of 10 most common stopwords from dictionary\n",
        "plt.bar(dictGraph.keys(), dictGraph.values(), align='center', color = 'green')\n",
        "plt.title('Bargraph for Most Common StopWords')\n",
        "plt.xlabel('StopWords')\n",
        "plt.ylabel('Count')\n",
        "plt.show()"
      ]
    },
    {
      "cell_type": "code",
      "execution_count": 40,
      "metadata": {
        "colab": {
          "base_uri": "https://localhost:8080/"
        },
        "id": "g-Qx8DWOTEwb",
        "outputId": "c45b199d-4a75-48ed-d355-9a46ca224f39"
      },
      "outputs": [
        {
          "output_type": "execute_result",
          "data": {
            "text/plain": [
              "13817"
            ]
          },
          "metadata": {},
          "execution_count": 40
        }
      ],
      "source": [
        "sum(dictGraph.values())"
      ]
    },
    {
      "cell_type": "code",
      "execution_count": 42,
      "metadata": {
        "id": "yWvsSm0tTE6Q"
      },
      "outputs": [],
      "source": [
        "df.to_csv('/content/drive/MyDrive/FYP /preprocessed_df.csv')"
      ]
    },
    {
      "cell_type": "markdown",
      "metadata": {
        "id": "18d8aca7"
      },
      "source": [
        "### Removal of Characters(Stemming)"
      ]
    },
    {
      "cell_type": "code",
      "execution_count": null,
      "metadata": {
        "id": "IxQ2Nno4XiUc"
      },
      "outputs": [],
      "source": [
        "def replacing_characters(word):\n",
        "    ''' Input Parameter: \n",
        "    word: word from the sentences'''\n",
        " \n",
        "    word = re.sub(r'ain$', r'ein', word)\n",
        "    word = re.sub(r'ai', r'ae', word)\n",
        "    word = re.sub(r'ay$', r'e', word)\n",
        "    word = re.sub(r'ey$', r'e', word)\n",
        "    word = re.sub(r'aa+', r'aa', word)\n",
        "    word = re.sub(r'e+', r'ee', word)\n",
        "    word = re.sub(r'ai', r'ahi', word) # e.g \"sahi and sai nahi\"\n",
        "    word = re.sub(r'ai', r'ahi', word)\n",
        "    word = re.sub(r'ie$', r'y', word)\n",
        "    word = re.sub(r'^es', r'is', word)\n",
        "    word = re.sub(r'a+', r'a', word)\n",
        "    word = re.sub(r'j+', r'j', word)\n",
        "    word = re.sub(r'd+', r'd', word)\n",
        "    word = re.sub(r'u', r'o', word)\n",
        "    word = re.sub(r'o+', r'o', word)\n",
        "    if not re.match(r'ar', word):\n",
        "        word = re.sub(r'ar', r'r', word)\n",
        "        word = re.sub(r'iy+', r'i', word)\n",
        "        word = re.sub(r'ih+', r'eh', word)\n",
        "        word = re.sub(r's+', r's', word)\n",
        "    if re.search(r'[rst]y', 'word') and word[-1] != 'y':\n",
        "        word = re.sub(r'y', r'i', word)\n",
        "    if re.search(r'[^a]i', word):\n",
        "        word = re.sub(r'i$', r'y', word)\n",
        "    if re.search(r'[a-z]h', word):\n",
        "        word = re.sub(r'h', '', word)\n",
        "    return word"
      ]
    },
    {
      "cell_type": "code",
      "execution_count": null,
      "metadata": {
        "id": "OvtQr3qJXiV5"
      },
      "outputs": [],
      "source": [
        "df['Text'] = df['Text'].apply(lambda x: replacing_characters(x))"
      ]
    },
    {
      "cell_type": "code",
      "execution_count": 43,
      "metadata": {
        "colab": {
          "base_uri": "https://localhost:8080/"
        },
        "id": "r_RqOKBZZLSt",
        "outputId": "089bb109-2ae3-47ba-c105-92bb9861dfd0"
      },
      "outputs": [
        {
          "output_type": "execute_result",
          "data": {
            "text/plain": [
              "(9210, 3)"
            ]
          },
          "metadata": {},
          "execution_count": 43
        }
      ],
      "source": [
        "df=pd.read_csv('/content/drive/MyDrive/FYP /preprocessed_df.csv')\n",
        "df.shape"
      ]
    },
    {
      "cell_type": "code",
      "execution_count": 44,
      "metadata": {
        "colab": {
          "base_uri": "https://localhost:8080/"
        },
        "id": "1c43DIVPXiZ3",
        "outputId": "5015a046-6cff-4a73-f93c-efc96b1aa297"
      },
      "outputs": [
        {
          "output_type": "execute_result",
          "data": {
            "text/plain": [
              "0                     bhaunk bhaunk ke pagal jaata tak\n",
              "1    shivsaina nam mulla saina rakh hijra uddhav th...\n",
              "2    there are some yahodi daboo like imran chore z...\n",
              "3    chutiye ye hunduism ni islam isme kisi muslim ...\n",
              "4    g rakhail e awal kiya bak rai kisay ahmaq kah ...\n",
              "Name: Text, dtype: object"
            ]
          },
          "metadata": {},
          "execution_count": 44
        }
      ],
      "source": [
        "df['Text'].head()"
      ]
    },
    {
      "cell_type": "markdown",
      "metadata": {
        "id": "bc545c7c"
      },
      "source": [
        "**Tokenization and Test Train Split**"
      ]
    },
    {
      "cell_type": "code",
      "execution_count": 45,
      "metadata": {
        "id": "80_2lgLBYQDQ"
      },
      "outputs": [],
      "source": [
        "from sklearn.model_selection import train_test_split"
      ]
    },
    {
      "cell_type": "code",
      "execution_count": 46,
      "metadata": {
        "id": "5Quf7PkFbPMy",
        "colab": {
          "base_uri": "https://localhost:8080/"
        },
        "outputId": "a6b0fd8b-3e1f-4678-b820-fa552a5b1f99"
      },
      "outputs": [
        {
          "output_type": "execute_result",
          "data": {
            "text/plain": [
              "(9210,)"
            ]
          },
          "metadata": {},
          "execution_count": 46
        }
      ],
      "source": [
        "X=df['Text']\n",
        "y=df['Label']\n",
        "X.shape"
      ]
    },
    {
      "cell_type": "code",
      "execution_count": 47,
      "metadata": {
        "colab": {
          "base_uri": "https://localhost:8080/"
        },
        "id": "HrZd7fA2Lje5",
        "outputId": "fd242778-0c7a-4fb6-caca-a20a8835190b"
      },
      "outputs": [
        {
          "output_type": "execute_result",
          "data": {
            "text/plain": [
              "66"
            ]
          },
          "metadata": {},
          "execution_count": 47
        }
      ],
      "source": [
        "count = df['Text'].str.split().apply(len)\n",
        "count=count.sort_values(axis=0, ascending=False, inplace=False, kind='quicksort', na_position='last', ignore_index=False, key=None)\n",
        "MAX_SEQUENCE_LENGTH=count.iloc[0]+10\n",
        "MAX_SEQUENCE_LENGTH"
      ]
    },
    {
      "cell_type": "code",
      "execution_count": 48,
      "metadata": {
        "colab": {
          "base_uri": "https://localhost:8080/"
        },
        "id": "KIMLUp1fnufD",
        "outputId": "ba2c8d59-a650-4314-eb1c-e5f78988c1c3"
      },
      "outputs": [
        {
          "output_type": "stream",
          "name": "stdout",
          "text": [
            "Vocabulary Size : 21796\n"
          ]
        }
      ],
      "source": [
        "tokenizer = Tokenizer()\n",
        "tokenizer.fit_on_texts(X)\n",
        "\n",
        "word_index = tokenizer.word_index\n",
        "vocab_size = len(tokenizer.word_index) + 1\n",
        "print(\"Vocabulary Size :\", vocab_size)"
      ]
    },
    {
      "cell_type": "code",
      "source": [
        "X_train, X_test, y_train, y_test = train_test_split( X, y, test_size=0.2, random_state=42)"
      ],
      "metadata": {
        "id": "7kD57_RDQBaM"
      },
      "execution_count": 49,
      "outputs": []
    },
    {
      "cell_type": "code",
      "execution_count": 50,
      "metadata": {
        "colab": {
          "base_uri": "https://localhost:8080/"
        },
        "id": "MC-Wa1Yup4JW",
        "outputId": "afaa0ed3-c602-41cb-fa9b-76f45d8a37a9"
      },
      "outputs": [
        {
          "output_type": "stream",
          "name": "stdout",
          "text": [
            "Training X Shape: (7368, 66)\n",
            "Testing X Shape: (1842, 66)\n"
          ]
        }
      ],
      "source": [
        "\n",
        "X_train = pad_sequences((tokenizer.texts_to_sequences(X_train)),\n",
        "                        maxlen = MAX_SEQUENCE_LENGTH)\n",
        "X_test = pad_sequences(tokenizer.texts_to_sequences(X_test),\n",
        "                      maxlen = MAX_SEQUENCE_LENGTH)\n",
        "\n",
        "print(\"Training X Shape:\",X_train.shape)\n",
        "print(\"Testing X Shape:\",X_test.shape)"
      ]
    },
    {
      "cell_type": "code",
      "execution_count": 51,
      "metadata": {
        "colab": {
          "base_uri": "https://localhost:8080/"
        },
        "id": "CUWnCBGPbbRR",
        "outputId": "036890b3-7edd-4e98-d4bf-820364cba122"
      },
      "outputs": [
        {
          "output_type": "stream",
          "name": "stdout",
          "text": [
            "train data:(7368, 66), train labels:(7368,),test data:(1842, 66), test labels:(1842,)\n"
          ]
        }
      ],
      "source": [
        "print(f'train data:{X_train.shape}, train labels:{y_train.shape},test data:{X_test.shape}, test labels:{y_test.shape}')"
      ]
    },
    {
      "cell_type": "markdown",
      "metadata": {
        "id": "xJcoREXiX3Tq"
      },
      "source": [
        "## Importing Pretrained Word2vec embeddings"
      ]
    },
    {
      "cell_type": "code",
      "source": [
        "# load embeding for text file\n",
        "embeddings_index1 = dict()\n",
        "f = open('/content/drive/MyDrive/FYP /vectors500000.txt')\n",
        "\n",
        "for line in f:\n",
        "    values = line.split()\n",
        "    word = values[0]\n",
        "    coefs = np.asarray(values[1:], dtype='float32')\n",
        "    embeddings_index1[word] = coefs\n",
        "f.close()\n",
        "print('Loaded %s word vectors.' % len(embeddings_index1))"
      ],
      "metadata": {
        "colab": {
          "base_uri": "https://localhost:8080/"
        },
        "id": "Ol85L2v5Osl1",
        "outputId": "c0f81910-4c34-4e78-c76a-a9e62dc0df9f"
      },
      "execution_count": 52,
      "outputs": [
        {
          "output_type": "stream",
          "name": "stdout",
          "text": [
            "Loaded 31308 word vectors.\n"
          ]
        }
      ]
    },
    {
      "cell_type": "code",
      "source": [
        "# load embeding for text file\n",
        "embeddings_index2 = dict()\n",
        "f = open('/content/drive/MyDrive/FYP /word2vec_RU.txt')\n",
        "\n",
        "for line in f:\n",
        "    values = line.split()\n",
        "    word = values[0]\n",
        "    coefs = np.asarray(values[1:], dtype='float32')\n",
        "    embeddings_index2[word] = coefs\n",
        "f.close()\n",
        "print('Loaded %s word vectors.' % len(embeddings_index2))"
      ],
      "metadata": {
        "colab": {
          "base_uri": "https://localhost:8080/"
        },
        "id": "7aPw73T8HDup",
        "outputId": "f273d105-e063-4c66-d007-9656fafce737"
      },
      "execution_count": 53,
      "outputs": [
        {
          "output_type": "stream",
          "name": "stdout",
          "text": [
            "Loaded 8750 word vectors.\n"
          ]
        }
      ]
    },
    {
      "cell_type": "code",
      "source": [
        "count=0\n",
        "wordcount1=0\n",
        "wordcount2=0\n",
        "dims=100\n",
        "flag=1\n",
        "#word_index = {w: i for i, w in enumerate(embeddings_index, 1)}\n",
        "embedding_matrix = np.zeros((len(word_index)+1, dims))\n",
        "for word, i in word_index.items():\n",
        "  if word in embeddings_index1.keys():\n",
        "    embedding_vector = embeddings_index1.get(word)\n",
        "    if embedding_vector is not None:\n",
        "        # words not found in embedding index will be all-zeros.\n",
        "        embedding_matrix[i] = embedding_vector[:dims]\n",
        "        wordcount1 +=1\n",
        "        \n",
        "  elif word in embeddings_index2.keys():\n",
        "        embedding_vector = embeddings_index2.get(word)\n",
        "        if embedding_vector is not None:\n",
        "        # words not found in embedding index will be all-zeros.\n",
        "         embedding_matrix[i] = embedding_vector[:dims]\n",
        "         wordcount2 +=1\n",
        "        \n",
        "  else:\n",
        "     count +=1\n",
        "     \n",
        "      "
      ],
      "metadata": {
        "id": "Jxtcs8DSO4s2"
      },
      "execution_count": 54,
      "outputs": []
    },
    {
      "cell_type": "code",
      "source": [
        "print('Embedding Stats :')\n",
        "print(f'Words found in first embedding: {wordcount1}')\n",
        "print(f'Words found in second embedding: {wordcount2}')\n",
        "print(f'Words not found in any embedding: {count}')\n",
        "print(f'Total words found in both embeddings: {wordcount1+wordcount2}')"
      ],
      "metadata": {
        "colab": {
          "base_uri": "https://localhost:8080/"
        },
        "id": "neU4o6PNWrkJ",
        "outputId": "86822684-7c60-459f-d50d-5217bb542ebe"
      },
      "execution_count": 55,
      "outputs": [
        {
          "output_type": "stream",
          "name": "stdout",
          "text": [
            "Embedding Stats :\n",
            "Words found in first embedding: 9810\n",
            "Words found in second embedding: 2216\n",
            "Words not found in any embedding: 9769\n",
            "Total words found in both embeddings: 12026\n"
          ]
        }
      ]
    },
    {
      "cell_type": "code",
      "source": [
        "embedding_matrix.shape"
      ],
      "metadata": {
        "colab": {
          "base_uri": "https://localhost:8080/"
        },
        "id": "_wUx4N6uZnlV",
        "outputId": "095acd38-3d5e-476a-c178-208c2a509ec8"
      },
      "execution_count": 56,
      "outputs": [
        {
          "output_type": "execute_result",
          "data": {
            "text/plain": [
              "(21796, 100)"
            ]
          },
          "metadata": {},
          "execution_count": 56
        }
      ]
    },
    {
      "cell_type": "code",
      "source": [
        "#sequences= X.apply(lambda x:text_to_word_sequence(x))"
      ],
      "metadata": {
        "id": "ztM01NAqrGif"
      },
      "execution_count": 57,
      "outputs": []
    },
    {
      "cell_type": "markdown",
      "metadata": {
        "id": "jjSywoohVPQV"
      },
      "source": [
        "##**Simple RNN's**"
      ]
    },
    {
      "cell_type": "code",
      "execution_count": 86,
      "metadata": {
        "colab": {
          "base_uri": "https://localhost:8080/"
        },
        "id": "qvf_ptchVdvc",
        "outputId": "b0c2ff60-840a-4204-fd6d-e1ba6215fcb1"
      },
      "outputs": [
        {
          "output_type": "stream",
          "name": "stdout",
          "text": [
            "Model: \"sequential_4\"\n",
            "_________________________________________________________________\n",
            " Layer (type)                Output Shape              Param #   \n",
            "=================================================================\n",
            " embedding_4 (Embedding)     (None, 66, 100)           2179600   \n",
            "                                                                 \n",
            " dropout_4 (Dropout)         (None, 66, 100)           0         \n",
            "                                                                 \n",
            " simple_rnn_2 (SimpleRNN)    (None, 20)                2420      \n",
            "                                                                 \n",
            " dropout_5 (Dropout)         (None, 20)                0         \n",
            "                                                                 \n",
            " dense_9 (Dense)             (None, 200)               4200      \n",
            "                                                                 \n",
            " dense_10 (Dense)            (None, 100)               20100     \n",
            "                                                                 \n",
            " dense_11 (Dense)            (None, 1)                 101       \n",
            "                                                                 \n",
            "=================================================================\n",
            "Total params: 2,206,421\n",
            "Trainable params: 26,821\n",
            "Non-trainable params: 2,179,600\n",
            "_________________________________________________________________\n"
          ]
        }
      ],
      "source": [
        "#%%time\n",
        "#with strategy.scope():\n",
        "    # A simpleRNN without any pretrained embeddings and one dense layer\n",
        "model = Sequential()\n",
        "model.add(Embedding(embedding_matrix.shape[0],embedding_matrix.shape[1],weights=[embedding_matrix],input_length=MAX_SEQUENCE_LENGTH,trainable=False))\n",
        "model.add(Dropout(0.2))\n",
        "model.add(SimpleRNN(20))\n",
        "model.add(Dropout(0.2))\n",
        "model.add(Dense(200,activation='relu'))\n",
        "model.add(Dense(100,activation='relu'))\n",
        "model.add(Dense(1, activation='sigmoid'))\n",
        "model.compile(loss='binary_crossentropy', optimizer='adam', metrics=['accuracy'])\n",
        "    \n",
        "model.summary()"
      ]
    },
    {
      "cell_type": "code",
      "execution_count": 87,
      "metadata": {
        "colab": {
          "base_uri": "https://localhost:8080/"
        },
        "id": "i6dsdLlOYip-",
        "outputId": "fcbfe1fe-404a-4537-985c-456c77080f17"
      },
      "outputs": [
        {
          "output_type": "stream",
          "name": "stdout",
          "text": [
            "Epoch 1/5\n",
            "58/58 [==============================] - 4s 60ms/step - loss: 0.6887 - accuracy: 0.5402 - val_loss: 0.6735 - val_accuracy: 0.5679\n",
            "Epoch 2/5\n",
            "58/58 [==============================] - 5s 87ms/step - loss: 0.6786 - accuracy: 0.5681 - val_loss: 0.6708 - val_accuracy: 0.5896\n",
            "Epoch 3/5\n",
            "58/58 [==============================] - 3s 57ms/step - loss: 0.6766 - accuracy: 0.5755 - val_loss: 0.6669 - val_accuracy: 0.5820\n",
            "Epoch 4/5\n",
            "58/58 [==============================] - 3s 57ms/step - loss: 0.6724 - accuracy: 0.5749 - val_loss: 0.6667 - val_accuracy: 0.5771\n",
            "Epoch 5/5\n",
            "58/58 [==============================] - 3s 58ms/step - loss: 0.6694 - accuracy: 0.5778 - val_loss: 0.6624 - val_accuracy: 0.5988\n"
          ]
        }
      ],
      "source": [
        "history=model.fit(X_train, y_train, epochs=5, batch_size=128,validation_data=(X_test, y_test),verbose=1)"
      ]
    },
    {
      "cell_type": "code",
      "source": [
        "model.layers[0].trainable=True"
      ],
      "metadata": {
        "id": "FveRg_thbtpN"
      },
      "execution_count": 88,
      "outputs": []
    },
    {
      "cell_type": "code",
      "source": [
        "\n",
        "model.summary()"
      ],
      "metadata": {
        "colab": {
          "base_uri": "https://localhost:8080/"
        },
        "id": "cxpF8OCTc8wR",
        "outputId": "68694727-909d-4652-8cd4-c9deab6cf856"
      },
      "execution_count": 89,
      "outputs": [
        {
          "output_type": "stream",
          "name": "stdout",
          "text": [
            "Model: \"sequential_4\"\n",
            "_________________________________________________________________\n",
            " Layer (type)                Output Shape              Param #   \n",
            "=================================================================\n",
            " embedding_4 (Embedding)     (None, 66, 100)           2179600   \n",
            "                                                                 \n",
            " dropout_4 (Dropout)         (None, 66, 100)           0         \n",
            "                                                                 \n",
            " simple_rnn_2 (SimpleRNN)    (None, 20)                2420      \n",
            "                                                                 \n",
            " dropout_5 (Dropout)         (None, 20)                0         \n",
            "                                                                 \n",
            " dense_9 (Dense)             (None, 200)               4200      \n",
            "                                                                 \n",
            " dense_10 (Dense)            (None, 100)               20100     \n",
            "                                                                 \n",
            " dense_11 (Dense)            (None, 1)                 101       \n",
            "                                                                 \n",
            "=================================================================\n",
            "Total params: 2,206,421\n",
            "Trainable params: 2,206,421\n",
            "Non-trainable params: 0\n",
            "_________________________________________________________________\n"
          ]
        }
      ]
    },
    {
      "cell_type": "code",
      "source": [
        "history=model.fit(X_train, y_train, epochs=10, batch_size=128,validation_data=(X_test, y_test),verbose=1)"
      ],
      "metadata": {
        "colab": {
          "base_uri": "https://localhost:8080/"
        },
        "id": "iPHplOpGdSjb",
        "outputId": "49205817-9cb8-4c4f-a725-246106d17705"
      },
      "execution_count": 90,
      "outputs": [
        {
          "output_type": "stream",
          "name": "stdout",
          "text": [
            "Epoch 1/10\n",
            "58/58 [==============================] - 4s 62ms/step - loss: 0.6636 - accuracy: 0.5920 - val_loss: 0.6598 - val_accuracy: 0.6015\n",
            "Epoch 2/10\n",
            "58/58 [==============================] - 3s 58ms/step - loss: 0.6663 - accuracy: 0.5874 - val_loss: 0.6565 - val_accuracy: 0.5988\n",
            "Epoch 3/10\n",
            "58/58 [==============================] - 3s 58ms/step - loss: 0.6588 - accuracy: 0.5999 - val_loss: 0.6542 - val_accuracy: 0.6156\n",
            "Epoch 4/10\n",
            "58/58 [==============================] - 3s 59ms/step - loss: 0.6577 - accuracy: 0.6044 - val_loss: 0.6547 - val_accuracy: 0.6048\n",
            "Epoch 5/10\n",
            "58/58 [==============================] - 3s 57ms/step - loss: 0.6598 - accuracy: 0.5908 - val_loss: 0.6532 - val_accuracy: 0.6113\n",
            "Epoch 6/10\n",
            "58/58 [==============================] - 5s 80ms/step - loss: 0.6559 - accuracy: 0.6044 - val_loss: 0.6531 - val_accuracy: 0.6097\n",
            "Epoch 7/10\n",
            "58/58 [==============================] - 4s 63ms/step - loss: 0.6581 - accuracy: 0.6012 - val_loss: 0.6525 - val_accuracy: 0.5988\n",
            "Epoch 8/10\n",
            "58/58 [==============================] - 3s 56ms/step - loss: 0.6514 - accuracy: 0.6056 - val_loss: 0.6516 - val_accuracy: 0.6026\n",
            "Epoch 9/10\n",
            "58/58 [==============================] - 3s 58ms/step - loss: 0.6548 - accuracy: 0.6044 - val_loss: 0.6491 - val_accuracy: 0.6167\n",
            "Epoch 10/10\n",
            "58/58 [==============================] - 3s 56ms/step - loss: 0.6512 - accuracy: 0.6078 - val_loss: 0.6488 - val_accuracy: 0.6080\n"
          ]
        }
      ]
    },
    {
      "cell_type": "code",
      "execution_count": 91,
      "metadata": {
        "id": "Zf1IFqAHkkdr"
      },
      "outputs": [],
      "source": [
        "def decode_sentiment(score):\n",
        "    return 1 if score>0.5 else 0"
      ]
    },
    {
      "cell_type": "code",
      "source": [
        "from sklearn import metrics\n",
        "scores = model.predict(X_test)\n",
        "#print(y_pred.shape)\n",
        "#y_pred = np.argmax(y_pred, axis=1)\n",
        "#print(y_pred.shape)\n",
        "\n",
        "#\n",
        "y_pred = [decode_sentiment(score) for score in scores]\n",
        "metrics.accuracy_score(y_test, y_pred)"
      ],
      "metadata": {
        "colab": {
          "base_uri": "https://localhost:8080/"
        },
        "id": "fDr09aSm7BI6",
        "outputId": "06d905e4-9d29-40ba-86e3-8a528bc5f4e7"
      },
      "execution_count": 92,
      "outputs": [
        {
          "output_type": "execute_result",
          "data": {
            "text/plain": [
              "0.6080347448425625"
            ]
          },
          "metadata": {},
          "execution_count": 92
        }
      ]
    },
    {
      "cell_type": "code",
      "source": [
        "print(\"classification report:\")\n",
        "print(metrics.classification_report(y_test, y_pred))#, target_names=target_names))"
      ],
      "metadata": {
        "colab": {
          "base_uri": "https://localhost:8080/"
        },
        "id": "_ogb6skw7BVD",
        "outputId": "4f18cd9c-3cc0-452c-b093-6e0605f0522e"
      },
      "execution_count": 93,
      "outputs": [
        {
          "output_type": "stream",
          "name": "stdout",
          "text": [
            "classification report:\n",
            "              precision    recall  f1-score   support\n",
            "\n",
            "           0       0.61      0.47      0.53       868\n",
            "           1       0.61      0.73      0.66       974\n",
            "\n",
            "    accuracy                           0.61      1842\n",
            "   macro avg       0.61      0.60      0.60      1842\n",
            "weighted avg       0.61      0.61      0.60      1842\n",
            "\n"
          ]
        }
      ]
    },
    {
      "cell_type": "code",
      "source": [
        "print(\"confusion matrix: \")\n",
        "print(metrics.confusion_matrix(y_test, y_pred))"
      ],
      "metadata": {
        "colab": {
          "base_uri": "https://localhost:8080/"
        },
        "id": "KVF6qj0w7Xxt",
        "outputId": "d9f03093-bdbc-42ef-f02a-9ca59b86af15"
      },
      "execution_count": 94,
      "outputs": [
        {
          "output_type": "stream",
          "name": "stdout",
          "text": [
            "confusion matrix: \n",
            "[[410 458]\n",
            " [264 710]]\n"
          ]
        }
      ]
    },
    {
      "cell_type": "code",
      "execution_count": 95,
      "metadata": {
        "id": "3akSppbUYhfa",
        "colab": {
          "base_uri": "https://localhost:8080/",
          "height": 279
        },
        "outputId": "86416e9e-012c-4bc9-d23e-d239f4c559ad"
      },
      "outputs": [
        {
          "output_type": "execute_result",
          "data": {
            "text/plain": [
              "Text(0.5, 1.0, 'Loss evolution')"
            ]
          },
          "metadata": {},
          "execution_count": 95
        },
        {
          "output_type": "display_data",
          "data": {
            "text/plain": [
              "<Figure size 864x576 with 1 Axes>"
            ],
            "image/png": "[encoded data removed]"
          },
          "metadata": {
            "needs_background": "light"
          }
        }
      ],
      "source": [
        "plt.figure(figsize=(12, 8))\n",
        "plt.subplot(2, 2, 1)\n",
        "plt.plot(history.history['loss'], label='Loss')\n",
        "plt.plot(history.history['val_loss'], label='val_Loss')\n",
        "plt.legend()\n",
        "plt.grid()\n",
        "plt.title('Loss evolution')\n"
      ]
    },
    {
      "cell_type": "code",
      "source": [
        "plt.subplot(1, 1, 1)\n",
        "plt.plot(history.history['accuracy'], label='accuracy')\n",
        "plt.plot(history.history['val_accuracy'], label='val_accuracy')\n",
        "plt.legend()\n",
        "plt.grid()\n",
        "plt.title('Accuracy evolution')"
      ],
      "metadata": {
        "colab": {
          "base_uri": "https://localhost:8080/",
          "height": 298
        },
        "id": "d9_R2IsV8N0z",
        "outputId": "f4315599-9393-4796-f585-431bdda73ed7"
      },
      "execution_count": 96,
      "outputs": [
        {
          "output_type": "execute_result",
          "data": {
            "text/plain": [
              "Text(0.5, 1.0, 'Accuracy evolution')"
            ]
          },
          "metadata": {},
          "execution_count": 96
        },
        {
          "output_type": "display_data",
          "data": {
            "text/plain": [
              "<Figure size 432x288 with 1 Axes>"
            ],
            "image/png": "[encoded data removed]"
          },
          "metadata": {
            "needs_background": "light"
          }
        }
      ]
    },
    {
      "cell_type": "code",
      "source": [
        ""
      ],
      "metadata": {
        "id": "NTrQ3h3HMnfh"
      },
      "execution_count": 69,
      "outputs": []
    },
    {
      "cell_type": "markdown",
      "metadata": {
        "id": "5NLVzLeLnQb-"
      },
      "source": [
        "## **Bi-Directional LSTM**"
      ]
    },
    {
      "cell_type": "code",
      "execution_count": 77,
      "metadata": {
        "colab": {
          "base_uri": "https://localhost:8080/"
        },
        "id": "d4113r68cIX7",
        "outputId": "e2e18f61-0e58-40d5-81a6-05a4928d46c7"
      },
      "outputs": [
        {
          "output_type": "stream",
          "name": "stdout",
          "text": [
            "Model: \"sequential_3\"\n",
            "_________________________________________________________________\n",
            " Layer (type)                Output Shape              Param #   \n",
            "=================================================================\n",
            " embedding_3 (Embedding)     (None, 66, 100)           2179600   \n",
            "                                                                 \n",
            " bidirectional_1 (Bidirectio  (None, 200)              160800    \n",
            " nal)                                                            \n",
            "                                                                 \n",
            " dense_6 (Dense)             (None, 512)               102912    \n",
            "                                                                 \n",
            " dense_7 (Dense)             (None, 256)               131328    \n",
            "                                                                 \n",
            " dense_8 (Dense)             (None, 1)                 257       \n",
            "                                                                 \n",
            "=================================================================\n",
            "Total params: 2,574,897\n",
            "Trainable params: 395,297\n",
            "Non-trainable params: 2,179,600\n",
            "_________________________________________________________________\n"
          ]
        }
      ],
      "source": [
        "\n",
        "model = Sequential()\n",
        "\n",
        "# Keras Embedding layer with Word2Vec weights initialization\n",
        "model.add(Embedding(embedding_matrix.shape[0],embedding_matrix.shape[1],weights=[embedding_matrix],input_length=MAX_SEQUENCE_LENGTH,trainable=False))\n",
        "\n",
        "#model.add(Dropout(0.25))\n",
        "#model.add(Conv1D(128, 3, activation='relu'))\n",
        "model.add(Bidirectional(LSTM(200, dropout=0.3)))\n",
        "model.add(Dense(512,activation='relu'))\n",
        "model.add(Dense(256,activation='relu'))\n",
        "model.add(Dense(1,activation='sigmoid'))\n",
        "\n",
        "model.compile(optimizer='adam', loss='binary_crossentropy',\n",
        "              metrics=['accuracy'])\n",
        "#ReduceLROnPlateau = ReduceLROnPlateau(factor=0.1, min_lr = 0.01, monitor = 'val_loss',verbose = 1)\n",
        "model.summary()"
      ]
    },
    {
      "cell_type": "code",
      "source": [
        "history = model.fit(X_train, y_train, epochs=10, batch_size=128,\n",
        "                    validation_data=(X_test, y_test), verbose=1)"
      ],
      "metadata": {
        "id": "WSmE-KWvWrcJ",
        "outputId": "8a95a737-4b9a-4307-9056-fe9c3e5dddcc",
        "colab": {
          "base_uri": "https://localhost:8080/"
        }
      },
      "execution_count": 78,
      "outputs": [
        {
          "output_type": "stream",
          "name": "stdout",
          "text": [
            "Epoch 1/10\n",
            "58/58 [==============================] - 5s 32ms/step - loss: 0.6819 - accuracy: 0.5582 - val_loss: 0.6501 - val_accuracy: 0.6086\n",
            "Epoch 2/10\n",
            "58/58 [==============================] - 1s 14ms/step - loss: 0.6538 - accuracy: 0.6102 - val_loss: 0.6265 - val_accuracy: 0.6433\n",
            "Epoch 3/10\n",
            "58/58 [==============================] - 1s 13ms/step - loss: 0.6358 - accuracy: 0.6330 - val_loss: 0.6212 - val_accuracy: 0.6379\n",
            "Epoch 4/10\n",
            "58/58 [==============================] - 1s 14ms/step - loss: 0.6225 - accuracy: 0.6493 - val_loss: 0.6161 - val_accuracy: 0.6493\n",
            "Epoch 5/10\n",
            "58/58 [==============================] - 1s 14ms/step - loss: 0.6081 - accuracy: 0.6665 - val_loss: 0.6055 - val_accuracy: 0.6661\n",
            "Epoch 6/10\n",
            "58/58 [==============================] - 1s 14ms/step - loss: 0.6015 - accuracy: 0.6683 - val_loss: 0.6158 - val_accuracy: 0.6504\n",
            "Epoch 7/10\n",
            "58/58 [==============================] - 1s 14ms/step - loss: 0.5879 - accuracy: 0.6796 - val_loss: 0.5599 - val_accuracy: 0.7302\n",
            "Epoch 8/10\n",
            "58/58 [==============================] - 1s 14ms/step - loss: 0.5483 - accuracy: 0.7257 - val_loss: 0.5688 - val_accuracy: 0.7128\n",
            "Epoch 9/10\n",
            "58/58 [==============================] - 1s 14ms/step - loss: 0.5418 - accuracy: 0.7260 - val_loss: 0.5251 - val_accuracy: 0.7465\n",
            "Epoch 10/10\n",
            "58/58 [==============================] - 1s 14ms/step - loss: 0.5124 - accuracy: 0.7414 - val_loss: 0.5277 - val_accuracy: 0.7405\n"
          ]
        }
      ]
    },
    {
      "cell_type": "code",
      "source": [
        "model.layers[0].trainable=True\n",
        "model.summary()"
      ],
      "metadata": {
        "colab": {
          "base_uri": "https://localhost:8080/"
        },
        "id": "ljtLFtqYdeI2",
        "outputId": "cc793b2c-5d8b-4c28-8356-8a529577051f"
      },
      "execution_count": 79,
      "outputs": [
        {
          "output_type": "stream",
          "name": "stdout",
          "text": [
            "Model: \"sequential_3\"\n",
            "_________________________________________________________________\n",
            " Layer (type)                Output Shape              Param #   \n",
            "=================================================================\n",
            " embedding_3 (Embedding)     (None, 66, 100)           2179600   \n",
            "                                                                 \n",
            " bidirectional_1 (Bidirectio  (None, 200)              160800    \n",
            " nal)                                                            \n",
            "                                                                 \n",
            " dense_6 (Dense)             (None, 512)               102912    \n",
            "                                                                 \n",
            " dense_7 (Dense)             (None, 256)               131328    \n",
            "                                                                 \n",
            " dense_8 (Dense)             (None, 1)                 257       \n",
            "                                                                 \n",
            "=================================================================\n",
            "Total params: 2,574,897\n",
            "Trainable params: 2,574,897\n",
            "Non-trainable params: 0\n",
            "_________________________________________________________________\n"
          ]
        }
      ]
    },
    {
      "cell_type": "code",
      "source": [
        "history = model.fit(X_train, y_train, epochs=10, batch_size=128,\n",
        "                    validation_data=(X_test, y_test), verbose=1)"
      ],
      "metadata": {
        "colab": {
          "base_uri": "https://localhost:8080/"
        },
        "id": "BXcB9Y38deYc",
        "outputId": "200b7899-ad11-4dde-ee3f-84d34b0bddb2"
      },
      "execution_count": 80,
      "outputs": [
        {
          "output_type": "stream",
          "name": "stdout",
          "text": [
            "Epoch 1/10\n",
            "58/58 [==============================] - 1s 16ms/step - loss: 0.4952 - accuracy: 0.7573 - val_loss: 0.5350 - val_accuracy: 0.7459\n",
            "Epoch 2/10\n",
            "58/58 [==============================] - 1s 14ms/step - loss: 0.4915 - accuracy: 0.7647 - val_loss: 0.5206 - val_accuracy: 0.7519\n",
            "Epoch 3/10\n",
            "58/58 [==============================] - 1s 14ms/step - loss: 0.4798 - accuracy: 0.7687 - val_loss: 0.5257 - val_accuracy: 0.7503\n",
            "Epoch 4/10\n",
            "58/58 [==============================] - 1s 14ms/step - loss: 0.4656 - accuracy: 0.7782 - val_loss: 0.5183 - val_accuracy: 0.7503\n",
            "Epoch 5/10\n",
            "58/58 [==============================] - 1s 14ms/step - loss: 0.4540 - accuracy: 0.7839 - val_loss: 0.5427 - val_accuracy: 0.7546\n",
            "Epoch 6/10\n",
            "58/58 [==============================] - 1s 14ms/step - loss: 0.4585 - accuracy: 0.7834 - val_loss: 0.5085 - val_accuracy: 0.7606\n",
            "Epoch 7/10\n",
            "58/58 [==============================] - 1s 14ms/step - loss: 0.4337 - accuracy: 0.7971 - val_loss: 0.5095 - val_accuracy: 0.7660\n",
            "Epoch 8/10\n",
            "58/58 [==============================] - 1s 14ms/step - loss: 0.4370 - accuracy: 0.7982 - val_loss: 0.5264 - val_accuracy: 0.7720\n",
            "Epoch 9/10\n",
            "58/58 [==============================] - 1s 14ms/step - loss: 0.4331 - accuracy: 0.7986 - val_loss: 0.5066 - val_accuracy: 0.7638\n",
            "Epoch 10/10\n",
            "58/58 [==============================] - 1s 14ms/step - loss: 0.4256 - accuracy: 0.7972 - val_loss: 0.5104 - val_accuracy: 0.7671\n"
          ]
        }
      ]
    },
    {
      "cell_type": "code",
      "execution_count": 81,
      "metadata": {
        "colab": {
          "base_uri": "https://localhost:8080/"
        },
        "id": "_RJeqHfKRoeC",
        "outputId": "a81156e4-a80a-41ca-df0b-ece0cc5aa3cb"
      },
      "outputs": [
        {
          "output_type": "execute_result",
          "data": {
            "text/plain": [
              "0.7671009771986971"
            ]
          },
          "metadata": {},
          "execution_count": 81
        }
      ],
      "source": [
        "\n",
        "scores = model.predict(X_test)\n",
        "#print(y_pred.shape)\n",
        "#y_pred = np.argmax(y_pred, axis=1)\n",
        "#print(y_pred.shape)\n",
        "\n",
        "#\n",
        "y_pred = [decode_sentiment(score) for score in scores]\n",
        "metrics.accuracy_score(y_test, y_pred)"
      ]
    },
    {
      "cell_type": "code",
      "execution_count": 82,
      "metadata": {
        "colab": {
          "base_uri": "https://localhost:8080/"
        },
        "id": "J9CWxq6gfjYu",
        "outputId": "70395e81-95c6-457b-816f-14ad83ebabc5"
      },
      "outputs": [
        {
          "output_type": "stream",
          "name": "stdout",
          "text": [
            "classification report:\n",
            "              precision    recall  f1-score   support\n",
            "\n",
            "           0       0.76      0.74      0.75       868\n",
            "           1       0.77      0.79      0.78       974\n",
            "\n",
            "    accuracy                           0.77      1842\n",
            "   macro avg       0.77      0.77      0.77      1842\n",
            "weighted avg       0.77      0.77      0.77      1842\n",
            "\n"
          ]
        }
      ],
      "source": [
        "print(\"classification report:\")\n",
        "print(metrics.classification_report(y_test, y_pred))#, target_names=target_names))"
      ]
    },
    {
      "cell_type": "code",
      "execution_count": 83,
      "metadata": {
        "colab": {
          "base_uri": "https://localhost:8080/"
        },
        "id": "JURsk-qIfjeH",
        "outputId": "c27fd588-c58f-474d-ca75-6ff76843c855"
      },
      "outputs": [
        {
          "output_type": "stream",
          "name": "stdout",
          "text": [
            "confusion matrix: \n",
            "[[641 227]\n",
            " [202 772]]\n"
          ]
        }
      ],
      "source": [
        "print(\"confusion matrix: \")\n",
        "print(metrics.confusion_matrix(y_test, y_pred))"
      ]
    },
    {
      "cell_type": "code",
      "execution_count": 84,
      "metadata": {
        "colab": {
          "base_uri": "https://localhost:8080/",
          "height": 279
        },
        "id": "W32kkx6kfuDq",
        "outputId": "08a98596-0917-4fa3-e3a1-423c147a5ecf"
      },
      "outputs": [
        {
          "output_type": "execute_result",
          "data": {
            "text/plain": [
              "Text(0.5, 1.0, 'Loss evolution')"
            ]
          },
          "metadata": {},
          "execution_count": 84
        },
        {
          "output_type": "display_data",
          "data": {
            "text/plain": [
              "<Figure size 864x576 with 1 Axes>"
            ],
            "image/png": "[encoded data removed]"
          },
          "metadata": {
            "needs_background": "light"
          }
        }
      ],
      "source": [
        "plt.figure(figsize=(12, 8))\n",
        "plt.subplot(2, 2, 1)\n",
        "plt.plot(history.history['loss'], label='Loss')\n",
        "plt.plot(history.history['val_loss'], label='val_Loss')\n",
        "plt.legend()\n",
        "plt.grid()\n",
        "plt.title('Loss evolution')"
      ]
    },
    {
      "cell_type": "code",
      "execution_count": 85,
      "metadata": {
        "colab": {
          "base_uri": "https://localhost:8080/",
          "height": 298
        },
        "id": "bdUaEswgfuNC",
        "outputId": "d96e44ef-dc20-428b-8f9c-0f63d9a1b549"
      },
      "outputs": [
        {
          "output_type": "execute_result",
          "data": {
            "text/plain": [
              "Text(0.5, 1.0, 'Accuracy evolution')"
            ]
          },
          "metadata": {},
          "execution_count": 85
        },
        {
          "output_type": "display_data",
          "data": {
            "text/plain": [
              "<Figure size 432x288 with 1 Axes>"
            ],
            "image/png": "[encoded data removed]"
          },
          "metadata": {
            "needs_background": "light"
          }
        }
      ],
      "source": [
        "plt.subplot(1, 1, 1)\n",
        "plt.plot(history.history['accuracy'], label='accuracy')\n",
        "plt.plot(history.history['val_accuracy'], label='val_accuracy')\n",
        "plt.legend()\n",
        "plt.grid()\n",
        "plt.title('Accuracy evolution')"
      ]
    },
    {
      "cell_type": "code",
      "source": [
        "   # GRU with Word2Vec embeddings and two dense layers\n",
        "model = Sequential()\n",
        "model.add(Embedding(embedding_matrix.shape[0],embedding_matrix.shape[1],weights=[embedding_matrix],input_length=MAX_SEQUENCE_LENGTH,trainable=False))\n",
        "#model.add(SpatialDropout1D(0.3))\n",
        "model.add(Bidirectional(GRU(300,dropout=0.3)))\n",
        "model.add(Dense(256, activation='relu'))\n",
        "model.add(Dense(1, activation='sigmoid'))\n",
        "model.compile(loss='binary_crossentropy', optimizer='adam',metrics=['accuracy'])   \n",
        "    \n",
        "model.summary()"
      ],
      "metadata": {
        "id": "1NBCUkuyW_6N",
        "outputId": "01428976-e9ec-46ee-f9be-0fcc09590b67",
        "colab": {
          "base_uri": "https://localhost:8080/"
        }
      },
      "execution_count": 109,
      "outputs": [
        {
          "output_type": "stream",
          "name": "stdout",
          "text": [
            "Model: \"sequential_11\"\n",
            "_________________________________________________________________\n",
            " Layer (type)                Output Shape              Param #   \n",
            "=================================================================\n",
            " embedding_11 (Embedding)    (None, 66, 100)           2179600   \n",
            "                                                                 \n",
            " bidirectional_3 (Bidirectio  (None, 600)              723600    \n",
            " nal)                                                            \n",
            "                                                                 \n",
            " dense_21 (Dense)            (None, 256)               153856    \n",
            "                                                                 \n",
            " dense_22 (Dense)            (None, 1)                 257       \n",
            "                                                                 \n",
            "=================================================================\n",
            "Total params: 3,057,313\n",
            "Trainable params: 877,713\n",
            "Non-trainable params: 2,179,600\n",
            "_________________________________________________________________\n"
          ]
        }
      ]
    },
    {
      "cell_type": "code",
      "source": [
        "history = model.fit(X_train, y_train, epochs=10, batch_size=64,\n",
        "                    validation_data=(X_test, y_test), verbose=1)"
      ],
      "metadata": {
        "id": "BPFBTfQQZICL",
        "outputId": "fd92ae18-e21e-4aaa-8a89-4f1dbf9a97a4",
        "colab": {
          "base_uri": "https://localhost:8080/"
        }
      },
      "execution_count": 110,
      "outputs": [
        {
          "output_type": "stream",
          "name": "stdout",
          "text": [
            "Epoch 1/10\n",
            "116/116 [==============================] - 5s 23ms/step - loss: 0.6719 - accuracy: 0.6087 - val_loss: 0.6260 - val_accuracy: 0.6336\n",
            "Epoch 2/10\n",
            "116/116 [==============================] - 2s 16ms/step - loss: 0.6172 - accuracy: 0.6576 - val_loss: 0.6020 - val_accuracy: 0.6618\n",
            "Epoch 3/10\n",
            "116/116 [==============================] - 2s 17ms/step - loss: 0.5869 - accuracy: 0.6862 - val_loss: 0.5776 - val_accuracy: 0.6857\n",
            "Epoch 4/10\n",
            "116/116 [==============================] - 2s 16ms/step - loss: 0.5642 - accuracy: 0.7039 - val_loss: 0.5725 - val_accuracy: 0.6916\n",
            "Epoch 5/10\n",
            "116/116 [==============================] - 2s 16ms/step - loss: 0.5450 - accuracy: 0.7191 - val_loss: 0.5718 - val_accuracy: 0.6873\n",
            "Epoch 6/10\n",
            "116/116 [==============================] - 2s 16ms/step - loss: 0.5284 - accuracy: 0.7283 - val_loss: 0.5494 - val_accuracy: 0.7155\n",
            "Epoch 7/10\n",
            "116/116 [==============================] - 2s 16ms/step - loss: 0.5147 - accuracy: 0.7419 - val_loss: 0.5559 - val_accuracy: 0.7177\n",
            "Epoch 8/10\n",
            "116/116 [==============================] - 2s 16ms/step - loss: 0.5084 - accuracy: 0.7474 - val_loss: 0.5584 - val_accuracy: 0.7258\n",
            "Epoch 9/10\n",
            "116/116 [==============================] - 2s 16ms/step - loss: 0.4948 - accuracy: 0.7565 - val_loss: 0.5653 - val_accuracy: 0.7161\n",
            "Epoch 10/10\n",
            "116/116 [==============================] - 2s 16ms/step - loss: 0.4846 - accuracy: 0.7599 - val_loss: 0.5595 - val_accuracy: 0.7296\n"
          ]
        }
      ]
    },
    {
      "cell_type": "code",
      "source": [
        "model.layers[0].trainable=True\n",
        "model.summary()"
      ],
      "metadata": {
        "id": "NWj0ZRTZZmSD",
        "outputId": "521c3ea9-e673-4564-ae75-8ff8bb2bbe8a",
        "colab": {
          "base_uri": "https://localhost:8080/"
        }
      },
      "execution_count": 111,
      "outputs": [
        {
          "output_type": "stream",
          "name": "stdout",
          "text": [
            "Model: \"sequential_11\"\n",
            "_________________________________________________________________\n",
            " Layer (type)                Output Shape              Param #   \n",
            "=================================================================\n",
            " embedding_11 (Embedding)    (None, 66, 100)           2179600   \n",
            "                                                                 \n",
            " bidirectional_3 (Bidirectio  (None, 600)              723600    \n",
            " nal)                                                            \n",
            "                                                                 \n",
            " dense_21 (Dense)            (None, 256)               153856    \n",
            "                                                                 \n",
            " dense_22 (Dense)            (None, 1)                 257       \n",
            "                                                                 \n",
            "=================================================================\n",
            "Total params: 3,057,313\n",
            "Trainable params: 3,057,313\n",
            "Non-trainable params: 0\n",
            "_________________________________________________________________\n"
          ]
        }
      ]
    },
    {
      "cell_type": "code",
      "source": [
        "history = model.fit(X_train, y_train, epochs=10, batch_size=64,\n",
        "                    validation_data=(X_test, y_test), verbose=1)"
      ],
      "metadata": {
        "id": "_51qzpy0ayxJ",
        "outputId": "a8540fa7-f6b7-49d7-ebf6-4d74034ef19a",
        "colab": {
          "base_uri": "https://localhost:8080/"
        }
      },
      "execution_count": 112,
      "outputs": [
        {
          "output_type": "stream",
          "name": "stdout",
          "text": [
            "Epoch 1/10\n",
            "116/116 [==============================] - 2s 17ms/step - loss: 0.4776 - accuracy: 0.7643 - val_loss: 0.5864 - val_accuracy: 0.7182\n",
            "Epoch 2/10\n",
            "116/116 [==============================] - 2s 16ms/step - loss: 0.4629 - accuracy: 0.7771 - val_loss: 0.5724 - val_accuracy: 0.7199\n",
            "Epoch 3/10\n",
            "116/116 [==============================] - 2s 16ms/step - loss: 0.4574 - accuracy: 0.7807 - val_loss: 0.5776 - val_accuracy: 0.7177\n",
            "Epoch 4/10\n",
            "116/116 [==============================] - 2s 16ms/step - loss: 0.4439 - accuracy: 0.7892 - val_loss: 0.5762 - val_accuracy: 0.7106\n",
            "Epoch 5/10\n",
            "116/116 [==============================] - 2s 16ms/step - loss: 0.4305 - accuracy: 0.7947 - val_loss: 0.5652 - val_accuracy: 0.7286\n",
            "Epoch 6/10\n",
            "116/116 [==============================] - 2s 16ms/step - loss: 0.4235 - accuracy: 0.7976 - val_loss: 0.5740 - val_accuracy: 0.7193\n",
            "Epoch 7/10\n",
            "116/116 [==============================] - 2s 16ms/step - loss: 0.4254 - accuracy: 0.8004 - val_loss: 0.5832 - val_accuracy: 0.7199\n",
            "Epoch 8/10\n",
            "116/116 [==============================] - 2s 17ms/step - loss: 0.4240 - accuracy: 0.7966 - val_loss: 0.5896 - val_accuracy: 0.7220\n",
            "Epoch 9/10\n",
            "116/116 [==============================] - 2s 16ms/step - loss: 0.4155 - accuracy: 0.8044 - val_loss: 0.5988 - val_accuracy: 0.7193\n",
            "Epoch 10/10\n",
            "116/116 [==============================] - 2s 16ms/step - loss: 0.3991 - accuracy: 0.8122 - val_loss: 0.6105 - val_accuracy: 0.7166\n"
          ]
        }
      ]
    },
    {
      "cell_type": "code",
      "source": [
        "\n",
        "scores = model.predict(X_test)\n",
        "#print(y_pred.shape)\n",
        "#y_pred = np.argmax(y_pred, axis=1)\n",
        "#print(y_pred.shape)\n",
        "\n",
        "#\n",
        "y_pred = [decode_sentiment(score) for score in scores]\n",
        "metrics.accuracy_score(y_test, y_pred)"
      ],
      "metadata": {
        "id": "4YWBtM81a7nd",
        "outputId": "1a0815e0-8f58-4f80-e832-7cae242b6a83",
        "colab": {
          "base_uri": "https://localhost:8080/"
        }
      },
      "execution_count": 113,
      "outputs": [
        {
          "output_type": "execute_result",
          "data": {
            "text/plain": [
              "0.7166123778501629"
            ]
          },
          "metadata": {},
          "execution_count": 113
        }
      ]
    },
    {
      "cell_type": "code",
      "source": [
        "print(\"classification report:\")\n",
        "print(metrics.classification_report(y_test, y_pred))#, target_names=target_names))"
      ],
      "metadata": {
        "id": "x5-_Gh5EbVoJ",
        "outputId": "7ae1499f-26a3-4ab2-f3b2-d51499950bd0",
        "colab": {
          "base_uri": "https://localhost:8080/"
        }
      },
      "execution_count": 114,
      "outputs": [
        {
          "output_type": "stream",
          "name": "stdout",
          "text": [
            "classification report:\n",
            "              precision    recall  f1-score   support\n",
            "\n",
            "           0       0.70      0.71      0.70       868\n",
            "           1       0.74      0.72      0.73       974\n",
            "\n",
            "    accuracy                           0.72      1842\n",
            "   macro avg       0.72      0.72      0.72      1842\n",
            "weighted avg       0.72      0.72      0.72      1842\n",
            "\n"
          ]
        }
      ]
    },
    {
      "cell_type": "code",
      "source": [
        "print(\"confusion matrix: \")\n",
        "print(metrics.confusion_matrix(y_test, y_pred))"
      ],
      "metadata": {
        "id": "RBHqE4pzbZep",
        "outputId": "f68eb6e2-4992-4c6c-8fbd-a5f61a36be22",
        "colab": {
          "base_uri": "https://localhost:8080/"
        }
      },
      "execution_count": 115,
      "outputs": [
        {
          "output_type": "stream",
          "name": "stdout",
          "text": [
            "confusion matrix: \n",
            "[[614 254]\n",
            " [268 706]]\n"
          ]
        }
      ]
    },
    {
      "cell_type": "code",
      "source": [
        "plt.figure(figsize=(12, 8))\n",
        "plt.subplot(2, 2, 1)\n",
        "plt.plot(history.history['loss'], label='Loss')\n",
        "plt.plot(history.history['val_loss'], label='val_Loss')\n",
        "plt.legend()\n",
        "plt.grid()\n",
        "plt.title('Loss evolution')"
      ],
      "metadata": {
        "id": "FknWg417bfxM",
        "outputId": "f1dd6187-8fca-4ef3-d304-986c89b864eb",
        "colab": {
          "base_uri": "https://localhost:8080/",
          "height": 279
        }
      },
      "execution_count": 116,
      "outputs": [
        {
          "output_type": "execute_result",
          "data": {
            "text/plain": [
              "Text(0.5, 1.0, 'Loss evolution')"
            ]
          },
          "metadata": {},
          "execution_count": 116
        },
        {
          "output_type": "display_data",
          "data": {
            "text/plain": [
              "<Figure size 864x576 with 1 Axes>"
            ],
            "image/png": "[encoded data removed]"
          },
          "metadata": {
            "needs_background": "light"
          }
        }
      ]
    },
    {
      "cell_type": "code",
      "source": [
        "plt.subplot(1, 1, 1)\n",
        "plt.plot(history.history['accuracy'], label='accuracy')\n",
        "plt.plot(history.history['val_accuracy'], label='val_accuracy')\n",
        "plt.legend()\n",
        "plt.grid()\n",
        "plt.title('Accuracy evolution')"
      ],
      "metadata": {
        "id": "MZ_-XSsSbkeq",
        "outputId": "ea43f2d8-e5d4-4945-9ed5-a98e7d11acc2",
        "colab": {
          "base_uri": "https://localhost:8080/",
          "height": 298
        }
      },
      "execution_count": 117,
      "outputs": [
        {
          "output_type": "execute_result",
          "data": {
            "text/plain": [
              "Text(0.5, 1.0, 'Accuracy evolution')"
            ]
          },
          "metadata": {},
          "execution_count": 117
        },
        {
          "output_type": "display_data",
          "data": {
            "text/plain": [
              "<Figure size 432x288 with 1 Axes>"
            ],
            "image/png": "[encoded data removed]"
          },
          "metadata": {
            "needs_background": "light"
          }
        }
      ]
    },
    {
      "cell_type": "code",
      "source": [
        ""
      ],
      "metadata": {
        "id": "PArhLDkRbu_-"
      },
      "execution_count": null,
      "outputs": []
    }
  ],
  "metadata": {
    "accelerator": "GPU",
    "colab": {
      "collapsed_sections": [],
      "name": "Roman_Urdu_Hate_Speech_Detection",
      "provenance": [],
      "mount_file_id": "1JEw9QMnehx234D0gQLbZEKrvevVry222",
      "authorship_tag": "ABX9TyNOZgxH5hRoT6afvo3863Pl",
      "include_colab_link": true
    },
    "kernelspec": {
      "display_name": "Python 3",
      "name": "python3"
    },
    "language_info": {
      "name": "python"
    }
  },
  "nbformat": 4,
  "nbformat_minor": 0
}