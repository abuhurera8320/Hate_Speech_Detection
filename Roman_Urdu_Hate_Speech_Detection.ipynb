{
  "nbformat": 4,
  "nbformat_minor": 0,
  "metadata": {
    "colab": {
      "name": "Roman_Urdu_Hate_Speech_Detection",
      "provenance": [],
      "collapsed_sections": [],
      "mount_file_id": "1JEw9QMnehx234D0gQLbZEKrvevVry222",
      "authorship_tag": "ABX9TyP7YT9FEQVDJg1X7UbdE2Cz"
    },
    "kernelspec": {
      "name": "python3",
      "display_name": "Python 3"
    },
    "language_info": {
      "name": "python"
    },
    "accelerator": "GPU"
  },
  "cells": [
    {
      "cell_type": "code",
      "execution_count": 1,
      "metadata": {
        "id": "vqjL5Dp7RJqL"
      },
      "outputs": [],
      "source": [
        "import pandas as pd\n",
        "import matplotlib.pyplot as plt\n",
        "import numpy as np"
      ]
    },
    {
      "cell_type": "code",
      "source": [
        "from keras.preprocessing.text import Tokenizer\n",
        "from keras.preprocessing.sequence import pad_sequences\n",
        "from tensorflow.keras.utils import to_categorical\n",
        "from keras.models import Sequential,load_model\n",
        "from keras.layers import Conv1D,LSTM,Dense,Embedding,RepeatVector,TimeDistributed,Bidirectional,GRU\n",
        "from keras.callbacks import EarlyStopping\n",
        "from keras.preprocessing.text import Tokenizer\n",
        "from keras.preprocessing.sequence import pad_sequences\n",
        "from nltk.translate.bleu_score import corpus_bleu\n",
        "from IPython.display import Markdown, display\n",
        "from keras.layers import Dropout\n",
        "from tensorflow.keras.optimizers import Adam\n",
        "from tensorflow.keras.callbacks import ReduceLROnPlateau"
      ],
      "metadata": {
        "id": "2vlS7w8AQPeE"
      },
      "execution_count": 2,
      "outputs": []
    },
    {
      "cell_type": "code",
      "source": [
        "df=pd.read_csv('/content/drive/MyDrive/FYP /task_1_train.tsv', sep='\\t')"
      ],
      "metadata": {
        "id": "sgm01JvMRV9x"
      },
      "execution_count": null,
      "outputs": []
    },
    {
      "cell_type": "code",
      "source": [
        "df.columns=['Text','Label']\n",
        "df.count()"
      ],
      "metadata": {
        "colab": {
          "base_uri": "https://localhost:8080/"
        },
        "id": "zimdvefxRWW_",
        "outputId": "0c476fe7-d62f-4ef5-f8e0-a73dedef7015"
      },
      "execution_count": null,
      "outputs": [
        {
          "output_type": "execute_result",
          "data": {
            "text/plain": [
              "Text     7208\n",
              "Label    7208\n",
              "dtype: int64"
            ]
          },
          "metadata": {},
          "execution_count": 5
        }
      ]
    },
    {
      "cell_type": "code",
      "source": [
        "l=df['Label'].unique()\n",
        "l_dict={0:'Abusive/Offensive',1:'Normal'}\n",
        "for i in l:\n",
        "    print('Label {} is for {}'.format(i,l_dict[i]))"
      ],
      "metadata": {
        "colab": {
          "base_uri": "https://localhost:8080/"
        },
        "id": "_jcdjnfxRWbC",
        "outputId": "ed0a02ba-e1ba-456e-cc64-4b8b267be13a"
      },
      "execution_count": null,
      "outputs": [
        {
          "output_type": "stream",
          "name": "stdout",
          "text": [
            "Label 0 is for Abusive/Offensive\n",
            "Label 1 is for Normal\n"
          ]
        }
      ]
    },
    {
      "cell_type": "code",
      "source": [
        "offensivedf=df.loc[df['Label']==1]\n",
        "offensivedf.count()"
      ],
      "metadata": {
        "colab": {
          "base_uri": "https://localhost:8080/"
        },
        "id": "Q49uFn7-RWd1",
        "outputId": "4f589902-eb9b-4b78-efd9-b669ffaf47d5"
      },
      "execution_count": null,
      "outputs": [
        {
          "output_type": "execute_result",
          "data": {
            "text/plain": [
              "Text     3850\n",
              "Label    3850\n",
              "dtype: int64"
            ]
          },
          "metadata": {},
          "execution_count": 7
        }
      ]
    },
    {
      "cell_type": "code",
      "source": [
        "df1=pd.read_csv('/content/drive/MyDrive/FYP /task_1_test.tsv', sep='\\t')"
      ],
      "metadata": {
        "id": "e7BGD3cURWfl"
      },
      "execution_count": null,
      "outputs": []
    },
    {
      "cell_type": "code",
      "source": [
        "df1.columns=['Text','Label']\n",
        "df1.count()"
      ],
      "metadata": {
        "colab": {
          "base_uri": "https://localhost:8080/"
        },
        "id": "cXocGCMIRWhV",
        "outputId": "aadb2ebd-538e-4c88-c9b8-2e9dca21063b"
      },
      "execution_count": null,
      "outputs": [
        {
          "output_type": "execute_result",
          "data": {
            "text/plain": [
              "Text     2002\n",
              "Label    2002\n",
              "dtype: int64"
            ]
          },
          "metadata": {},
          "execution_count": 9
        }
      ]
    },
    {
      "cell_type": "code",
      "source": [
        "offensivedf=df1.loc[df1['Label']==1]\n",
        "offensivedf.count()"
      ],
      "metadata": {
        "colab": {
          "base_uri": "https://localhost:8080/"
        },
        "id": "B6ET2MquRtYZ",
        "outputId": "46106871-2bd0-4f7f-85c9-109e612e8226"
      },
      "execution_count": null,
      "outputs": [
        {
          "output_type": "execute_result",
          "data": {
            "text/plain": [
              "Text     1069\n",
              "Label    1069\n",
              "dtype: int64"
            ]
          },
          "metadata": {},
          "execution_count": 10
        }
      ]
    },
    {
      "cell_type": "code",
      "source": [
        "Neutral=df.loc[df['Label']==1]\n",
        "Neutral.head()"
      ],
      "metadata": {
        "colab": {
          "base_uri": "https://localhost:8080/",
          "height": 206
        },
        "id": "_G11xe9tRtgi",
        "outputId": "6dee4a0c-4a96-4fa0-c842-664f0948fecc"
      },
      "execution_count": null,
      "outputs": [
        {
          "output_type": "execute_result",
          "data": {
            "text/plain": [
              "                                                 Text  Label\n",
              "6                                  hum kisi se km nhi      1\n",
              "7   aurat bhatak sakri hy kbi “maa” ni bhatakti . ...      1\n",
              "10   with due respect sir kya aurat march se ye ch...      1\n",
              "15                      😂😂😂😂😂😂 chal ja tujhy maaf kia      1\n",
              "16  agr ap chahtay hn k log ap ko acha kahean to a...      1"
            ],
            "text/html": [
              "\n",
              "  <div id=\"df-8d6bb9c0-e007-460e-b1fc-b1b87b3f568e\">\n",
              "    <div class=\"colab-df-container\">\n",
              "      <div>\n",
              "<style scoped>\n",
              "    .dataframe tbody tr th:only-of-type {\n",
              "        vertical-align: middle;\n",
              "    }\n",
              "\n",
              "    .dataframe tbody tr th {\n",
              "        vertical-align: top;\n",
              "    }\n",
              "\n",
              "    .dataframe thead th {\n",
              "        text-align: right;\n",
              "    }\n",
              "</style>\n",
              "<table border=\"1\" class=\"dataframe\">\n",
              "  <thead>\n",
              "    <tr style=\"text-align: right;\">\n",
              "      <th></th>\n",
              "      <th>Text</th>\n",
              "      <th>Label</th>\n",
              "    </tr>\n",
              "  </thead>\n",
              "  <tbody>\n",
              "    <tr>\n",
              "      <th>6</th>\n",
              "      <td>hum kisi se km nhi</td>\n",
              "      <td>1</td>\n",
              "    </tr>\n",
              "    <tr>\n",
              "      <th>7</th>\n",
              "      <td>aurat bhatak sakri hy kbi “maa” ni bhatakti . ...</td>\n",
              "      <td>1</td>\n",
              "    </tr>\n",
              "    <tr>\n",
              "      <th>10</th>\n",
              "      <td>with due respect sir kya aurat march se ye ch...</td>\n",
              "      <td>1</td>\n",
              "    </tr>\n",
              "    <tr>\n",
              "      <th>15</th>\n",
              "      <td>😂😂😂😂😂😂 chal ja tujhy maaf kia</td>\n",
              "      <td>1</td>\n",
              "    </tr>\n",
              "    <tr>\n",
              "      <th>16</th>\n",
              "      <td>agr ap chahtay hn k log ap ko acha kahean to a...</td>\n",
              "      <td>1</td>\n",
              "    </tr>\n",
              "  </tbody>\n",
              "</table>\n",
              "</div>\n",
              "      <button class=\"colab-df-convert\" onclick=\"convertToInteractive('df-8d6bb9c0-e007-460e-b1fc-b1b87b3f568e')\"\n",
              "              title=\"Convert this dataframe to an interactive table.\"\n",
              "              style=\"display:none;\">\n",
              "        \n",
              "  <svg xmlns=\"http://www.w3.org/2000/svg\" height=\"24px\"viewBox=\"0 0 24 24\"\n",
              "       width=\"24px\">\n",
              "    <path d=\"M0 0h24v24H0V0z\" fill=\"none\"/>\n",
              "    <path d=\"M18.56 5.44l.94 2.06.94-2.06 2.06-.94-2.06-.94-.94-2.06-.94 2.06-2.06.94zm-11 1L8.5 8.5l.94-2.06 2.06-.94-2.06-.94L8.5 2.5l-.94 2.06-2.06.94zm10 10l.94 2.06.94-2.06 2.06-.94-2.06-.94-.94-2.06-.94 2.06-2.06.94z\"/><path d=\"M17.41 7.96l-1.37-1.37c-.4-.4-.92-.59-1.43-.59-.52 0-1.04.2-1.43.59L10.3 9.45l-7.72 7.72c-.78.78-.78 2.05 0 2.83L4 21.41c.39.39.9.59 1.41.59.51 0 1.02-.2 1.41-.59l7.78-7.78 2.81-2.81c.8-.78.8-2.07 0-2.86zM5.41 20L4 18.59l7.72-7.72 1.47 1.35L5.41 20z\"/>\n",
              "  </svg>\n",
              "      </button>\n",
              "      \n",
              "  <style>\n",
              "    .colab-df-container {\n",
              "      display:flex;\n",
              "      flex-wrap:wrap;\n",
              "      gap: 12px;\n",
              "    }\n",
              "\n",
              "    .colab-df-convert {\n",
              "      background-color: #E8F0FE;\n",
              "      border: none;\n",
              "      border-radius: 50%;\n",
              "      cursor: pointer;\n",
              "      display: none;\n",
              "      fill: #1967D2;\n",
              "      height: 32px;\n",
              "      padding: 0 0 0 0;\n",
              "      width: 32px;\n",
              "    }\n",
              "\n",
              "    .colab-df-convert:hover {\n",
              "      background-color: #E2EBFA;\n",
              "      box-shadow: 0px 1px 2px rgba(60, 64, 67, 0.3), 0px 1px 3px 1px rgba(60, 64, 67, 0.15);\n",
              "      fill: #174EA6;\n",
              "    }\n",
              "\n",
              "    [theme=dark] .colab-df-convert {\n",
              "      background-color: #3B4455;\n",
              "      fill: #D2E3FC;\n",
              "    }\n",
              "\n",
              "    [theme=dark] .colab-df-convert:hover {\n",
              "      background-color: #434B5C;\n",
              "      box-shadow: 0px 1px 3px 1px rgba(0, 0, 0, 0.15);\n",
              "      filter: drop-shadow(0px 1px 2px rgba(0, 0, 0, 0.3));\n",
              "      fill: #FFFFFF;\n",
              "    }\n",
              "  </style>\n",
              "\n",
              "      <script>\n",
              "        const buttonEl =\n",
              "          document.querySelector('#df-8d6bb9c0-e007-460e-b1fc-b1b87b3f568e button.colab-df-convert');\n",
              "        buttonEl.style.display =\n",
              "          google.colab.kernel.accessAllowed ? 'block' : 'none';\n",
              "\n",
              "        async function convertToInteractive(key) {\n",
              "          const element = document.querySelector('#df-8d6bb9c0-e007-460e-b1fc-b1b87b3f568e');\n",
              "          const dataTable =\n",
              "            await google.colab.kernel.invokeFunction('convertToInteractive',\n",
              "                                                     [key], {});\n",
              "          if (!dataTable) return;\n",
              "\n",
              "          const docLinkHtml = 'Like what you see? Visit the ' +\n",
              "            '<a target=\"_blank\" href=https://colab.research.google.com/notebooks/data_table.ipynb>data table notebook</a>'\n",
              "            + ' to learn more about interactive tables.';\n",
              "          element.innerHTML = '';\n",
              "          dataTable['output_type'] = 'display_data';\n",
              "          await google.colab.output.renderOutput(dataTable, element);\n",
              "          const docLink = document.createElement('div');\n",
              "          docLink.innerHTML = docLinkHtml;\n",
              "          element.appendChild(docLink);\n",
              "        }\n",
              "      </script>\n",
              "    </div>\n",
              "  </div>\n",
              "  "
            ]
          },
          "metadata": {},
          "execution_count": 11
        }
      ]
    },
    {
      "cell_type": "code",
      "source": [
        "hate=df.loc[df['Label']==0]\n",
        "hate.head()"
      ],
      "metadata": {
        "colab": {
          "base_uri": "https://localhost:8080/",
          "height": 206
        },
        "id": "tUE0NdMVRtkm",
        "outputId": "3f31b806-9e22-4d8e-8a6f-25bbae4dfb2a"
      },
      "execution_count": null,
      "outputs": [
        {
          "output_type": "execute_result",
          "data": {
            "text/plain": [
              "                                                Text  Label\n",
              "0         bhaunk bhaunk ke pagal ho jaata ab tak....      0\n",
              "1  shivsaina  nam mulla  saina  rakh  hijra  uddh...      0\n",
              "2  there are some yahodi daboo like imran chore z...      0\n",
              "3  chutiye ye hunduism ni he islam he , isme koi ...      0\n",
              "4  han g rakhail e awal kiya bak rai hai. kisay a...      0"
            ],
            "text/html": [
              "\n",
              "  <div id=\"df-c3d69534-cdb1-4645-8431-d3143fe40de6\">\n",
              "    <div class=\"colab-df-container\">\n",
              "      <div>\n",
              "<style scoped>\n",
              "    .dataframe tbody tr th:only-of-type {\n",
              "        vertical-align: middle;\n",
              "    }\n",
              "\n",
              "    .dataframe tbody tr th {\n",
              "        vertical-align: top;\n",
              "    }\n",
              "\n",
              "    .dataframe thead th {\n",
              "        text-align: right;\n",
              "    }\n",
              "</style>\n",
              "<table border=\"1\" class=\"dataframe\">\n",
              "  <thead>\n",
              "    <tr style=\"text-align: right;\">\n",
              "      <th></th>\n",
              "      <th>Text</th>\n",
              "      <th>Label</th>\n",
              "    </tr>\n",
              "  </thead>\n",
              "  <tbody>\n",
              "    <tr>\n",
              "      <th>0</th>\n",
              "      <td>bhaunk bhaunk ke pagal ho jaata ab tak....</td>\n",
              "      <td>0</td>\n",
              "    </tr>\n",
              "    <tr>\n",
              "      <th>1</th>\n",
              "      <td>shivsaina  nam mulla  saina  rakh  hijra  uddh...</td>\n",
              "      <td>0</td>\n",
              "    </tr>\n",
              "    <tr>\n",
              "      <th>2</th>\n",
              "      <td>there are some yahodi daboo like imran chore z...</td>\n",
              "      <td>0</td>\n",
              "    </tr>\n",
              "    <tr>\n",
              "      <th>3</th>\n",
              "      <td>chutiye ye hunduism ni he islam he , isme koi ...</td>\n",
              "      <td>0</td>\n",
              "    </tr>\n",
              "    <tr>\n",
              "      <th>4</th>\n",
              "      <td>han g rakhail e awal kiya bak rai hai. kisay a...</td>\n",
              "      <td>0</td>\n",
              "    </tr>\n",
              "  </tbody>\n",
              "</table>\n",
              "</div>\n",
              "      <button class=\"colab-df-convert\" onclick=\"convertToInteractive('df-c3d69534-cdb1-4645-8431-d3143fe40de6')\"\n",
              "              title=\"Convert this dataframe to an interactive table.\"\n",
              "              style=\"display:none;\">\n",
              "        \n",
              "  <svg xmlns=\"http://www.w3.org/2000/svg\" height=\"24px\"viewBox=\"0 0 24 24\"\n",
              "       width=\"24px\">\n",
              "    <path d=\"M0 0h24v24H0V0z\" fill=\"none\"/>\n",
              "    <path d=\"M18.56 5.44l.94 2.06.94-2.06 2.06-.94-2.06-.94-.94-2.06-.94 2.06-2.06.94zm-11 1L8.5 8.5l.94-2.06 2.06-.94-2.06-.94L8.5 2.5l-.94 2.06-2.06.94zm10 10l.94 2.06.94-2.06 2.06-.94-2.06-.94-.94-2.06-.94 2.06-2.06.94z\"/><path d=\"M17.41 7.96l-1.37-1.37c-.4-.4-.92-.59-1.43-.59-.52 0-1.04.2-1.43.59L10.3 9.45l-7.72 7.72c-.78.78-.78 2.05 0 2.83L4 21.41c.39.39.9.59 1.41.59.51 0 1.02-.2 1.41-.59l7.78-7.78 2.81-2.81c.8-.78.8-2.07 0-2.86zM5.41 20L4 18.59l7.72-7.72 1.47 1.35L5.41 20z\"/>\n",
              "  </svg>\n",
              "      </button>\n",
              "      \n",
              "  <style>\n",
              "    .colab-df-container {\n",
              "      display:flex;\n",
              "      flex-wrap:wrap;\n",
              "      gap: 12px;\n",
              "    }\n",
              "\n",
              "    .colab-df-convert {\n",
              "      background-color: #E8F0FE;\n",
              "      border: none;\n",
              "      border-radius: 50%;\n",
              "      cursor: pointer;\n",
              "      display: none;\n",
              "      fill: #1967D2;\n",
              "      height: 32px;\n",
              "      padding: 0 0 0 0;\n",
              "      width: 32px;\n",
              "    }\n",
              "\n",
              "    .colab-df-convert:hover {\n",
              "      background-color: #E2EBFA;\n",
              "      box-shadow: 0px 1px 2px rgba(60, 64, 67, 0.3), 0px 1px 3px 1px rgba(60, 64, 67, 0.15);\n",
              "      fill: #174EA6;\n",
              "    }\n",
              "\n",
              "    [theme=dark] .colab-df-convert {\n",
              "      background-color: #3B4455;\n",
              "      fill: #D2E3FC;\n",
              "    }\n",
              "\n",
              "    [theme=dark] .colab-df-convert:hover {\n",
              "      background-color: #434B5C;\n",
              "      box-shadow: 0px 1px 3px 1px rgba(0, 0, 0, 0.15);\n",
              "      filter: drop-shadow(0px 1px 2px rgba(0, 0, 0, 0.3));\n",
              "      fill: #FFFFFF;\n",
              "    }\n",
              "  </style>\n",
              "\n",
              "      <script>\n",
              "        const buttonEl =\n",
              "          document.querySelector('#df-c3d69534-cdb1-4645-8431-d3143fe40de6 button.colab-df-convert');\n",
              "        buttonEl.style.display =\n",
              "          google.colab.kernel.accessAllowed ? 'block' : 'none';\n",
              "\n",
              "        async function convertToInteractive(key) {\n",
              "          const element = document.querySelector('#df-c3d69534-cdb1-4645-8431-d3143fe40de6');\n",
              "          const dataTable =\n",
              "            await google.colab.kernel.invokeFunction('convertToInteractive',\n",
              "                                                     [key], {});\n",
              "          if (!dataTable) return;\n",
              "\n",
              "          const docLinkHtml = 'Like what you see? Visit the ' +\n",
              "            '<a target=\"_blank\" href=https://colab.research.google.com/notebooks/data_table.ipynb>data table notebook</a>'\n",
              "            + ' to learn more about interactive tables.';\n",
              "          element.innerHTML = '';\n",
              "          dataTable['output_type'] = 'display_data';\n",
              "          await google.colab.output.renderOutput(dataTable, element);\n",
              "          const docLink = document.createElement('div');\n",
              "          docLink.innerHTML = docLinkHtml;\n",
              "          element.appendChild(docLink);\n",
              "        }\n",
              "      </script>\n",
              "    </div>\n",
              "  </div>\n",
              "  "
            ]
          },
          "metadata": {},
          "execution_count": 12
        }
      ]
    },
    {
      "cell_type": "code",
      "source": [
        "Neu = df[df['Label'] == 1].shape[0]\n",
        "Neg = df[df['Label'] == 0].shape[0]\n",
        "# bar plot of the 3 classes\n",
        "plt.bar(15,Neg,3, label=\"Negative\")\n",
        "plt.bar(20,Neu,3, label=\"Neutral\")\n",
        "plt.legend()\n",
        "plt.ylabel('Number of examples')\n",
        "plt.title('Proportion of examples')\n",
        "plt.show()"
      ],
      "metadata": {
        "colab": {
          "base_uri": "https://localhost:8080/",
          "height": 281
        },
        "id": "SW3lTjSORtnX",
        "outputId": "35c17835-c7c2-45aa-98ae-06ef7dec2810"
      },
      "execution_count": null,
      "outputs": [
        {
          "output_type": "display_data",
          "data": {
            "text/plain": [
              "<Figure size 432x288 with 1 Axes>"
            ],
            "image/png": "[encoded data removed]"
          },
          "metadata": {
            "needs_background": "light"
          }
        }
      ]
    },
    {
      "cell_type": "code",
      "source": [
        ""
      ],
      "metadata": {
        "id": "Ez7k5rYER3TS"
      },
      "execution_count": null,
      "outputs": []
    },
    {
      "cell_type": "markdown",
      "metadata": {
        "id": "79d9251c"
      },
      "source": [
        "## Data Preprocessing\n",
        "#### 1. Removing Punctuations\n",
        "#### 2. Converting to Lower case\n",
        "#### 3. Removing stopwords"
      ]
    },
    {
      "cell_type": "code",
      "source": [
        "import string\n",
        "string.punctuation"
      ],
      "metadata": {
        "colab": {
          "base_uri": "https://localhost:8080/",
          "height": 36
        },
        "id": "bnamm4YDR3Xh",
        "outputId": "2b99e237-b27c-4c60-b204-9053d6702c7e"
      },
      "execution_count": null,
      "outputs": [
        {
          "output_type": "execute_result",
          "data": {
            "text/plain": [
              "'!\"#$%&\\'()*+,-./:;<=>?@[\\\\]^_`{|}~'"
            ],
            "application/vnd.google.colaboratory.intrinsic+json": {
              "type": "string"
            }
          },
          "metadata": {},
          "execution_count": 14
        }
      ]
    },
    {
      "cell_type": "code",
      "source": [
        "import re\n",
        "def remove_punct(text):\n",
        "    ''' Input parameter:\n",
        "    text: (str)\n",
        "    this method is used to take each text line and check the characters if it\n",
        "    contains any puntuation and then remove them with blank space'''  \n",
        "    text  = \"\".join([char for [char] in text if char not in string.punctuation])\n",
        "    text = re.sub('[0-9]+', '', text)\n",
        "    return text\n"
      ],
      "metadata": {
        "id": "62flABnQSBps"
      },
      "execution_count": null,
      "outputs": []
    },
    {
      "cell_type": "code",
      "source": [
        "# removing all the punctuation\n",
        "df['Text'] = df['Text'].apply(lambda x: remove_punct(str(x))) "
      ],
      "metadata": {
        "id": "Lqj-BA-hSBtb"
      },
      "execution_count": null,
      "outputs": []
    },
    {
      "cell_type": "code",
      "source": [
        "df['Text'].head()"
      ],
      "metadata": {
        "colab": {
          "base_uri": "https://localhost:8080/"
        },
        "id": "a3KB0WluSK9_",
        "outputId": "aae51397-6e46-4fd5-e352-3df634deed37"
      },
      "execution_count": null,
      "outputs": [
        {
          "output_type": "execute_result",
          "data": {
            "text/plain": [
              "0               bhaunk bhaunk ke pagal ho jaata ab tak\n",
              "1    shivsaina  nam mulla  saina  rakh  hijra  uddh...\n",
              "2    there are some yahodi daboo like imran chore z...\n",
              "3    chutiye ye hunduism ni he islam he  isme koi k...\n",
              "4    han g rakhail e awal kiya bak rai hai kisay ah...\n",
              "Name: Text, dtype: object"
            ]
          },
          "metadata": {},
          "execution_count": 17
        }
      ]
    },
    {
      "cell_type": "code",
      "source": [
        ""
      ],
      "metadata": {
        "id": "xHZlVJaOSLFT"
      },
      "execution_count": null,
      "outputs": []
    },
    {
      "cell_type": "markdown",
      "metadata": {
        "id": "b07d046c"
      },
      "source": [
        "#### Converting the text corpus to Lower Case"
      ]
    },
    {
      "cell_type": "code",
      "source": [
        "def convert_to_lower_case(text):\n",
        "    ''' Input parameter:\n",
        "    text: (str)\n",
        "    this method is used to take each text line and converts the characters  into lower case and joins them further'''\n",
        "    text  = \"\".join([char.lower() for [char] in text if char not in string.punctuation])\n",
        "    return text\n"
      ],
      "metadata": {
        "id": "FuAppufSSLM5"
      },
      "execution_count": null,
      "outputs": []
    },
    {
      "cell_type": "code",
      "source": [
        "df['Text'] = df['Text'].apply(lambda x: convert_to_lower_case(str(x))) #calling lower case on each line"
      ],
      "metadata": {
        "id": "5bhw_nhcSLUe"
      },
      "execution_count": null,
      "outputs": []
    },
    {
      "cell_type": "code",
      "source": [
        "df['Text'].head()"
      ],
      "metadata": {
        "colab": {
          "base_uri": "https://localhost:8080/"
        },
        "id": "kTuY8xR1Sh3A",
        "outputId": "f63dcb46-fc72-4500-8eca-87c9af26fbf9"
      },
      "execution_count": null,
      "outputs": [
        {
          "output_type": "execute_result",
          "data": {
            "text/plain": [
              "0               bhaunk bhaunk ke pagal ho jaata ab tak\n",
              "1    shivsaina  nam mulla  saina  rakh  hijra  uddh...\n",
              "2    there are some yahodi daboo like imran chore z...\n",
              "3    chutiye ye hunduism ni he islam he  isme koi k...\n",
              "4    han g rakhail e awal kiya bak rai hai kisay ah...\n",
              "Name: Text, dtype: object"
            ]
          },
          "metadata": {},
          "execution_count": 20
        }
      ]
    },
    {
      "cell_type": "code",
      "source": [
        ""
      ],
      "metadata": {
        "id": "3AGdjJOuSiET"
      },
      "execution_count": null,
      "outputs": []
    },
    {
      "cell_type": "markdown",
      "metadata": {
        "id": "040b7bc2"
      },
      "source": [
        "### Removing Stopwords"
      ]
    },
    {
      "cell_type": "code",
      "source": [
        "stopwords=['ai', 'ayi', 'hy', 'hai', 'main', 'ki', 'tha', 'koi', 'ko', 'sy', 'woh', 'bhi', 'aur', 'wo', 'yeh', 'rha', \n",
        "           'hota', 'ho', 'ga', 'ka', 'le', 'lye', 'kr', 'kar', 'lye', 'liye', 'hotay', 'waisay', 'gya', 'gaya', 'kch',\n",
        "           'ab', 'thy', 'thay', 'houn', 'hain', 'han', 'to','is', 'hi', 'jo', 'kya', 'thi', 'se', 'pe', 'phr', 'wala',\n",
        "           'waisay', 'us', 'na', 'ny', 'hun', 'rha', 'raha', 'ja', 'rahay', 'abi', 'uski', 'ne', 'haan', 'acha', 'nai',\n",
        "           'sent', 'you', 'kafi', 'gai', 'rhy', 'kuch', 'jata', 'aye', 'ya', 'dono', 'hoa', 'aese', 'de', 'wohi',\n",
        "           'jati', 'jb', 'krta', 'lg', 'rahi', 'hui', 'karna', 'krna', 'gi', 'hova', 'yehi', 'jana', 'jye', 'chal', 'mil',\n",
        "           'tu', 'hum', 'par', 'hay', 'kis', 'sb', 'gy', 'dain', 'krny', 'tou','h','je','or','jee','he','in','un','kay','ki','ya','ap','meri','me']\n"
      ],
      "metadata": {
        "id": "Xu0dVimJStIZ"
      },
      "execution_count": null,
      "outputs": []
    },
    {
      "cell_type": "code",
      "source": [
        "dictStopWords = {} # global variable\n",
        "forFastTextData = []\n",
        "def removeStopWordss(text):\n",
        "    text = re.sub('[^a-zA-Z]',' ',str(text))\n",
        "    text = text.lower()\n",
        "    wordList =str(text).split()\n",
        "    for word in wordList:\n",
        "        if word in stopwords:\n",
        "            wordList.remove(word)\n",
        "            if word not in dictStopWords:\n",
        "                dictStopWords[word]= 1\n",
        "            else:\n",
        "                dictStopWords[word] = dictStopWords[word] + 1\n",
        "    newSentence = \" \".join(wordList)\n",
        "    forFastTextData.append(newSentence.split())\n",
        "    return (newSentence)"
      ],
      "metadata": {
        "id": "cwnZyHgxStWL"
      },
      "execution_count": null,
      "outputs": []
    },
    {
      "cell_type": "code",
      "source": [
        "df['Text'] = df['Text'].apply(lambda x: removeStopWordss(x)) # sentence with removed stop words"
      ],
      "metadata": {
        "id": "-19pDmLPStaN"
      },
      "execution_count": null,
      "outputs": []
    },
    {
      "cell_type": "code",
      "source": [
        "## checking for most common stopwords from the dictionary\n",
        "import collections\n",
        "from collections import Counter\n",
        "dictGraph = {}\n",
        "d = Counter(dictStopWords) # creating a counter \n",
        "d.most_common(10) \n",
        "for k,v in d.most_common(10):\n",
        "    dictGraph[k] = v\n",
        "dictGraph"
      ],
      "metadata": {
        "colab": {
          "base_uri": "https://localhost:8080/"
        },
        "id": "FVmNjdeSStcU",
        "outputId": "1a81f7d4-3900-4aaf-9ab5-d059f7855215"
      },
      "execution_count": null,
      "outputs": [
        {
          "output_type": "execute_result",
          "data": {
            "text/plain": [
              "{'hai': 1911,\n",
              " 'hain': 607,\n",
              " 'ho': 919,\n",
              " 'ka': 1174,\n",
              " 'ki': 1711,\n",
              " 'ko': 1438,\n",
              " 'me': 577,\n",
              " 'na': 552,\n",
              " 'se': 860,\n",
              " 'to': 1040}"
            ]
          },
          "metadata": {},
          "execution_count": 24
        }
      ]
    },
    {
      "cell_type": "code",
      "source": [
        "#plotting a graph of 10 most common stopwords from dictionary\n",
        "plt.bar(dictGraph.keys(), dictGraph.values(), align='center', color = 'green')\n",
        "plt.title('Bargraph for Most Common StopWords')\n",
        "plt.xlabel('StopWords')\n",
        "plt.ylabel('Count')\n",
        "plt.show()"
      ],
      "metadata": {
        "colab": {
          "base_uri": "https://localhost:8080/",
          "height": 295
        },
        "id": "724u2oOaS5wj",
        "outputId": "0941a7f6-72b2-48c6-f626-f76548570265"
      },
      "execution_count": null,
      "outputs": [
        {
          "output_type": "display_data",
          "data": {
            "text/plain": [
              "<Figure size 432x288 with 1 Axes>"
            ],
            "image/png": "[encoded data removed]"
          },
          "metadata": {
            "needs_background": "light"
          }
        }
      ]
    },
    {
      "cell_type": "code",
      "source": [
        "sum(dictGraph.values())"
      ],
      "metadata": {
        "colab": {
          "base_uri": "https://localhost:8080/"
        },
        "id": "g-Qx8DWOTEwb",
        "outputId": "eca370e4-3ba6-46d2-c1eb-138664ac44d5"
      },
      "execution_count": null,
      "outputs": [
        {
          "output_type": "execute_result",
          "data": {
            "text/plain": [
              "10789"
            ]
          },
          "metadata": {},
          "execution_count": 26
        }
      ]
    },
    {
      "cell_type": "code",
      "source": [
        ""
      ],
      "metadata": {
        "id": "yWvsSm0tTE6Q"
      },
      "execution_count": null,
      "outputs": []
    },
    {
      "cell_type": "markdown",
      "metadata": {
        "id": "18d8aca7"
      },
      "source": [
        "### Removal of Characters(Stemming)"
      ]
    },
    {
      "cell_type": "code",
      "source": [
        "def replacing_characters(word):\n",
        "    ''' Input Parameter: \n",
        "    word: word from the sentences'''\n",
        " \n",
        "    word = re.sub(r'ain$', r'ein', word)\n",
        "    word = re.sub(r'ai', r'ae', word)\n",
        "    word = re.sub(r'ay$', r'e', word)\n",
        "    word = re.sub(r'ey$', r'e', word)\n",
        "    word = re.sub(r'aa+', r'aa', word)\n",
        "    word = re.sub(r'e+', r'ee', word)\n",
        "    word = re.sub(r'ai', r'ahi', word) # e.g \"sahi and sai nahi\"\n",
        "    word = re.sub(r'ai', r'ahi', word)\n",
        "    word = re.sub(r'ie$', r'y', word)\n",
        "    word = re.sub(r'^es', r'is', word)\n",
        "    word = re.sub(r'a+', r'a', word)\n",
        "    word = re.sub(r'j+', r'j', word)\n",
        "    word = re.sub(r'd+', r'd', word)\n",
        "    word = re.sub(r'u', r'o', word)\n",
        "    word = re.sub(r'o+', r'o', word)\n",
        "    if not re.match(r'ar', word):\n",
        "        word = re.sub(r'ar', r'r', word)\n",
        "        word = re.sub(r'iy+', r'i', word)\n",
        "        word = re.sub(r'ih+', r'eh', word)\n",
        "        word = re.sub(r's+', r's', word)\n",
        "    if re.search(r'[rst]y', 'word') and word[-1] != 'y':\n",
        "        word = re.sub(r'y', r'i', word)\n",
        "    if re.search(r'[^a]i', word):\n",
        "        word = re.sub(r'i$', r'y', word)\n",
        "    if re.search(r'[a-z]h', word):\n",
        "        word = re.sub(r'h', '', word)\n",
        "    return word"
      ],
      "metadata": {
        "id": "IxQ2Nno4XiUc"
      },
      "execution_count": null,
      "outputs": []
    },
    {
      "cell_type": "code",
      "source": [
        "df['Text'] = df['Text'].apply(lambda x: replacing_characters(x))"
      ],
      "metadata": {
        "id": "OvtQr3qJXiV5"
      },
      "execution_count": null,
      "outputs": []
    },
    {
      "cell_type": "code",
      "source": [
        "df['Text'].head()"
      ],
      "metadata": {
        "colab": {
          "base_uri": "https://localhost:8080/"
        },
        "id": "1c43DIVPXiZ3",
        "outputId": "0593304e-aeca-443c-8f9e-897a12bad101"
      },
      "execution_count": null,
      "outputs": [
        {
          "output_type": "execute_result",
          "data": {
            "text/plain": [
              "0                       baonk baonk kee pagal jata tak\n",
              "1    sivsaeena nam molla saeena rak ijra odav tacke...\n",
              "2    teeree ree somee yaodi dabo likee imran coree ...\n",
              "3    cotiee yee ondoism ni islam ismee kisi moslim ...\n",
              "4    g rakaeel ee awal kia bak raee kisay amaq ka r...\n",
              "Name: Text, dtype: object"
            ]
          },
          "metadata": {},
          "execution_count": 29
        }
      ]
    },
    {
      "cell_type": "markdown",
      "source": [
        "## Importing Pretrained Word2vec embeddings"
      ],
      "metadata": {
        "id": "xJcoREXiX3Tq"
      }
    },
    {
      "cell_type": "code",
      "source": [
        "import gensim"
      ],
      "metadata": {
        "id": "PtvsKUm_X_T3"
      },
      "execution_count": 3,
      "outputs": []
    },
    {
      "cell_type": "code",
      "source": [
        "m = gensim.models.KeyedVectors.load_word2vec_format('/content/drive/MyDrive/FYP /vectors500000.txt')"
      ],
      "metadata": {
        "id": "Obq05PAyYD7Z"
      },
      "execution_count": 4,
      "outputs": []
    },
    {
      "cell_type": "code",
      "source": [
        "w2v_weights = m.vectors\n",
        "vocab_size, embedding_size = w2v_weights.shape\n",
        "print(\"Vocabulary Size: {} - Embedding Dim: {}\".format(vocab_size, embedding_size))"
      ],
      "metadata": {
        "colab": {
          "base_uri": "https://localhost:8080/"
        },
        "id": "fF39iBYYYJrI",
        "outputId": "595437cc-0d8f-4b5c-eb7f-e6eb5f51efcc"
      },
      "execution_count": 5,
      "outputs": [
        {
          "output_type": "stream",
          "name": "stdout",
          "text": [
            "Vocabulary Size: 31307 - Embedding Dim: 300\n"
          ]
        }
      ]
    },
    {
      "cell_type": "markdown",
      "metadata": {
        "id": "bc545c7c"
      },
      "source": [
        "**Test Train Split**"
      ]
    },
    {
      "cell_type": "code",
      "source": [
        "df=pd.read_csv('/content/drive/MyDrive/FYP /preprocessed_df.csv')\n",
        "df.drop(['Sen_Out_StopWord'],axis=1)"
      ],
      "metadata": {
        "colab": {
          "base_uri": "https://localhost:8080/",
          "height": 424
        },
        "id": "r_RqOKBZZLSt",
        "outputId": "812be2e7-f460-4717-fcf1-c126883f11c2"
      },
      "execution_count": 6,
      "outputs": [
        {
          "output_type": "execute_result",
          "data": {
            "text/plain": [
              "      Unnamed: 0                                               Text  Label\n",
              "0              0                     baonk baonk kee pagal jata tak      0\n",
              "1              1  sivsaeena nam molla saeena rak ijra odav tacke...      0\n",
              "2              2  teeree ree somee yaodi dabo likee imran coree ...      0\n",
              "3              3  cotiee yee ondoism ni islam ismee kisi moslim ...      0\n",
              "4              4  g rakaeel ee awal kia bak raee kisay amaq ka r...      0\n",
              "...          ...                                                ...    ...\n",
              "9205        1997  keesee gali dynee palee soc lia kro gali dyta ...      1\n",
              "9206        1998                                      madrbord saly      0\n",
              "9207        1999  frog naseem osee reepreeseent mqm baldia firee...      0\n",
              "9208        2000                                kod bci samjti saly      0\n",
              "9209        2001                           rt beencod ow stop osing      0\n",
              "\n",
              "[9210 rows x 3 columns]"
            ],
            "text/html": [
              "\n",
              "  <div id=\"df-5e749be8-a024-4887-8765-f0268864a50e\">\n",
              "    <div class=\"colab-df-container\">\n",
              "      <div>\n",
              "<style scoped>\n",
              "    .dataframe tbody tr th:only-of-type {\n",
              "        vertical-align: middle;\n",
              "    }\n",
              "\n",
              "    .dataframe tbody tr th {\n",
              "        vertical-align: top;\n",
              "    }\n",
              "\n",
              "    .dataframe thead th {\n",
              "        text-align: right;\n",
              "    }\n",
              "</style>\n",
              "<table border=\"1\" class=\"dataframe\">\n",
              "  <thead>\n",
              "    <tr style=\"text-align: right;\">\n",
              "      <th></th>\n",
              "      <th>Unnamed: 0</th>\n",
              "      <th>Text</th>\n",
              "      <th>Label</th>\n",
              "    </tr>\n",
              "  </thead>\n",
              "  <tbody>\n",
              "    <tr>\n",
              "      <th>0</th>\n",
              "      <td>0</td>\n",
              "      <td>baonk baonk kee pagal jata tak</td>\n",
              "      <td>0</td>\n",
              "    </tr>\n",
              "    <tr>\n",
              "      <th>1</th>\n",
              "      <td>1</td>\n",
              "      <td>sivsaeena nam molla saeena rak ijra odav tacke...</td>\n",
              "      <td>0</td>\n",
              "    </tr>\n",
              "    <tr>\n",
              "      <th>2</th>\n",
              "      <td>2</td>\n",
              "      <td>teeree ree somee yaodi dabo likee imran coree ...</td>\n",
              "      <td>0</td>\n",
              "    </tr>\n",
              "    <tr>\n",
              "      <th>3</th>\n",
              "      <td>3</td>\n",
              "      <td>cotiee yee ondoism ni islam ismee kisi moslim ...</td>\n",
              "      <td>0</td>\n",
              "    </tr>\n",
              "    <tr>\n",
              "      <th>4</th>\n",
              "      <td>4</td>\n",
              "      <td>g rakaeel ee awal kia bak raee kisay amaq ka r...</td>\n",
              "      <td>0</td>\n",
              "    </tr>\n",
              "    <tr>\n",
              "      <th>...</th>\n",
              "      <td>...</td>\n",
              "      <td>...</td>\n",
              "      <td>...</td>\n",
              "    </tr>\n",
              "    <tr>\n",
              "      <th>9205</th>\n",
              "      <td>1997</td>\n",
              "      <td>keesee gali dynee palee soc lia kro gali dyta ...</td>\n",
              "      <td>1</td>\n",
              "    </tr>\n",
              "    <tr>\n",
              "      <th>9206</th>\n",
              "      <td>1998</td>\n",
              "      <td>madrbord saly</td>\n",
              "      <td>0</td>\n",
              "    </tr>\n",
              "    <tr>\n",
              "      <th>9207</th>\n",
              "      <td>1999</td>\n",
              "      <td>frog naseem osee reepreeseent mqm baldia firee...</td>\n",
              "      <td>0</td>\n",
              "    </tr>\n",
              "    <tr>\n",
              "      <th>9208</th>\n",
              "      <td>2000</td>\n",
              "      <td>kod bci samjti saly</td>\n",
              "      <td>0</td>\n",
              "    </tr>\n",
              "    <tr>\n",
              "      <th>9209</th>\n",
              "      <td>2001</td>\n",
              "      <td>rt beencod ow stop osing</td>\n",
              "      <td>0</td>\n",
              "    </tr>\n",
              "  </tbody>\n",
              "</table>\n",
              "<p>9210 rows × 3 columns</p>\n",
              "</div>\n",
              "      <button class=\"colab-df-convert\" onclick=\"convertToInteractive('df-5e749be8-a024-4887-8765-f0268864a50e')\"\n",
              "              title=\"Convert this dataframe to an interactive table.\"\n",
              "              style=\"display:none;\">\n",
              "        \n",
              "  <svg xmlns=\"http://www.w3.org/2000/svg\" height=\"24px\"viewBox=\"0 0 24 24\"\n",
              "       width=\"24px\">\n",
              "    <path d=\"M0 0h24v24H0V0z\" fill=\"none\"/>\n",
              "    <path d=\"M18.56 5.44l.94 2.06.94-2.06 2.06-.94-2.06-.94-.94-2.06-.94 2.06-2.06.94zm-11 1L8.5 8.5l.94-2.06 2.06-.94-2.06-.94L8.5 2.5l-.94 2.06-2.06.94zm10 10l.94 2.06.94-2.06 2.06-.94-2.06-.94-.94-2.06-.94 2.06-2.06.94z\"/><path d=\"M17.41 7.96l-1.37-1.37c-.4-.4-.92-.59-1.43-.59-.52 0-1.04.2-1.43.59L10.3 9.45l-7.72 7.72c-.78.78-.78 2.05 0 2.83L4 21.41c.39.39.9.59 1.41.59.51 0 1.02-.2 1.41-.59l7.78-7.78 2.81-2.81c.8-.78.8-2.07 0-2.86zM5.41 20L4 18.59l7.72-7.72 1.47 1.35L5.41 20z\"/>\n",
              "  </svg>\n",
              "      </button>\n",
              "      \n",
              "  <style>\n",
              "    .colab-df-container {\n",
              "      display:flex;\n",
              "      flex-wrap:wrap;\n",
              "      gap: 12px;\n",
              "    }\n",
              "\n",
              "    .colab-df-convert {\n",
              "      background-color: #E8F0FE;\n",
              "      border: none;\n",
              "      border-radius: 50%;\n",
              "      cursor: pointer;\n",
              "      display: none;\n",
              "      fill: #1967D2;\n",
              "      height: 32px;\n",
              "      padding: 0 0 0 0;\n",
              "      width: 32px;\n",
              "    }\n",
              "\n",
              "    .colab-df-convert:hover {\n",
              "      background-color: #E2EBFA;\n",
              "      box-shadow: 0px 1px 2px rgba(60, 64, 67, 0.3), 0px 1px 3px 1px rgba(60, 64, 67, 0.15);\n",
              "      fill: #174EA6;\n",
              "    }\n",
              "\n",
              "    [theme=dark] .colab-df-convert {\n",
              "      background-color: #3B4455;\n",
              "      fill: #D2E3FC;\n",
              "    }\n",
              "\n",
              "    [theme=dark] .colab-df-convert:hover {\n",
              "      background-color: #434B5C;\n",
              "      box-shadow: 0px 1px 3px 1px rgba(0, 0, 0, 0.15);\n",
              "      filter: drop-shadow(0px 1px 2px rgba(0, 0, 0, 0.3));\n",
              "      fill: #FFFFFF;\n",
              "    }\n",
              "  </style>\n",
              "\n",
              "      <script>\n",
              "        const buttonEl =\n",
              "          document.querySelector('#df-5e749be8-a024-4887-8765-f0268864a50e button.colab-df-convert');\n",
              "        buttonEl.style.display =\n",
              "          google.colab.kernel.accessAllowed ? 'block' : 'none';\n",
              "\n",
              "        async function convertToInteractive(key) {\n",
              "          const element = document.querySelector('#df-5e749be8-a024-4887-8765-f0268864a50e');\n",
              "          const dataTable =\n",
              "            await google.colab.kernel.invokeFunction('convertToInteractive',\n",
              "                                                     [key], {});\n",
              "          if (!dataTable) return;\n",
              "\n",
              "          const docLinkHtml = 'Like what you see? Visit the ' +\n",
              "            '<a target=\"_blank\" href=https://colab.research.google.com/notebooks/data_table.ipynb>data table notebook</a>'\n",
              "            + ' to learn more about interactive tables.';\n",
              "          element.innerHTML = '';\n",
              "          dataTable['output_type'] = 'display_data';\n",
              "          await google.colab.output.renderOutput(dataTable, element);\n",
              "          const docLink = document.createElement('div');\n",
              "          docLink.innerHTML = docLinkHtml;\n",
              "          element.appendChild(docLink);\n",
              "        }\n",
              "      </script>\n",
              "    </div>\n",
              "  </div>\n",
              "  "
            ]
          },
          "metadata": {},
          "execution_count": 6
        }
      ]
    },
    {
      "cell_type": "code",
      "source": [
        "from sklearn.model_selection import train_test_split"
      ],
      "metadata": {
        "id": "80_2lgLBYQDQ"
      },
      "execution_count": 7,
      "outputs": []
    },
    {
      "cell_type": "code",
      "source": [
        "X=df['Text']\n",
        "y=df['Label']\n",
        "X_train, X_test, y_train, y_test = train_test_split( X, y, test_size=0.20, random_state=42)"
      ],
      "metadata": {
        "id": "5Quf7PkFbPMy"
      },
      "execution_count": 8,
      "outputs": []
    },
    {
      "cell_type": "code",
      "source": [
        "print(f'train data:{X_train.shape}, train labels:{y_train.shape},test data:{X_test.shape}, test labels:{y_test.shape}')"
      ],
      "metadata": {
        "colab": {
          "base_uri": "https://localhost:8080/"
        },
        "id": "CUWnCBGPbbRR",
        "outputId": "66ba86ec-46d4-4859-b7cd-d6f0b933c543"
      },
      "execution_count": 9,
      "outputs": [
        {
          "output_type": "stream",
          "name": "stdout",
          "text": [
            "train data:(7368,), train labels:(7368,),test data:(1842,), test labels:(1842,)\n"
          ]
        }
      ]
    },
    {
      "cell_type": "markdown",
      "source": [
        "**Tokenization**"
      ],
      "metadata": {
        "id": "PRI3l0zYnne5"
      }
    },
    {
      "cell_type": "code",
      "source": [
        "count = df['Text'].str.split().apply(len)\n",
        "count=count.sort_values(axis=0, ascending=False, inplace=False, kind='quicksort', na_position='last', ignore_index=False, key=None)\n",
        "MAX_SEQUENCE_LENGTH=count.iloc[0]+10\n",
        "MAX_SEQUENCE_LENGTH"
      ],
      "metadata": {
        "colab": {
          "base_uri": "https://localhost:8080/"
        },
        "id": "HrZd7fA2Lje5",
        "outputId": "46ff9456-9ca7-4a08-c61a-ace35a2724e2"
      },
      "execution_count": 10,
      "outputs": [
        {
          "output_type": "execute_result",
          "data": {
            "text/plain": [
              "66"
            ]
          },
          "metadata": {},
          "execution_count": 10
        }
      ]
    },
    {
      "cell_type": "code",
      "source": [
        "tokenizer = Tokenizer()\n",
        "tokenizer.fit_on_texts(X_train)\n",
        "\n",
        "word_index = tokenizer.word_index\n",
        "vocab_size = len(tokenizer.word_index) + 1\n",
        "print(\"Vocabulary Size :\", vocab_size)"
      ],
      "metadata": {
        "colab": {
          "base_uri": "https://localhost:8080/"
        },
        "id": "KIMLUp1fnufD",
        "outputId": "2f680999-2cf7-4d5c-95b7-14293d63dc9d"
      },
      "execution_count": 11,
      "outputs": [
        {
          "output_type": "stream",
          "name": "stdout",
          "text": [
            "Vocabulary Size : 15686\n"
          ]
        }
      ]
    },
    {
      "cell_type": "code",
      "source": [
        "\n",
        "X_train = pad_sequences(tokenizer.texts_to_sequences(X_train),\n",
        "                        maxlen = MAX_SEQUENCE_LENGTH)\n",
        "X_test = pad_sequences(tokenizer.texts_to_sequences(X_test),\n",
        "                       maxlen = MAX_SEQUENCE_LENGTH)\n",
        "\n",
        "print(\"Training X Shape:\",X_train.shape)\n",
        "print(\"Testing X Shape:\",X_test.shape)"
      ],
      "metadata": {
        "colab": {
          "base_uri": "https://localhost:8080/"
        },
        "id": "MC-Wa1Yup4JW",
        "outputId": "104c0f96-2624-42cf-f5a2-f408fd9c5473"
      },
      "execution_count": 12,
      "outputs": [
        {
          "output_type": "stream",
          "name": "stdout",
          "text": [
            "Training X Shape: (7368, 66)\n",
            "Testing X Shape: (1842, 66)\n"
          ]
        }
      ]
    },
    {
      "cell_type": "markdown",
      "source": [
        "## **Bi-Directional LSTM**"
      ],
      "metadata": {
        "id": "5NLVzLeLnQb-"
      }
    },
    {
      "cell_type": "code",
      "source": [
        "\n",
        "model = Sequential()\n",
        "\n",
        "# Keras Embedding layer with Word2Vec weights initialization\n",
        "model.add(Embedding(input_dim=31307,\n",
        "                    output_dim=embedding_size,\n",
        "                    weights=[w2v_weights],\n",
        "                    input_length=MAX_SEQUENCE_LENGTH,\n",
        "                    mask_zero=True,\n",
        "                    trainable=False))\n",
        "#model.add(Dropout(0.25))\n",
        "#model.add(Conv1D(128, 3, activation='relu'))\n",
        "model.add(Bidirectional(LSTM(100, dropout=0.3)))\n",
        "#model.add(Dense(512,activation='relu'))\n",
        "model.add(Dense(1,activation='sigmoid'))\n",
        "\n",
        "model.compile(optimizer='adam', loss='binary_crossentropy',\n",
        "              metrics=['accuracy'])\n",
        "#ReduceLROnPlateau = ReduceLROnPlateau(factor=0.1, min_lr = 0.01, monitor = 'val_loss',verbose = 1)\n",
        "history = model.fit(X_train, y_train, epochs=5, batch_size=128,\n",
        "                    validation_data=(X_test, y_test), verbose=1)"
      ],
      "metadata": {
        "colab": {
          "base_uri": "https://localhost:8080/"
        },
        "id": "d4113r68cIX7",
        "outputId": "94df744e-a4e4-43c4-c7f4-2797e5a35257"
      },
      "execution_count": 37,
      "outputs": [
        {
          "output_type": "stream",
          "name": "stdout",
          "text": [
            "Epoch 1/5\n",
            "58/58 [==============================] - 26s 344ms/step - loss: 0.6977 - accuracy: 0.5456 - val_loss: 0.6356 - val_accuracy: 0.6374\n",
            "Epoch 2/5\n",
            "58/58 [==============================] - 17s 301ms/step - loss: 0.6391 - accuracy: 0.6321 - val_loss: 0.6002 - val_accuracy: 0.6721\n",
            "Epoch 3/5\n",
            "58/58 [==============================] - 17s 298ms/step - loss: 0.6069 - accuracy: 0.6692 - val_loss: 0.5809 - val_accuracy: 0.6802\n",
            "Epoch 4/5\n",
            "58/58 [==============================] - 17s 301ms/step - loss: 0.5797 - accuracy: 0.6956 - val_loss: 0.5672 - val_accuracy: 0.7020\n",
            "Epoch 5/5\n",
            "58/58 [==============================] - 18s 303ms/step - loss: 0.5517 - accuracy: 0.7182 - val_loss: 0.5533 - val_accuracy: 0.7139\n"
          ]
        }
      ]
    },
    {
      "cell_type": "code",
      "source": [
        "def decode_sentiment(score):\n",
        "    return 1 if score>0.5 else 0"
      ],
      "metadata": {
        "id": "Zf1IFqAHkkdr"
      },
      "execution_count": 38,
      "outputs": []
    },
    {
      "cell_type": "code",
      "source": [
        "from sklearn import metrics\n",
        "scores = model.predict(X_test)\n",
        "#print(y_pred.shape)\n",
        "#y_pred = np.argmax(y_pred, axis=1)\n",
        "#print(y_pred.shape)\n",
        "\n",
        "#\n",
        "y_pred = [decode_sentiment(score) for score in scores]\n",
        "metrics.accuracy_score(y_test, y_pred)"
      ],
      "metadata": {
        "id": "_RJeqHfKRoeC",
        "colab": {
          "base_uri": "https://localhost:8080/"
        },
        "outputId": "3a24e571-2e99-4421-a632-e314507283a5"
      },
      "execution_count": 39,
      "outputs": [
        {
          "output_type": "execute_result",
          "data": {
            "text/plain": [
              "0.7138979370249728"
            ]
          },
          "metadata": {},
          "execution_count": 39
        }
      ]
    },
    {
      "cell_type": "code",
      "source": [
        "print(\"classification report:\")\n",
        "print(metrics.classification_report(y_test, y_pred))#, target_names=target_names))"
      ],
      "metadata": {
        "colab": {
          "base_uri": "https://localhost:8080/"
        },
        "id": "J9CWxq6gfjYu",
        "outputId": "8f098e64-4fca-4ecc-fbeb-6e0d47e0443f"
      },
      "execution_count": 40,
      "outputs": [
        {
          "output_type": "stream",
          "name": "stdout",
          "text": [
            "classification report:\n",
            "              precision    recall  f1-score   support\n",
            "\n",
            "           0       0.72      0.64      0.68       868\n",
            "           1       0.71      0.78      0.74       974\n",
            "\n",
            "    accuracy                           0.71      1842\n",
            "   macro avg       0.72      0.71      0.71      1842\n",
            "weighted avg       0.71      0.71      0.71      1842\n",
            "\n"
          ]
        }
      ]
    },
    {
      "cell_type": "code",
      "source": [
        "print(\"confusion matrix: \")\n",
        "print(metrics.confusion_matrix(y_test, y_pred))"
      ],
      "metadata": {
        "colab": {
          "base_uri": "https://localhost:8080/"
        },
        "id": "JURsk-qIfjeH",
        "outputId": "d2c0d6d8-8bd3-4665-fb86-f0d645dc5a99"
      },
      "execution_count": 41,
      "outputs": [
        {
          "output_type": "stream",
          "name": "stdout",
          "text": [
            "confusion matrix: \n",
            "[[555 313]\n",
            " [214 760]]\n"
          ]
        }
      ]
    },
    {
      "cell_type": "code",
      "source": [
        "plt.figure(figsize=(12, 8))\n",
        "plt.subplot(2, 2, 1)\n",
        "plt.plot(history.history['loss'], label='Loss')\n",
        "plt.plot(history.history['val_loss'], label='val_Loss')\n",
        "plt.legend()\n",
        "plt.grid()\n",
        "plt.title('Loss evolution')"
      ],
      "metadata": {
        "colab": {
          "base_uri": "https://localhost:8080/",
          "height": 279
        },
        "id": "W32kkx6kfuDq",
        "outputId": "ee8999be-ba0f-423d-f623-86b35299dd40"
      },
      "execution_count": 42,
      "outputs": [
        {
          "output_type": "execute_result",
          "data": {
            "text/plain": [
              "Text(0.5, 1.0, 'Loss evolution')"
            ]
          },
          "metadata": {},
          "execution_count": 42
        },
        {
          "output_type": "display_data",
          "data": {
            "text/plain": [
              "<Figure size 864x576 with 1 Axes>"
            ],
            "image/png": "[encoded data removed]"
          },
          "metadata": {
            "needs_background": "light"
          }
        }
      ]
    },
    {
      "cell_type": "code",
      "source": [
        "plt.subplot(1, 1, 1)\n",
        "plt.plot(history.history['accuracy'], label='accuracy')\n",
        "plt.plot(history.history['val_accuracy'], label='val_accuracy')\n",
        "plt.legend()\n",
        "plt.grid()\n",
        "plt.title('Accuracy evolution')"
      ],
      "metadata": {
        "colab": {
          "base_uri": "https://localhost:8080/",
          "height": 298
        },
        "id": "bdUaEswgfuNC",
        "outputId": "336f035b-8199-44f5-f01b-d6bc389e65c8"
      },
      "execution_count": 43,
      "outputs": [
        {
          "output_type": "execute_result",
          "data": {
            "text/plain": [
              "Text(0.5, 1.0, 'Accuracy evolution')"
            ]
          },
          "metadata": {},
          "execution_count": 43
        },
        {
          "output_type": "display_data",
          "data": {
            "text/plain": [
              "<Figure size 432x288 with 1 Axes>"
            ],
            "image/png": "[encoded data removed]"
          },
          "metadata": {
            "needs_background": "light"
          }
        }
      ]
    },
    {
      "cell_type": "code",
      "source": [
        ""
      ],
      "metadata": {
        "id": "GOX6MtzdlyVC"
      },
      "execution_count": null,
      "outputs": []
    },
    {
      "cell_type": "code",
      "source": [
        ""
      ],
      "metadata": {
        "id": "WYODLC-Pwz-E"
      },
      "execution_count": null,
      "outputs": []
    }
  ]
}