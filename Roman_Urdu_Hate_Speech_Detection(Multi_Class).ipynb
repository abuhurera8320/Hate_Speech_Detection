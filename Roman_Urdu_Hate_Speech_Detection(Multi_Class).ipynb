{
  "cells": [
    {
      "cell_type": "markdown",
      "metadata": {
        "id": "view-in-github",
        "colab_type": "text"
      },
      "source": [
        "<a href=\"https://colab.research.google.com/github/abuhurera8320/Hate_Speech_Detection/blob/MultiClass-Classification/Roman_Urdu_Hate_Speech_Detection(Multi_Class).ipynb\" target=\"_parent\"><img src=\"https://colab.research.google.com/assets/colab-badge.svg\" alt=\"Open In Colab\"/></a>"
      ]
    },
    {
      "cell_type": "code",
      "execution_count": null,
      "metadata": {
        "id": "gpRlapflt4Dc"
      },
      "outputs": [],
      "source": [
        "import pandas as pd\n",
        "import matplotlib.pyplot as plt\n",
        "import numpy as np"
      ]
    },
    {
      "cell_type": "code",
      "execution_count": null,
      "metadata": {
        "id": "i5ofBbgyuNwa"
      },
      "outputs": [],
      "source": [
        "from keras.preprocessing.text import Tokenizer\n",
        "from keras.preprocessing.sequence import pad_sequences\n",
        "from tensorflow.keras.utils import to_categorical\n",
        "from keras.models import Sequential,load_model\n",
        "from keras.layers import Conv1D,LSTM,Dense,Embedding,RepeatVector,TimeDistributed,Bidirectional,GRU,SimpleRNN\n",
        "from keras.callbacks import EarlyStopping\n",
        "from keras.preprocessing.text import Tokenizer\n",
        "from keras.preprocessing.sequence import pad_sequences\n",
        "from nltk.translate.bleu_score import corpus_bleu\n",
        "from IPython.display import Markdown, display\n",
        "from keras.layers import Dropout\n",
        "from tensorflow.keras.optimizers import Adam\n",
        "from tensorflow.keras.callbacks import ReduceLROnPlateau\n",
        "from tensorflow.keras.preprocessing.text import text_to_word_sequence"
      ]
    },
    {
      "cell_type": "code",
      "execution_count": null,
      "metadata": {
        "id": "pQh5V1f8uN26"
      },
      "outputs": [],
      "source": [
        "df=pd.read_csv('/content/drive/MyDrive/FYP /MDDLS.csv')"
      ]
    },
    {
      "cell_type": "code",
      "execution_count": null,
      "metadata": {
        "colab": {
          "base_uri": "https://localhost:8080/"
        },
        "id": "brRq5IkcuN7r",
        "outputId": "c32ba294-7ef1-4b81-94b6-3731f5a19e0e"
      },
      "outputs": [
        {
          "data": {
            "text/plain": [
              "(18420, 3)"
            ]
          },
          "execution_count": 4,
          "metadata": {},
          "output_type": "execute_result"
        }
      ],
      "source": [
        "df.shape"
      ]
    },
    {
      "cell_type": "code",
      "execution_count": null,
      "metadata": {
        "colab": {
          "base_uri": "https://localhost:8080/"
        },
        "id": "w9luNaOnuN9e",
        "outputId": "3eef31ac-410b-41f4-8a01-3f4e64949c8f"
      },
      "outputs": [
        {
          "data": {
            "text/plain": [
              "array([0, 2, 3, 4, 1])"
            ]
          },
          "execution_count": 5,
          "metadata": {},
          "output_type": "execute_result"
        }
      ],
      "source": [
        "df['Labels'].unique()"
      ]
    },
    {
      "cell_type": "code",
      "execution_count": null,
      "metadata": {
        "colab": {
          "base_uri": "https://localhost:8080/",
          "height": 281
        },
        "id": "BwTzuDDouN_s",
        "outputId": "ed762f76-7a39-4b87-a5ae-6573bd86cf0b"
      },
      "outputs": [
        {
          "data": {
            "image/png": "[encoded data removed]",
            "text/plain": [
              "<Figure size 432x288 with 1 Axes>"
            ]
          },
          "metadata": {},
          "output_type": "display_data"
        }
      ],
      "source": [
        "Neu = df[df['Labels'] == 1].shape[0]\n",
        "Neg = df[df['Labels'] == 0].shape[0]\n",
        "RH = df[df['Labels'] == 2].shape[0]\n",
        "Sm = df[df['Labels'] == 3].shape[0]\n",
        "Profane = df[df['Labels'] == 4].shape[0]\n",
        "# bar plot of the 3 classes\n",
        "plt.bar(15,Neg,3, label=\"Negative\")\n",
        "plt.bar(20,Neu,3, label=\"Neutral\")\n",
        "plt.bar(25,Sm,3, label=\"Sexism\")\n",
        "plt.bar(30,RH,3, label=\"Relegious Hate\")\n",
        "plt.bar(35,Profane,3, label=\"Profane/Untargeted\")\n",
        "plt.legend()\n",
        "plt.ylabel('Number of examples')\n",
        "plt.title('Proportion of examples')\n",
        "plt.show()"
      ]
    },
    {
      "cell_type": "markdown",
      "metadata": {
        "id": "FpUTQTv8wdM4"
      },
      "source": [
        "## Data Preprocessing\n",
        "#### 1. Removing Punctuations\n",
        "#### 2. Converting to Lower case\n",
        "#### 3. Removing stopwords\n"
      ]
    },
    {
      "cell_type": "code",
      "execution_count": null,
      "metadata": {
        "colab": {
          "base_uri": "https://localhost:8080/",
          "height": 36
        },
        "id": "9BbAjenqwegQ",
        "outputId": "dfb5ef6b-a155-4a5d-d7f2-95cd0d7887f9"
      },
      "outputs": [
        {
          "data": {
            "application/vnd.google.colaboratory.intrinsic+json": {
              "type": "string"
            },
            "text/plain": [
              "'!\"#$%&\\'()*+,-./:;<=>?@[\\\\]^_`{|}~'"
            ]
          },
          "execution_count": 7,
          "metadata": {},
          "output_type": "execute_result"
        }
      ],
      "source": [
        "import string\n",
        "string.punctuation"
      ]
    },
    {
      "cell_type": "code",
      "execution_count": null,
      "metadata": {
        "id": "0SI86v99wuCw"
      },
      "outputs": [],
      "source": [
        "import re\n",
        "def remove_punct(text):\n",
        "    ''' Input parameter:\n",
        "    text: (str)\n",
        "    this method is used to take each text line and check the characters if it\n",
        "    contains any puntuation and then remove them with blank space'''  \n",
        "    text  = \"\".join([char for [char] in text if char not in string.punctuation])\n",
        "    text = re.sub('[0-9]+', '', text)\n",
        "    return text\n"
      ]
    },
    {
      "cell_type": "code",
      "execution_count": null,
      "metadata": {
        "id": "FUqtc_Mkwy7X"
      },
      "outputs": [],
      "source": [
        "# removing all the punctuation\n",
        "df['Text'] = df['Text'].apply(lambda x: remove_punct(str(x))) "
      ]
    },
    {
      "cell_type": "code",
      "execution_count": null,
      "metadata": {
        "id": "rTLH1vqNw2PL"
      },
      "outputs": [],
      "source": [
        "def convert_to_lower_case(text):\n",
        "    ''' Input parameter:\n",
        "    text: (str)\n",
        "    this method is used to take each text line and converts the characters  into lower case and joins them further'''\n",
        "    text  = \"\".join([char.lower() for [char] in text if char not in string.punctuation])\n",
        "    return text\n"
      ]
    },
    {
      "cell_type": "code",
      "execution_count": null,
      "metadata": {
        "id": "1qVguFGvw7gx"
      },
      "outputs": [],
      "source": [
        "df['Text'] = df['Text'].apply(lambda x: convert_to_lower_case(str(x))) #calling lower case on each line"
      ]
    },
    {
      "cell_type": "code",
      "execution_count": null,
      "metadata": {
        "id": "rhCVCMbLw9w2"
      },
      "outputs": [],
      "source": [
        "stopwords=['ai', 'ayi', 'hy', 'hai', 'main', 'ki', 'tha', 'koi', 'ko', 'sy', 'woh', 'bhi', 'aur', 'wo', 'yeh', 'rha', \n",
        "           'hota', 'ho', 'ga', 'ka', 'le', 'lye', 'kr', 'kar', 'lye', 'liye', 'hotay', 'waisay', 'gya', 'gaya', 'kch',\n",
        "           'ab', 'thy', 'thay', 'houn', 'hain', 'han', 'to','is', 'hi', 'jo', 'kya', 'thi', 'se', 'pe', 'phr', 'wala',\n",
        "           'waisay', 'us', 'na', 'ny', 'hun', 'rha', 'raha', 'ja', 'rahay', 'abi', 'uski', 'ne', 'haan', 'acha', 'nai',\n",
        "           'sent', 'you', 'kafi', 'gai', 'rhy', 'kuch', 'jata', 'aye', 'ya', 'dono', 'hoa', 'aese', 'de', 'wohi',\n",
        "           'jati', 'jb', 'krta', 'lg', 'rahi', 'hui', 'karna', 'krna', 'gi', 'hova', 'yehi', 'jana', 'jye', 'chal', 'mil',\n",
        "           'tu', 'hum', 'par', 'hay', 'kis', 'sb', 'gy', 'dain', 'krny', 'tou','h','je','or','jee','he','in','un','kay','ki','ya','ap','meri','me']\n"
      ]
    },
    {
      "cell_type": "code",
      "execution_count": null,
      "metadata": {
        "id": "2ai4MqfYxA0c"
      },
      "outputs": [],
      "source": [
        "dictStopWords = {} # global variable\n",
        "forFastTextData = []\n",
        "def removeStopWordss(text):\n",
        "    text = re.sub('[^a-zA-Z]',' ',str(text))\n",
        "    text = text.lower()\n",
        "    wordList =str(text).split()\n",
        "    for word in wordList:\n",
        "        if word in stopwords:\n",
        "            wordList.remove(word)\n",
        "            if word not in dictStopWords:\n",
        "                dictStopWords[word]= 1\n",
        "            else:\n",
        "                dictStopWords[word] = dictStopWords[word] + 1\n",
        "    newSentence = \" \".join(wordList)\n",
        "    forFastTextData.append(newSentence.split())\n",
        "    return (newSentence)"
      ]
    },
    {
      "cell_type": "code",
      "execution_count": null,
      "metadata": {
        "id": "-pu7KdyMxC_U"
      },
      "outputs": [],
      "source": [
        "df['Text'] = df['Text'].apply(lambda x: removeStopWordss(x)) # sentence with removed stop words"
      ]
    },
    {
      "cell_type": "code",
      "execution_count": null,
      "metadata": {
        "colab": {
          "base_uri": "https://localhost:8080/"
        },
        "id": "6cmeX0VsxHYD",
        "outputId": "dff35e3f-d2d8-4246-9099-0180657c80b2"
      },
      "outputs": [
        {
          "data": {
            "text/plain": [
              "{'hai': 4897,\n",
              " 'ki': 4408,\n",
              " 'ko': 3615,\n",
              " 'ka': 2978,\n",
              " 'to': 2726,\n",
              " 'ho': 2305,\n",
              " 'se': 2251,\n",
              " 'hain': 1552,\n",
              " 'me': 1450,\n",
              " 'na': 1423}"
            ]
          },
          "execution_count": 15,
          "metadata": {},
          "output_type": "execute_result"
        }
      ],
      "source": [
        "## checking for most common stopwords from the dictionary\n",
        "import collections\n",
        "from collections import Counter\n",
        "dictGraph = {}\n",
        "d = Counter(dictStopWords) # creating a counter \n",
        "d.most_common(10) \n",
        "for k,v in d.most_common(10):\n",
        "    dictGraph[k] = v\n",
        "dictGraph"
      ]
    },
    {
      "cell_type": "code",
      "execution_count": null,
      "metadata": {
        "colab": {
          "base_uri": "https://localhost:8080/",
          "height": 295
        },
        "id": "GMMe9nqExRIE",
        "outputId": "9a440a7b-99a0-49ee-aa0f-4070c48c0ab5"
      },
      "outputs": [
        {
          "data": {
            "image/png": "[encoded data removed]",
            "text/plain": [
              "<Figure size 432x288 with 1 Axes>"
            ]
          },
          "metadata": {},
          "output_type": "display_data"
        }
      ],
      "source": [
        "#plotting a graph of 10 most common stopwords from dictionary\n",
        "plt.bar(dictGraph.keys(), dictGraph.values(), align='center', color = 'green')\n",
        "plt.title('Bargraph for Most Common StopWords')\n",
        "plt.xlabel('StopWords')\n",
        "plt.ylabel('Count')\n",
        "plt.show()"
      ]
    },
    {
      "cell_type": "markdown",
      "metadata": {
        "id": "vnpTPOL7xdar"
      },
      "source": [
        "Tokenization and Test Train Split"
      ]
    },
    {
      "cell_type": "code",
      "execution_count": null,
      "metadata": {
        "id": "urevIxCBxUuC"
      },
      "outputs": [],
      "source": [
        "from sklearn.model_selection import train_test_split"
      ]
    },
    {
      "cell_type": "code",
      "execution_count": null,
      "metadata": {
        "colab": {
          "base_uri": "https://localhost:8080/"
        },
        "id": "PkhBI1hLxhqH",
        "outputId": "d2d02be6-94c8-45c0-a80f-e1cc5ab7c350"
      },
      "outputs": [
        {
          "data": {
            "text/plain": [
              "(18420,)"
            ]
          },
          "execution_count": 18,
          "metadata": {},
          "output_type": "execute_result"
        }
      ],
      "source": [
        "X=df['Text']\n",
        "y=df['Labels']\n",
        "X.shape"
      ]
    },
    {
      "cell_type": "code",
      "execution_count": null,
      "metadata": {
        "colab": {
          "base_uri": "https://localhost:8080/"
        },
        "id": "W5rQ6Gb2xlM6",
        "outputId": "f97fcd47-821a-48bb-a4d7-6b1eb363dda6"
      },
      "outputs": [
        {
          "data": {
            "text/plain": [
              "66"
            ]
          },
          "execution_count": 19,
          "metadata": {},
          "output_type": "execute_result"
        }
      ],
      "source": [
        "count = df['Text'].str.split().apply(len)\n",
        "count=count.sort_values(axis=0, ascending=False, inplace=False, kind='quicksort', na_position='last', ignore_index=False, key=None)\n",
        "MAX_SEQUENCE_LENGTH=count.iloc[0]+10\n",
        "MAX_SEQUENCE_LENGTH"
      ]
    },
    {
      "cell_type": "code",
      "execution_count": null,
      "metadata": {
        "colab": {
          "base_uri": "https://localhost:8080/"
        },
        "id": "WyW0Lv8YxtXR",
        "outputId": "8a6d71ac-9ff7-46f7-9f7f-47498b2052cd"
      },
      "outputs": [
        {
          "name": "stdout",
          "output_type": "stream",
          "text": [
            "Vocabulary Size : 22847\n"
          ]
        }
      ],
      "source": [
        "tokenizer = Tokenizer()\n",
        "tokenizer.fit_on_texts(X)\n",
        "\n",
        "word_index = tokenizer.word_index\n",
        "vocab_size = len(tokenizer.word_index) + 1\n",
        "print(\"Vocabulary Size :\", vocab_size)"
      ]
    },
    {
      "cell_type": "code",
      "execution_count": null,
      "metadata": {
        "id": "Gn3VoT4QWW5U"
      },
      "outputs": [],
      "source": [
        "X_train, X_test, y_train, y_test = train_test_split( X, y, test_size=0.2, random_state=42)"
      ]
    },
    {
      "cell_type": "code",
      "execution_count": null,
      "metadata": {
        "colab": {
          "base_uri": "https://localhost:8080/"
        },
        "id": "rP_0yGmDxy_y",
        "outputId": "3f5ea5f8-841a-46f0-e854-39092cf8f8d7"
      },
      "outputs": [
        {
          "name": "stdout",
          "output_type": "stream",
          "text": [
            "Training X Shape: (14736, 66)\n",
            "Testing X Shape: (3684, 66)\n"
          ]
        }
      ],
      "source": [
        "\n",
        "X_train = pad_sequences((tokenizer.texts_to_sequences(X_train)),\n",
        "                        maxlen = MAX_SEQUENCE_LENGTH)\n",
        "X_test = pad_sequences(tokenizer.texts_to_sequences(X_test),\n",
        "                      maxlen = MAX_SEQUENCE_LENGTH)\n",
        "\n",
        "print(\"Training X Shape:\",X_train.shape)\n",
        "print(\"Testing X Shape:\",X_test.shape)"
      ]
    },
    {
      "cell_type": "code",
      "execution_count": null,
      "metadata": {
        "colab": {
          "base_uri": "https://localhost:8080/"
        },
        "id": "dblvPihHWRzU",
        "outputId": "ce4b4c51-f400-4dc7-eb0f-c9c1b455097d"
      },
      "outputs": [
        {
          "name": "stdout",
          "output_type": "stream",
          "text": [
            "train data:(14736, 66), train labels:(14736,),test data:(3684, 66), test labels:(3684,)\n"
          ]
        }
      ],
      "source": [
        "print(f'train data:{X_train.shape}, train labels:{y_train.shape},test data:{X_test.shape}, test labels:{y_test.shape}')"
      ]
    },
    {
      "cell_type": "markdown",
      "metadata": {
        "id": "hcstL1gdYnQM"
      },
      "source": [
        "## Importing Pretrained Word2vec embeddings"
      ]
    },
    {
      "cell_type": "code",
      "execution_count": null,
      "metadata": {
        "colab": {
          "base_uri": "https://localhost:8080/"
        },
        "id": "GDXT2z5-WjuD",
        "outputId": "146f4fbb-3756-4788-cf34-93ac05ee4ee8"
      },
      "outputs": [
        {
          "name": "stdout",
          "output_type": "stream",
          "text": [
            "Loaded 31308 word vectors.\n"
          ]
        }
      ],
      "source": [
        "# load embeding for text file\n",
        "embeddings_index1 = dict()\n",
        "f = open('/content/drive/MyDrive/FYP /vectors500000.txt')\n",
        "\n",
        "for line in f:\n",
        "    values = line.split()\n",
        "    word = values[0]\n",
        "    coefs = np.asarray(values[1:], dtype='float32')\n",
        "    embeddings_index1[word] = coefs\n",
        "f.close()\n",
        "print('Loaded %s word vectors.' % len(embeddings_index1))"
      ]
    },
    {
      "cell_type": "code",
      "execution_count": null,
      "metadata": {
        "colab": {
          "base_uri": "https://localhost:8080/"
        },
        "id": "pxlM0v0-Yrrt",
        "outputId": "c24176d2-cc23-4f3f-c571-fb1b14974332"
      },
      "outputs": [
        {
          "name": "stdout",
          "output_type": "stream",
          "text": [
            "Loaded 20838 word vectors.\n"
          ]
        }
      ],
      "source": [
        "# load embeding for text file\n",
        "embeddings_index2 = dict()\n",
        "f = open('/content/drive/MyDrive/FYP /word2vec_RU.txt')\n",
        "\n",
        "for line in f:\n",
        "    values = line.split()\n",
        "    word = values[0]\n",
        "    coefs = np.asarray(values[1:], dtype='float32')\n",
        "    embeddings_index2[word] = coefs\n",
        "f.close()\n",
        "print('Loaded %s word vectors.' % len(embeddings_index2))"
      ]
    },
    {
      "cell_type": "code",
      "execution_count": null,
      "metadata": {
        "id": "n-B-gPOdYrzg"
      },
      "outputs": [],
      "source": [
        "count=0\n",
        "wordcount1=0\n",
        "wordcount2=0\n",
        "dims=100\n",
        "flag=1\n",
        "#word_index = {w: i for i, w in enumerate(embeddings_index, 1)}\n",
        "embedding_matrix = np.zeros((len(word_index)+1, dims))\n",
        "for word, i in word_index.items():\n",
        "  if word in embeddings_index1.keys():\n",
        "    embedding_vector = embeddings_index1.get(word)\n",
        "    if embedding_vector is not None:\n",
        "        # words not found in embedding index will be all-zeros.\n",
        "        embedding_matrix[i] = embedding_vector[:dims]\n",
        "        wordcount1 +=1\n",
        "        \n",
        "  elif word in embeddings_index2.keys():\n",
        "        embedding_vector = embeddings_index2.get(word)\n",
        "        if embedding_vector is not None:\n",
        "        # words not found in embedding index will be all-zeros.\n",
        "         embedding_matrix[i] = embedding_vector[:dims]\n",
        "         wordcount2 +=1\n",
        "        \n",
        "  else:\n",
        "     count +=1\n",
        "     \n",
        "      "
      ]
    },
    {
      "cell_type": "code",
      "execution_count": null,
      "metadata": {
        "colab": {
          "base_uri": "https://localhost:8080/"
        },
        "id": "64yO8f0DYzjN",
        "outputId": "d8570e2a-fd0a-42b5-baa7-20c9d36a7c03"
      },
      "outputs": [
        {
          "name": "stdout",
          "output_type": "stream",
          "text": [
            "Embedding Stats :\n",
            "Words found in first embedding: 10101\n",
            "Words found in second embedding: 11237\n",
            "Words not found in any embedding: 1508\n",
            "Total words found in both embeddings: 21338\n"
          ]
        }
      ],
      "source": [
        "print('Embedding Stats :')\n",
        "print(f'Words found in first embedding: {wordcount1}')\n",
        "print(f'Words found in second embedding: {wordcount2}')\n",
        "print(f'Words not found in any embedding: {count}')\n",
        "print(f'Total words found in both embeddings: {wordcount1+wordcount2}')"
      ]
    },
    {
      "cell_type": "code",
      "execution_count": null,
      "metadata": {
        "colab": {
          "base_uri": "https://localhost:8080/"
        },
        "id": "NkDsoO3bY2BX",
        "outputId": "3e31cd2c-830c-49fd-f73e-acd397861c8b"
      },
      "outputs": [
        {
          "data": {
            "text/plain": [
              "(22847, 100)"
            ]
          },
          "execution_count": 29,
          "metadata": {},
          "output_type": "execute_result"
        }
      ],
      "source": [
        "embedding_matrix.shape"
      ]
    },
    {
      "cell_type": "code",
      "execution_count": null,
      "metadata": {
        "colab": {
          "base_uri": "https://localhost:8080/"
        },
        "id": "On5PDdGFaUiH",
        "outputId": "561c6d1d-5c3b-4c26-95b4-8d7c2e10952d"
      },
      "outputs": [
        {
          "data": {
            "text/plain": [
              "5"
            ]
          },
          "execution_count": 31,
          "metadata": {},
          "output_type": "execute_result"
        }
      ],
      "source": [
        "no_of_classes = len(df['Labels'].unique())\n",
        "no_of_classes"
      ]
    },
    {
      "cell_type": "markdown",
      "metadata": {
        "id": "vD3fa95OZqCj"
      },
      "source": [
        "##**Simple RNN's**"
      ]
    },
    {
      "cell_type": "code",
      "execution_count": null,
      "metadata": {
        "colab": {
          "base_uri": "https://localhost:8080/"
        },
        "id": "dTa7UwMsY74k",
        "outputId": "cb28b8e6-feb6-413e-e74a-4858b5f8356b"
      },
      "outputs": [
        {
          "name": "stdout",
          "output_type": "stream",
          "text": [
            "Model: \"sequential_1\"\n",
            "_________________________________________________________________\n",
            " Layer (type)                Output Shape              Param #   \n",
            "=================================================================\n",
            " embedding_1 (Embedding)     (None, 66, 100)           2284700   \n",
            "                                                                 \n",
            " dropout_2 (Dropout)         (None, 66, 100)           0         \n",
            "                                                                 \n",
            " simple_rnn_1 (SimpleRNN)    (None, 20)                2420      \n",
            "                                                                 \n",
            " dropout_3 (Dropout)         (None, 20)                0         \n",
            "                                                                 \n",
            " dense_3 (Dense)             (None, 200)               4200      \n",
            "                                                                 \n",
            " dense_4 (Dense)             (None, 100)               20100     \n",
            "                                                                 \n",
            " dense_5 (Dense)             (None, 5)                 505       \n",
            "                                                                 \n",
            "=================================================================\n",
            "Total params: 2,311,925\n",
            "Trainable params: 27,225\n",
            "Non-trainable params: 2,284,700\n",
            "_________________________________________________________________\n"
          ]
        }
      ],
      "source": [
        "#%%time\n",
        "#with strategy.scope():\n",
        "    # A simpleRNN without any pretrained embeddings and one dense layer\n",
        "model = Sequential()\n",
        "model.add(Embedding(embedding_matrix.shape[0],embedding_matrix.shape[1],weights=[embedding_matrix],input_length=MAX_SEQUENCE_LENGTH,trainable=False))\n",
        "model.add(Dropout(0.2))\n",
        "model.add(SimpleRNN(20))\n",
        "model.add(Dropout(0.2))\n",
        "model.add(Dense(200,activation='relu'))\n",
        "model.add(Dense(100,activation='relu'))\n",
        "model.add(Dense(no_of_classes, activation='softmax'))\n",
        "model.compile(loss='sparse_categorical_crossentropy', optimizer='adam', metrics=['accuracy'])\n",
        "    \n",
        "model.summary()"
      ]
    },
    {
      "cell_type": "code",
      "execution_count": null,
      "metadata": {
        "colab": {
          "base_uri": "https://localhost:8080/"
        },
        "id": "UNTRsuHmao40",
        "outputId": "2236189f-97b3-4749-eedd-c32e2d3aa4ee"
      },
      "outputs": [
        {
          "name": "stdout",
          "output_type": "stream",
          "text": [
            "Epoch 1/5\n",
            "116/116 [==============================] - 5s 34ms/step - loss: 1.1099 - accuracy: 0.5280 - val_loss: 1.0673 - val_accuracy: 0.5649\n",
            "Epoch 2/5\n",
            "116/116 [==============================] - 4s 32ms/step - loss: 1.0780 - accuracy: 0.5431 - val_loss: 1.0484 - val_accuracy: 0.5801\n",
            "Epoch 3/5\n",
            "116/116 [==============================] - 4s 32ms/step - loss: 1.0714 - accuracy: 0.5500 - val_loss: 1.0408 - val_accuracy: 0.5744\n",
            "Epoch 4/5\n",
            "116/116 [==============================] - 4s 31ms/step - loss: 1.0644 - accuracy: 0.5523 - val_loss: 1.0470 - val_accuracy: 0.5741\n",
            "Epoch 5/5\n",
            "116/116 [==============================] - 4s 31ms/step - loss: 1.0562 - accuracy: 0.5558 - val_loss: 1.0318 - val_accuracy: 0.5806\n"
          ]
        }
      ],
      "source": [
        "history=model.fit(X_train, y_train, epochs=5, batch_size=128,validation_data=(X_test, y_test),verbose=1)"
      ]
    },
    {
      "cell_type": "code",
      "execution_count": null,
      "metadata": {
        "id": "Z9hnwW6Iat8O"
      },
      "outputs": [],
      "source": [
        "from sklearn import metrics\n",
        "def decode_sentiment(score):\n",
        "    return 1 if score>0.5 else 0"
      ]
    },
    {
      "cell_type": "code",
      "execution_count": null,
      "metadata": {
        "colab": {
          "background_save": true
        },
        "id": "cOc0T5OkbfY8",
        "outputId": "d20a3c4c-e1bb-4db3-fe09-4eae0f5fb5c1"
      },
      "outputs": [
        {
          "name": "stdout",
          "output_type": "stream",
          "text": [
            "(3684, 5)\n",
            "(3684,)\n"
          ]
        }
      ],
      "source": [
        "y_pred = model.predict(X_test)\n",
        "#print(y_pred.shape)\n",
        "#y_pred = np.argmax(y_pred, axis=1)\n",
        "#print(y_pred.shape)"
      ]
    }
  ],
  "metadata": {
    "colab": {
      "name": "Roman_Urdu_Hate_Speech_Detection(Multi_Class).ipynb",
      "provenance": [],
      "mount_file_id": "1bjo6lw_38lB2NZzY4pyort_pLUFounZL",
      "authorship_tag": "ABX9TyMiBonoSM26JSSX2WfU/6ya",
      "include_colab_link": true
    },
    "kernelspec": {
      "display_name": "Python 3",
      "name": "python3"
    },
    "language_info": {
      "name": "python"
    }
  },
  "nbformat": 4,
  "nbformat_minor": 0
}