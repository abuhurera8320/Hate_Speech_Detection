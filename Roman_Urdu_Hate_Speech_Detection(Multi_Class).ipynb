{
  "nbformat": 4,
  "nbformat_minor": 0,
  "metadata": {
    "colab": {
      "name": "Roman_Urdu_Hate_Speech_Detection(Multi_Class).ipynb",
      "provenance": [],
      "mount_file_id": "1bjo6lw_38lB2NZzY4pyort_pLUFounZL",
      "authorship_tag": "ABX9TyP1cdXD9PPfBZR8oMug9pX4",
      "include_colab_link": true
    },
    "kernelspec": {
      "name": "python3",
      "display_name": "Python 3"
    },
    "language_info": {
      "name": "python"
    },
    "accelerator": "GPU",
    "gpuClass": "standard"
  },
  "cells": [
    {
      "cell_type": "markdown",
      "metadata": {
        "id": "view-in-github",
        "colab_type": "text"
      },
      "source": [
        "<a href=\"https://colab.research.google.com/github/abuhurera8320/Hate_Speech_Detection/blob/main/Roman_Urdu_Hate_Speech_Detection(Multi_Class).ipynb\" target=\"_parent\"><img src=\"https://colab.research.google.com/assets/colab-badge.svg\" alt=\"Open In Colab\"/></a>"
      ]
    },
    {
      "cell_type": "code",
      "execution_count": 2,
      "metadata": {
        "id": "gpRlapflt4Dc"
      },
      "outputs": [],
      "source": [
        "import pandas as pd\n",
        "import matplotlib.pyplot as plt\n",
        "import numpy as np"
      ]
    },
    {
      "cell_type": "code",
      "source": [
        "from keras.preprocessing.text import Tokenizer\n",
        "from keras.preprocessing.sequence import pad_sequences\n",
        "from tensorflow.keras.utils import to_categorical\n",
        "from keras.models import Sequential,load_model\n",
        "from keras.layers import Conv1D,LSTM,Dense,Embedding,RepeatVector,TimeDistributed,Bidirectional,GRU,SimpleRNN\n",
        "from keras.callbacks import EarlyStopping\n",
        "from keras.preprocessing.text import Tokenizer\n",
        "from keras.preprocessing.sequence import pad_sequences\n",
        "from nltk.translate.bleu_score import corpus_bleu\n",
        "from IPython.display import Markdown, display\n",
        "from keras.layers import Dropout\n",
        "from tensorflow.keras.optimizers import Adam\n",
        "from tensorflow.keras.callbacks import ReduceLROnPlateau\n",
        "from tensorflow.keras.preprocessing.text import text_to_word_sequence\n",
        "# check version number\n",
        "import imblearn\n",
        "print(imblearn.__version__)\n",
        "from imblearn.over_sampling import SMOTE"
      ],
      "metadata": {
        "colab": {
          "base_uri": "https://localhost:8080/"
        },
        "id": "i5ofBbgyuNwa",
        "outputId": "a9f912ff-279b-469b-f74c-5d47109fe1dc"
      },
      "execution_count": 4,
      "outputs": [
        {
          "output_type": "stream",
          "name": "stdout",
          "text": [
            "0.8.1\n"
          ]
        }
      ]
    },
    {
      "cell_type": "code",
      "source": [
        "df=pd.read_csv('/content/drive/MyDrive/FYP /MDDLS.csv')"
      ],
      "metadata": {
        "id": "pQh5V1f8uN26"
      },
      "execution_count": 5,
      "outputs": []
    },
    {
      "cell_type": "code",
      "source": [
        "df.shape"
      ],
      "metadata": {
        "colab": {
          "base_uri": "https://localhost:8080/"
        },
        "id": "brRq5IkcuN7r",
        "outputId": "ffd1f8e3-7e88-47ad-9dc3-e6b1316be89e"
      },
      "execution_count": 6,
      "outputs": [
        {
          "output_type": "execute_result",
          "data": {
            "text/plain": [
              "(18420, 3)"
            ]
          },
          "metadata": {},
          "execution_count": 6
        }
      ]
    },
    {
      "cell_type": "code",
      "source": [
        "df['Labels'].unique()"
      ],
      "metadata": {
        "colab": {
          "base_uri": "https://localhost:8080/"
        },
        "id": "w9luNaOnuN9e",
        "outputId": "da0856f0-8ad4-412d-d743-d942bbe00a4c"
      },
      "execution_count": 7,
      "outputs": [
        {
          "output_type": "execute_result",
          "data": {
            "text/plain": [
              "array([0, 2, 3, 4, 1])"
            ]
          },
          "metadata": {},
          "execution_count": 7
        }
      ]
    },
    {
      "cell_type": "code",
      "source": [
        "Neu = df[df['Labels'] == 1].shape[0]\n",
        "Neg = df[df['Labels'] == 0].shape[0]\n",
        "RH = df[df['Labels'] == 2].shape[0]\n",
        "Sm = df[df['Labels'] == 3].shape[0]\n",
        "Profane = df[df['Labels'] == 4].shape[0]\n",
        "# bar plot of the 3 classes\n",
        "plt.bar(15,Neg,3, label=\"Negative\")\n",
        "plt.bar(20,Neu,3, label=\"Neutral\")\n",
        "plt.bar(25,Sm,3, label=\"Sexism\")\n",
        "plt.bar(30,RH,3, label=\"Relegious Hate\")\n",
        "plt.bar(35,Profane,3, label=\"Profane/Untargeted\")\n",
        "plt.legend()\n",
        "plt.ylabel('Number of examples')\n",
        "plt.title('Proportion of examples')\n",
        "plt.show()"
      ],
      "metadata": {
        "colab": {
          "base_uri": "https://localhost:8080/",
          "height": 281
        },
        "id": "BwTzuDDouN_s",
        "outputId": "75caf304-87f3-4d6a-9409-3d3a451609af"
      },
      "execution_count": 8,
      "outputs": [
        {
          "output_type": "display_data",
          "data": {
            "text/plain": [
              "<Figure size 432x288 with 1 Axes>"
            ],
            "image/png": "[encoded data removed]"
          },
          "metadata": {
            "needs_background": "light"
          }
        }
      ]
    },
    {
      "cell_type": "markdown",
      "source": [
        "## Data Preprocessing\n",
        "#### 1. Removing Punctuations\n",
        "#### 2. Converting to Lower case\n",
        "#### 3. Removing stopwords\n"
      ],
      "metadata": {
        "id": "FpUTQTv8wdM4"
      }
    },
    {
      "cell_type": "code",
      "source": [
        "import string\n",
        "string.punctuation"
      ],
      "metadata": {
        "colab": {
          "base_uri": "https://localhost:8080/",
          "height": 36
        },
        "id": "9BbAjenqwegQ",
        "outputId": "9365da58-c3cc-410f-9621-a7abc29fbf26"
      },
      "execution_count": 10,
      "outputs": [
        {
          "output_type": "execute_result",
          "data": {
            "text/plain": [
              "'!\"#$%&\\'()*+,-./:;<=>?@[\\\\]^_`{|}~'"
            ],
            "application/vnd.google.colaboratory.intrinsic+json": {
              "type": "string"
            }
          },
          "metadata": {},
          "execution_count": 10
        }
      ]
    },
    {
      "cell_type": "code",
      "source": [
        "import re\n",
        "def remove_punct(text):\n",
        "    ''' Input parameter:\n",
        "    text: (str)\n",
        "    this method is used to take each text line and check the characters if it\n",
        "    contains any puntuation and then remove them with blank space'''  \n",
        "    text  = \"\".join([char for [char] in text if char not in string.punctuation])\n",
        "    text = re.sub('[0-9]+', '', text)\n",
        "    return text\n"
      ],
      "metadata": {
        "id": "0SI86v99wuCw"
      },
      "execution_count": 11,
      "outputs": []
    },
    {
      "cell_type": "code",
      "source": [
        "# removing all the punctuation\n",
        "df['Text'] = df['Text'].apply(lambda x: remove_punct(str(x))) "
      ],
      "metadata": {
        "id": "FUqtc_Mkwy7X"
      },
      "execution_count": 12,
      "outputs": []
    },
    {
      "cell_type": "code",
      "source": [
        "def convert_to_lower_case(text):\n",
        "    ''' Input parameter:\n",
        "    text: (str)\n",
        "    this method is used to take each text line and converts the characters  into lower case and joins them further'''\n",
        "    text  = \"\".join([char.lower() for [char] in text if char not in string.punctuation])\n",
        "    return text\n"
      ],
      "metadata": {
        "id": "rTLH1vqNw2PL"
      },
      "execution_count": 13,
      "outputs": []
    },
    {
      "cell_type": "code",
      "source": [
        "df['Text'] = df['Text'].apply(lambda x: convert_to_lower_case(str(x))) #calling lower case on each line"
      ],
      "metadata": {
        "id": "1qVguFGvw7gx"
      },
      "execution_count": 14,
      "outputs": []
    },
    {
      "cell_type": "code",
      "source": [
        "stopwords=['ai', 'ayi', 'hy', 'hai', 'main', 'ki', 'tha', 'koi', 'ko', 'sy', 'woh', 'bhi', 'aur', 'wo', 'yeh', 'rha', \n",
        "           'hota', 'ho', 'ga', 'ka', 'le', 'lye', 'kr', 'kar', 'lye', 'liye', 'hotay', 'waisay', 'gya', 'gaya', 'kch',\n",
        "           'ab', 'thy', 'thay', 'houn', 'hain', 'han', 'to','is', 'hi', 'jo', 'kya', 'thi', 'se', 'pe', 'phr', 'wala',\n",
        "           'waisay', 'us', 'na', 'ny', 'hun', 'rha', 'raha', 'ja', 'rahay', 'abi', 'uski', 'ne', 'haan', 'acha', 'nai',\n",
        "           'sent', 'you', 'kafi', 'gai', 'rhy', 'kuch', 'jata', 'aye', 'ya', 'dono', 'hoa', 'aese', 'de', 'wohi',\n",
        "           'jati', 'jb', 'krta', 'lg', 'rahi', 'hui', 'karna', 'krna', 'gi', 'hova', 'yehi', 'jana', 'jye', 'chal', 'mil',\n",
        "           'tu', 'hum', 'par', 'hay', 'kis', 'sb', 'gy', 'dain', 'krny', 'tou','h','je','or','jee','he','in','un','kay','ki','ya','ap','meri','me']\n"
      ],
      "metadata": {
        "id": "rhCVCMbLw9w2"
      },
      "execution_count": 15,
      "outputs": []
    },
    {
      "cell_type": "code",
      "source": [
        "dictStopWords = {} # global variable\n",
        "forFastTextData = []\n",
        "def removeStopWordss(text):\n",
        "    text = re.sub('[^a-zA-Z]',' ',str(text))\n",
        "    text = text.lower()\n",
        "    wordList =str(text).split()\n",
        "    for word in wordList:\n",
        "        if word in stopwords:\n",
        "            wordList.remove(word)\n",
        "            if word not in dictStopWords:\n",
        "                dictStopWords[word]= 1\n",
        "            else:\n",
        "                dictStopWords[word] = dictStopWords[word] + 1\n",
        "    newSentence = \" \".join(wordList)\n",
        "    forFastTextData.append(newSentence.split())\n",
        "    return (newSentence)"
      ],
      "metadata": {
        "id": "2ai4MqfYxA0c"
      },
      "execution_count": 16,
      "outputs": []
    },
    {
      "cell_type": "code",
      "source": [
        "df['Text'] = df['Text'].apply(lambda x: removeStopWordss(x)) # sentence with removed stop words"
      ],
      "metadata": {
        "id": "-pu7KdyMxC_U"
      },
      "execution_count": 17,
      "outputs": []
    },
    {
      "cell_type": "code",
      "source": [
        "## checking for most common stopwords from the dictionary\n",
        "import collections\n",
        "from collections import Counter\n",
        "dictGraph = {}\n",
        "d = Counter(dictStopWords) # creating a counter \n",
        "d.most_common(10) \n",
        "for k,v in d.most_common(10):\n",
        "    dictGraph[k] = v\n",
        "dictGraph"
      ],
      "metadata": {
        "colab": {
          "base_uri": "https://localhost:8080/"
        },
        "id": "6cmeX0VsxHYD",
        "outputId": "96fd6d25-02a9-4222-d733-2690acbac575"
      },
      "execution_count": 18,
      "outputs": [
        {
          "output_type": "execute_result",
          "data": {
            "text/plain": [
              "{'hai': 4897,\n",
              " 'ki': 4408,\n",
              " 'ko': 3615,\n",
              " 'ka': 2978,\n",
              " 'to': 2726,\n",
              " 'ho': 2305,\n",
              " 'se': 2251,\n",
              " 'hain': 1552,\n",
              " 'me': 1450,\n",
              " 'na': 1423}"
            ]
          },
          "metadata": {},
          "execution_count": 18
        }
      ]
    },
    {
      "cell_type": "code",
      "source": [
        "#plotting a graph of 10 most common stopwords from dictionary\n",
        "plt.bar(dictGraph.keys(), dictGraph.values(), align='center', color = 'green')\n",
        "plt.title('Bargraph for Most Common StopWords')\n",
        "plt.xlabel('StopWords')\n",
        "plt.ylabel('Count')\n",
        "plt.show()"
      ],
      "metadata": {
        "colab": {
          "base_uri": "https://localhost:8080/",
          "height": 295
        },
        "id": "GMMe9nqExRIE",
        "outputId": "8f9e5d3c-603a-434f-e098-82fdcf8f0a8c"
      },
      "execution_count": 19,
      "outputs": [
        {
          "output_type": "display_data",
          "data": {
            "text/plain": [
              "<Figure size 432x288 with 1 Axes>"
            ],
            "image/png": "[encoded data removed]"
          },
          "metadata": {
            "needs_background": "light"
          }
        }
      ]
    },
    {
      "cell_type": "markdown",
      "source": [
        "Tokenization and Test Train Split"
      ],
      "metadata": {
        "id": "vnpTPOL7xdar"
      }
    },
    {
      "cell_type": "code",
      "source": [
        "from sklearn.model_selection import train_test_split"
      ],
      "metadata": {
        "id": "urevIxCBxUuC"
      },
      "execution_count": 20,
      "outputs": []
    },
    {
      "cell_type": "code",
      "source": [
        "X=df['Text']\n",
        "y=df['Labels']\n",
        "X.shape"
      ],
      "metadata": {
        "colab": {
          "base_uri": "https://localhost:8080/"
        },
        "id": "PkhBI1hLxhqH",
        "outputId": "2f052a77-389e-4a63-e307-2ddc34111bd7"
      },
      "execution_count": 21,
      "outputs": [
        {
          "output_type": "execute_result",
          "data": {
            "text/plain": [
              "(18420,)"
            ]
          },
          "metadata": {},
          "execution_count": 21
        }
      ]
    },
    {
      "cell_type": "code",
      "source": [
        "count = df['Text'].str.split().apply(len)\n",
        "count=count.sort_values(axis=0, ascending=False, inplace=False, kind='quicksort', na_position='last', ignore_index=False, key=None)\n",
        "MAX_SEQUENCE_LENGTH=count.iloc[0]+10\n",
        "MAX_SEQUENCE_LENGTH"
      ],
      "metadata": {
        "colab": {
          "base_uri": "https://localhost:8080/"
        },
        "id": "W5rQ6Gb2xlM6",
        "outputId": "231b8498-42c8-4c4a-cf21-9b5cffc26ba0"
      },
      "execution_count": 23,
      "outputs": [
        {
          "output_type": "execute_result",
          "data": {
            "text/plain": [
              "66"
            ]
          },
          "metadata": {},
          "execution_count": 23
        }
      ]
    },
    {
      "cell_type": "code",
      "source": [
        "tokenizer = Tokenizer()\n",
        "tokenizer.fit_on_texts(X)\n",
        "\n",
        "word_index = tokenizer.word_index\n",
        "vocab_size = len(tokenizer.word_index) + 1\n",
        "print(\"Vocabulary Size :\", vocab_size)"
      ],
      "metadata": {
        "colab": {
          "base_uri": "https://localhost:8080/"
        },
        "id": "WyW0Lv8YxtXR",
        "outputId": "526be176-5778-4500-e910-e3659919e4fd"
      },
      "execution_count": 24,
      "outputs": [
        {
          "output_type": "stream",
          "name": "stdout",
          "text": [
            "Vocabulary Size : 22847\n"
          ]
        }
      ]
    },
    {
      "cell_type": "code",
      "source": [
        "X_train, X_test, y_train, y_test = train_test_split( X, y, test_size=0.2, random_state=42)"
      ],
      "metadata": {
        "id": "Gn3VoT4QWW5U"
      },
      "execution_count": 25,
      "outputs": []
    },
    {
      "cell_type": "code",
      "source": [
        "\n",
        "X_train = pad_sequences((tokenizer.texts_to_sequences(X_train)),\n",
        "                        maxlen = MAX_SEQUENCE_LENGTH)\n",
        "X_test = pad_sequences(tokenizer.texts_to_sequences(X_test),\n",
        "                      maxlen = MAX_SEQUENCE_LENGTH)\n",
        "\n",
        "print(\"Training X Shape:\",X_train.shape)\n",
        "print(\"Testing X Shape:\",X_test.shape)"
      ],
      "metadata": {
        "colab": {
          "base_uri": "https://localhost:8080/"
        },
        "id": "rP_0yGmDxy_y",
        "outputId": "360abf71-cca0-42b6-d905-671dfe2ebd83"
      },
      "execution_count": 26,
      "outputs": [
        {
          "output_type": "stream",
          "name": "stdout",
          "text": [
            "Training X Shape: (14736, 66)\n",
            "Testing X Shape: (3684, 66)\n"
          ]
        }
      ]
    },
    {
      "cell_type": "code",
      "source": [
        "oversample=SMOTE()\n",
        "X_train, y_train = oversample.fit_resample(X_train, y_train)"
      ],
      "metadata": {
        "id": "LBhnHZE0aSG3"
      },
      "execution_count": 28,
      "outputs": []
    },
    {
      "cell_type": "code",
      "source": [
        "print(f'train data:{X_train.shape}, train labels:{y_train.shape},test data:{X_test.shape}, test labels:{y_test.shape}')"
      ],
      "metadata": {
        "colab": {
          "base_uri": "https://localhost:8080/"
        },
        "id": "dblvPihHWRzU",
        "outputId": "d4de080d-bcec-4531-98db-1d457d84e206"
      },
      "execution_count": 29,
      "outputs": [
        {
          "output_type": "stream",
          "name": "stdout",
          "text": [
            "train data:(39115, 66), train labels:(39115,),test data:(3684, 66), test labels:(3684,)\n"
          ]
        }
      ]
    },
    {
      "cell_type": "markdown",
      "source": [
        "## Importing Pretrained Word2vec embeddings"
      ],
      "metadata": {
        "id": "hcstL1gdYnQM"
      }
    },
    {
      "cell_type": "code",
      "source": [
        "# load embeding for text file\n",
        "embeddings_index1 = dict()\n",
        "f = open('/content/drive/MyDrive/FYP /vectors500000.txt')\n",
        "\n",
        "for line in f:\n",
        "    values = line.split()\n",
        "    word = values[0]\n",
        "    coefs = np.asarray(values[1:], dtype='float32')\n",
        "    embeddings_index1[word] = coefs\n",
        "f.close()\n",
        "print('Loaded %s word vectors.' % len(embeddings_index1))"
      ],
      "metadata": {
        "colab": {
          "base_uri": "https://localhost:8080/"
        },
        "id": "GDXT2z5-WjuD",
        "outputId": "6926dfe6-9bf8-4585-b0f3-c7771f8505cd"
      },
      "execution_count": 30,
      "outputs": [
        {
          "output_type": "stream",
          "name": "stdout",
          "text": [
            "Loaded 31308 word vectors.\n"
          ]
        }
      ]
    },
    {
      "cell_type": "code",
      "source": [
        "# load embeding for text file\n",
        "embeddings_index2 = dict()\n",
        "f = open('/content/drive/MyDrive/FYP /word2vec_RU.txt')\n",
        "\n",
        "for line in f:\n",
        "    values = line.split()\n",
        "    word = values[0]\n",
        "    coefs = np.asarray(values[1:], dtype='float32')\n",
        "    embeddings_index2[word] = coefs\n",
        "f.close()\n",
        "print('Loaded %s word vectors.' % len(embeddings_index2))"
      ],
      "metadata": {
        "colab": {
          "base_uri": "https://localhost:8080/"
        },
        "id": "pxlM0v0-Yrrt",
        "outputId": "e7f30e90-c35e-43fa-ad3e-4ea9a01d6ce7"
      },
      "execution_count": 31,
      "outputs": [
        {
          "output_type": "stream",
          "name": "stdout",
          "text": [
            "Loaded 20838 word vectors.\n"
          ]
        }
      ]
    },
    {
      "cell_type": "code",
      "source": [
        "count=0\n",
        "wordcount1=0\n",
        "wordcount2=0\n",
        "dims=100\n",
        "flag=1\n",
        "#word_index = {w: i for i, w in enumerate(embeddings_index, 1)}\n",
        "embedding_matrix = np.zeros((len(word_index)+1, dims))\n",
        "for word, i in word_index.items():\n",
        "  if word in embeddings_index1.keys():\n",
        "    embedding_vector = embeddings_index1.get(word)\n",
        "    if embedding_vector is not None:\n",
        "        # words not found in embedding index will be all-zeros.\n",
        "        embedding_matrix[i] = embedding_vector[:dims]\n",
        "        wordcount1 +=1\n",
        "        \n",
        "  elif word in embeddings_index2.keys():\n",
        "        embedding_vector = embeddings_index2.get(word)\n",
        "        if embedding_vector is not None:\n",
        "        # words not found in embedding index will be all-zeros.\n",
        "         embedding_matrix[i] = embedding_vector[:dims]\n",
        "         wordcount2 +=1\n",
        "        \n",
        "  else:\n",
        "     count +=1\n",
        "     \n",
        "      "
      ],
      "metadata": {
        "id": "n-B-gPOdYrzg"
      },
      "execution_count": 32,
      "outputs": []
    },
    {
      "cell_type": "code",
      "source": [
        "print('Embedding Stats :')\n",
        "print(f'Words found in first embedding: {wordcount1}')\n",
        "print(f'Words found in second embedding: {wordcount2}')\n",
        "print(f'Words not found in any embedding: {count}')\n",
        "print(f'Total words found in both embeddings: {wordcount1+wordcount2}')"
      ],
      "metadata": {
        "colab": {
          "base_uri": "https://localhost:8080/"
        },
        "id": "64yO8f0DYzjN",
        "outputId": "c39adec6-9d23-4b36-efb6-2fbfeccc06dd"
      },
      "execution_count": 33,
      "outputs": [
        {
          "output_type": "stream",
          "name": "stdout",
          "text": [
            "Embedding Stats :\n",
            "Words found in first embedding: 10101\n",
            "Words found in second embedding: 11237\n",
            "Words not found in any embedding: 1508\n",
            "Total words found in both embeddings: 21338\n"
          ]
        }
      ]
    },
    {
      "cell_type": "code",
      "source": [
        "embedding_matrix.shape"
      ],
      "metadata": {
        "colab": {
          "base_uri": "https://localhost:8080/"
        },
        "id": "NkDsoO3bY2BX",
        "outputId": "695907b4-6c4b-4a9a-c7e3-22dd41dee65c"
      },
      "execution_count": 34,
      "outputs": [
        {
          "output_type": "execute_result",
          "data": {
            "text/plain": [
              "(22847, 100)"
            ]
          },
          "metadata": {},
          "execution_count": 34
        }
      ]
    },
    {
      "cell_type": "code",
      "source": [
        "no_of_classes = len(df['Labels'].unique())\n",
        "no_of_classes"
      ],
      "metadata": {
        "colab": {
          "base_uri": "https://localhost:8080/"
        },
        "id": "On5PDdGFaUiH",
        "outputId": "0aad4ae0-e7a1-4794-b041-74ef36583916"
      },
      "execution_count": 35,
      "outputs": [
        {
          "output_type": "execute_result",
          "data": {
            "text/plain": [
              "5"
            ]
          },
          "metadata": {},
          "execution_count": 35
        }
      ]
    },
    {
      "cell_type": "markdown",
      "source": [
        "##**Simple RNN's**"
      ],
      "metadata": {
        "id": "vD3fa95OZqCj"
      }
    },
    {
      "cell_type": "code",
      "source": [
        "#%%time\n",
        "#with strategy.scope():\n",
        "    # A simpleRNN without any pretrained embeddings and one dense layer\n",
        "model = Sequential()\n",
        "model.add(Embedding(embedding_matrix.shape[0],embedding_matrix.shape[1],weights=[embedding_matrix],input_length=MAX_SEQUENCE_LENGTH,trainable=False))\n",
        "model.add(Dropout(0.2))\n",
        "model.add(SimpleRNN(20))\n",
        "model.add(Dropout(0.2))\n",
        "model.add(Dense(200,activation='relu'))\n",
        "model.add(Dense(100,activation='relu'))\n",
        "model.add(Dense(no_of_classes, activation='softmax'))\n",
        "model.compile(loss='sparse_categorical_crossentropy', optimizer='adam', metrics=['accuracy'])\n",
        "    \n",
        "model.summary()"
      ],
      "metadata": {
        "colab": {
          "base_uri": "https://localhost:8080/"
        },
        "id": "dTa7UwMsY74k",
        "outputId": "f614c6cf-93ac-4390-97a3-cab456576b5f"
      },
      "execution_count": 36,
      "outputs": [
        {
          "output_type": "stream",
          "name": "stdout",
          "text": [
            "Model: \"sequential\"\n",
            "_________________________________________________________________\n",
            " Layer (type)                Output Shape              Param #   \n",
            "=================================================================\n",
            " embedding (Embedding)       (None, 66, 100)           2284700   \n",
            "                                                                 \n",
            " dropout (Dropout)           (None, 66, 100)           0         \n",
            "                                                                 \n",
            " simple_rnn (SimpleRNN)      (None, 20)                2420      \n",
            "                                                                 \n",
            " dropout_1 (Dropout)         (None, 20)                0         \n",
            "                                                                 \n",
            " dense (Dense)               (None, 200)               4200      \n",
            "                                                                 \n",
            " dense_1 (Dense)             (None, 100)               20100     \n",
            "                                                                 \n",
            " dense_2 (Dense)             (None, 5)                 505       \n",
            "                                                                 \n",
            "=================================================================\n",
            "Total params: 2,311,925\n",
            "Trainable params: 27,225\n",
            "Non-trainable params: 2,284,700\n",
            "_________________________________________________________________\n"
          ]
        }
      ]
    },
    {
      "cell_type": "code",
      "source": [
        "history=model.fit(X_train, y_train, epochs=5, batch_size=128,validation_data=(X_test, y_test),verbose=1)"
      ],
      "metadata": {
        "colab": {
          "base_uri": "https://localhost:8080/"
        },
        "id": "UNTRsuHmao40",
        "outputId": "2b06fc4d-038c-4448-81ff-6b46644ebec4"
      },
      "execution_count": 37,
      "outputs": [
        {
          "output_type": "stream",
          "name": "stdout",
          "text": [
            "Epoch 1/5\n",
            "306/306 [==============================] - 20s 54ms/step - loss: 1.6085 - accuracy: 0.2224 - val_loss: 1.5473 - val_accuracy: 0.3317\n",
            "Epoch 2/5\n",
            "306/306 [==============================] - 16s 52ms/step - loss: 1.5971 - accuracy: 0.2302 - val_loss: 1.5507 - val_accuracy: 0.3409\n",
            "Epoch 3/5\n",
            "306/306 [==============================] - 19s 61ms/step - loss: 1.5895 - accuracy: 0.2413 - val_loss: 1.5431 - val_accuracy: 0.3352\n",
            "Epoch 4/5\n",
            "306/306 [==============================] - 16s 52ms/step - loss: 1.5869 - accuracy: 0.2476 - val_loss: 1.5239 - val_accuracy: 0.3819\n",
            "Epoch 5/5\n",
            "306/306 [==============================] - 16s 52ms/step - loss: 1.5815 - accuracy: 0.2530 - val_loss: 1.5222 - val_accuracy: 0.3876\n"
          ]
        }
      ]
    },
    {
      "cell_type": "code",
      "source": [
        "from sklearn import metrics\n",
        "def decode_sentiment(score):\n",
        "    return 1 if score>0.5 else 0"
      ],
      "metadata": {
        "id": "Z9hnwW6Iat8O"
      },
      "execution_count": 38,
      "outputs": []
    },
    {
      "cell_type": "code",
      "source": [
        "y_pred = model.predict(X_test)\n",
        "print(y_pred.shape)\n",
        "y_pred = np.argmax(y_pred, axis=1)\n",
        "print(y_pred.shape)\n",
        "metrics.accuracy_score(y_test, y_pred)"
      ],
      "metadata": {
        "colab": {
          "base_uri": "https://localhost:8080/"
        },
        "id": "cOc0T5OkbfY8",
        "outputId": "664bfda0-c9ea-482d-ca3b-31ef0632b825"
      },
      "execution_count": 39,
      "outputs": [
        {
          "output_type": "stream",
          "name": "stdout",
          "text": [
            "(3684, 5)\n",
            "(3684,)\n"
          ]
        },
        {
          "output_type": "execute_result",
          "data": {
            "text/plain": [
              "0.38762214983713356"
            ]
          },
          "metadata": {},
          "execution_count": 39
        }
      ]
    },
    {
      "cell_type": "code",
      "source": [
        "print(\"classification report:\")\n",
        "print(metrics.classification_report(y_test, y_pred))#, target_names=target_names))"
      ],
      "metadata": {
        "colab": {
          "base_uri": "https://localhost:8080/"
        },
        "id": "Lm7hbo39bwl1",
        "outputId": "c320176d-9d5e-43b2-dc63-99fa75569c6b"
      },
      "execution_count": 40,
      "outputs": [
        {
          "output_type": "stream",
          "name": "stdout",
          "text": [
            "classification report:\n",
            "              precision    recall  f1-score   support\n",
            "\n",
            "           0       0.44      0.34      0.38      1228\n",
            "           1       0.65      0.47      0.55      2017\n",
            "           2       0.04      0.12      0.07       163\n",
            "           3       0.08      0.13      0.10       163\n",
            "           4       0.04      0.18      0.06       113\n",
            "\n",
            "    accuracy                           0.39      3684\n",
            "   macro avg       0.25      0.25      0.23      3684\n",
            "weighted avg       0.51      0.39      0.44      3684\n",
            "\n"
          ]
        }
      ]
    },
    {
      "cell_type": "code",
      "source": [
        "print(\"confusion matrix: \")\n",
        "print(metrics.confusion_matrix(y_test, y_pred))"
      ],
      "metadata": {
        "colab": {
          "base_uri": "https://localhost:8080/"
        },
        "id": "EqTkaCcRcCVP",
        "outputId": "52308803-15de-48fd-b0ef-b06a96c125b1"
      },
      "execution_count": 41,
      "outputs": [
        {
          "output_type": "stream",
          "name": "stdout",
          "text": [
            "confusion matrix: \n",
            "[[416 383 139 110 180]\n",
            " [369 950 264 118 316]\n",
            " [ 54  54  20   9  26]\n",
            " [ 46  53  13  22  29]\n",
            " [ 52  24  11   6  20]]\n"
          ]
        }
      ]
    },
    {
      "cell_type": "code",
      "source": [
        "plt.figure(figsize=(12, 8))\n",
        "plt.subplot(2, 2, 1)\n",
        "plt.plot(history.history['loss'], label='Loss')\n",
        "plt.plot(history.history['val_loss'], label='val_Loss')\n",
        "plt.legend()\n",
        "plt.grid()\n",
        "plt.title('Loss evolution')\n"
      ],
      "metadata": {
        "colab": {
          "base_uri": "https://localhost:8080/",
          "height": 280
        },
        "id": "ivrO1YoYcMLc",
        "outputId": "467d87fd-b59d-4a6e-ae61-5ad4c3e38d12"
      },
      "execution_count": 42,
      "outputs": [
        {
          "output_type": "execute_result",
          "data": {
            "text/plain": [
              "Text(0.5, 1.0, 'Loss evolution')"
            ]
          },
          "metadata": {},
          "execution_count": 42
        },
        {
          "output_type": "display_data",
          "data": {
            "text/plain": [
              "<Figure size 864x576 with 1 Axes>"
            ],
            "image/png": "[encoded data removed]"
          },
          "metadata": {
            "needs_background": "light"
          }
        }
      ]
    },
    {
      "cell_type": "code",
      "source": [
        "plt.subplot(1, 1, 1)\n",
        "plt.plot(history.history['accuracy'], label='accuracy')\n",
        "plt.plot(history.history['val_accuracy'], label='val_accuracy')\n",
        "plt.legend()\n",
        "plt.grid()\n",
        "plt.title('Accuracy evolution')"
      ],
      "metadata": {
        "colab": {
          "base_uri": "https://localhost:8080/",
          "height": 299
        },
        "id": "C1_IZM9scRTy",
        "outputId": "335500b5-0ae3-43e1-e687-a04602827e22"
      },
      "execution_count": 43,
      "outputs": [
        {
          "output_type": "execute_result",
          "data": {
            "text/plain": [
              "Text(0.5, 1.0, 'Accuracy evolution')"
            ]
          },
          "metadata": {},
          "execution_count": 43
        },
        {
          "output_type": "display_data",
          "data": {
            "text/plain": [
              "<Figure size 432x288 with 1 Axes>"
            ],
            "image/png": "[encoded data removed]"
          },
          "metadata": {
            "needs_background": "light"
          }
        }
      ]
    },
    {
      "cell_type": "markdown",
      "source": [
        "## **Bi-Directional LSTM**"
      ],
      "metadata": {
        "id": "z4VkHtmrcY_M"
      }
    },
    {
      "cell_type": "code",
      "source": [
        "\n",
        "model = Sequential()\n",
        "\n",
        "# Keras Embedding layer with Word2Vec weights initialization\n",
        "model.add(Embedding(embedding_matrix.shape[0],embedding_matrix.shape[1],weights=[embedding_matrix],input_length=MAX_SEQUENCE_LENGTH,trainable=False))\n",
        "\n",
        "#model.add(Dropout(0.25))\n",
        "#model.add(Conv1D(128, 3, activation='relu'))\n",
        "model.add(Bidirectional(LSTM(300)))\n",
        "model.add(Dense(512,activation='relu'))\n",
        "model.add(Dense(256,activation='relu'))\n",
        "model.add(Dense(no_of_classes,activation='softmax'))\n",
        "\n",
        "model.compile(optimizer='adam', loss='sparse_categorical_crossentropy',\n",
        "              metrics=['accuracy'])\n",
        "#ReduceLROnPlateau = ReduceLROnPlateau(factor=0.1, min_lr = 0.01, monitor = 'val_loss',verbose = 1)\n",
        "model.summary()"
      ],
      "metadata": {
        "colab": {
          "base_uri": "https://localhost:8080/"
        },
        "id": "8FPrtEtPcUnc",
        "outputId": "af55e875-674b-4ad6-f05f-0e672d581cfe"
      },
      "execution_count": 44,
      "outputs": [
        {
          "output_type": "stream",
          "name": "stdout",
          "text": [
            "Model: \"sequential_1\"\n",
            "_________________________________________________________________\n",
            " Layer (type)                Output Shape              Param #   \n",
            "=================================================================\n",
            " embedding_1 (Embedding)     (None, 66, 100)           2284700   \n",
            "                                                                 \n",
            " bidirectional (Bidirectiona  (None, 600)              962400    \n",
            " l)                                                              \n",
            "                                                                 \n",
            " dense_3 (Dense)             (None, 512)               307712    \n",
            "                                                                 \n",
            " dense_4 (Dense)             (None, 256)               131328    \n",
            "                                                                 \n",
            " dense_5 (Dense)             (None, 5)                 1285      \n",
            "                                                                 \n",
            "=================================================================\n",
            "Total params: 3,687,425\n",
            "Trainable params: 1,402,725\n",
            "Non-trainable params: 2,284,700\n",
            "_________________________________________________________________\n"
          ]
        }
      ]
    },
    {
      "cell_type": "code",
      "source": [
        "history = model.fit(X_train, y_train, epochs=10, batch_size=128,\n",
        "                    validation_data=(X_test, y_test), verbose=1)"
      ],
      "metadata": {
        "colab": {
          "base_uri": "https://localhost:8080/"
        },
        "id": "Y-yyxel9cmMs",
        "outputId": "d507fba1-d444-462e-f2bc-9f59e5ab475c"
      },
      "execution_count": 45,
      "outputs": [
        {
          "output_type": "stream",
          "name": "stdout",
          "text": [
            "Epoch 1/10\n",
            "306/306 [==============================] - 14s 27ms/step - loss: 1.5101 - accuracy: 0.3160 - val_loss: 1.2449 - val_accuracy: 0.5432\n",
            "Epoch 2/10\n",
            "306/306 [==============================] - 7s 24ms/step - loss: 1.3289 - accuracy: 0.4298 - val_loss: 1.0615 - val_accuracy: 0.6183\n",
            "Epoch 3/10\n",
            "306/306 [==============================] - 8s 25ms/step - loss: 1.2145 - accuracy: 0.4839 - val_loss: 1.0372 - val_accuracy: 0.6219\n",
            "Epoch 4/10\n",
            "306/306 [==============================] - 8s 25ms/step - loss: 1.1237 - accuracy: 0.5264 - val_loss: 1.1100 - val_accuracy: 0.5947\n",
            "Epoch 5/10\n",
            "306/306 [==============================] - 8s 25ms/step - loss: 1.0530 - accuracy: 0.5561 - val_loss: 1.0414 - val_accuracy: 0.6194\n",
            "Epoch 6/10\n",
            "306/306 [==============================] - 8s 25ms/step - loss: 0.9912 - accuracy: 0.5879 - val_loss: 1.0012 - val_accuracy: 0.6382\n",
            "Epoch 7/10\n",
            "306/306 [==============================] - 8s 26ms/step - loss: 0.9344 - accuracy: 0.6158 - val_loss: 1.0667 - val_accuracy: 0.6311\n",
            "Epoch 8/10\n",
            "306/306 [==============================] - 8s 26ms/step - loss: 0.8874 - accuracy: 0.6395 - val_loss: 1.0928 - val_accuracy: 0.6251\n",
            "Epoch 9/10\n",
            "306/306 [==============================] - 8s 26ms/step - loss: 0.8314 - accuracy: 0.6642 - val_loss: 1.1542 - val_accuracy: 0.6279\n",
            "Epoch 10/10\n",
            "306/306 [==============================] - 8s 26ms/step - loss: 0.7846 - accuracy: 0.6871 - val_loss: 1.1236 - val_accuracy: 0.6240\n"
          ]
        }
      ]
    },
    {
      "cell_type": "code",
      "source": [
        "y_pred = model.predict(X_test)\n",
        "print(y_pred.shape)\n",
        "y_pred = np.argmax(y_pred, axis=1)\n",
        "print(y_pred.shape)\n",
        "accuracy=metrics.accuracy_score(y_test, y_pred)\n",
        "print(f'Accuracy of Bi-Lstm is {accuracy:.2f}%')"
      ],
      "metadata": {
        "colab": {
          "base_uri": "https://localhost:8080/"
        },
        "id": "-4k2Lxs4cr2B",
        "outputId": "0b9a0971-1632-4861-ff25-31fc1441451a"
      },
      "execution_count": 46,
      "outputs": [
        {
          "output_type": "stream",
          "name": "stdout",
          "text": [
            "(3684, 5)\n",
            "(3684,)\n",
            "Accuracy of Bi-Lstm is 0.62%\n"
          ]
        }
      ]
    },
    {
      "cell_type": "code",
      "source": [
        "print(\"classification report:\")\n",
        "print(metrics.classification_report(y_test, y_pred))#, target_names=target_names))"
      ],
      "metadata": {
        "colab": {
          "base_uri": "https://localhost:8080/"
        },
        "id": "dYE4SuLhhGZS",
        "outputId": "ff6f56e6-f246-4433-c709-ab506d75b4eb"
      },
      "execution_count": 47,
      "outputs": [
        {
          "output_type": "stream",
          "name": "stdout",
          "text": [
            "classification report:\n",
            "              precision    recall  f1-score   support\n",
            "\n",
            "           0       0.62      0.47      0.54      1228\n",
            "           1       0.93      0.81      0.86      2017\n",
            "           2       0.11      0.23      0.15       163\n",
            "           3       0.11      0.25      0.15       163\n",
            "           4       0.04      0.11      0.06       113\n",
            "\n",
            "    accuracy                           0.62      3684\n",
            "   macro avg       0.36      0.37      0.35      3684\n",
            "weighted avg       0.72      0.62      0.67      3684\n",
            "\n"
          ]
        }
      ]
    },
    {
      "cell_type": "code",
      "source": [
        "print(\"confusion matrix: \")\n",
        "print(metrics.confusion_matrix(y_test, y_pred))"
      ],
      "metadata": {
        "colab": {
          "base_uri": "https://localhost:8080/"
        },
        "id": "qn0Psul2hKdl",
        "outputId": "4d3d2071-2bab-467a-85a9-fecad08ed505"
      },
      "execution_count": 48,
      "outputs": [
        {
          "output_type": "stream",
          "name": "stdout",
          "text": [
            "confusion matrix: \n",
            "[[ 577   92  168  218  173]\n",
            " [ 106 1633  111   95   72]\n",
            " [  86   12   37   15   13]\n",
            " [  91   11   12   40    9]\n",
            " [  69   16    7    9   12]]\n"
          ]
        }
      ]
    },
    {
      "cell_type": "code",
      "source": [
        "plt.figure(figsize=(12, 8))\n",
        "plt.subplot(2, 2, 1)\n",
        "plt.plot(history.history['loss'], label='Loss')\n",
        "plt.plot(history.history['val_loss'], label='val_Loss')\n",
        "plt.legend()\n",
        "plt.grid()\n",
        "plt.title('Loss evolution')"
      ],
      "metadata": {
        "colab": {
          "base_uri": "https://localhost:8080/",
          "height": 280
        },
        "id": "4Ivb0OaBhT4R",
        "outputId": "51b144d7-390e-47ff-d5e4-101fa7bd182a"
      },
      "execution_count": 44,
      "outputs": [
        {
          "output_type": "execute_result",
          "data": {
            "text/plain": [
              "Text(0.5, 1.0, 'Loss evolution')"
            ]
          },
          "metadata": {},
          "execution_count": 44
        },
        {
          "output_type": "display_data",
          "data": {
            "text/plain": [
              "<Figure size 864x576 with 1 Axes>"
            ],
            "image/png": "[encoded data removed]"
          },
          "metadata": {
            "needs_background": "light"
          }
        }
      ]
    },
    {
      "cell_type": "code",
      "source": [
        "plt.subplot(1, 1, 1)\n",
        "plt.plot(history.history['accuracy'], label='accuracy')\n",
        "plt.plot(history.history['val_accuracy'], label='val_accuracy')\n",
        "plt.legend()\n",
        "plt.grid()\n",
        "plt.title('Accuracy evolution')"
      ],
      "metadata": {
        "colab": {
          "base_uri": "https://localhost:8080/",
          "height": 299
        },
        "id": "kIkLkRwwhf25",
        "outputId": "4b1936e5-db02-4a47-d814-bb61fc221472"
      },
      "execution_count": 45,
      "outputs": [
        {
          "output_type": "execute_result",
          "data": {
            "text/plain": [
              "Text(0.5, 1.0, 'Accuracy evolution')"
            ]
          },
          "metadata": {},
          "execution_count": 45
        },
        {
          "output_type": "display_data",
          "data": {
            "text/plain": [
              "<Figure size 432x288 with 1 Axes>"
            ],
            "image/png": "[encoded data removed]"
          },
          "metadata": {
            "needs_background": "light"
          }
        }
      ]
    },
    {
      "cell_type": "markdown",
      "source": [
        "# **GRU's**"
      ],
      "metadata": {
        "id": "nMn5LEdfhxAA"
      }
    },
    {
      "cell_type": "code",
      "source": [
        "   # GRU with Word2Vec embeddings and two dense layers\n",
        "model = Sequential()\n",
        "model.add(Embedding(embedding_matrix.shape[0],embedding_matrix.shape[1],weights=[embedding_matrix],input_length=MAX_SEQUENCE_LENGTH,trainable=False))\n",
        "#model.add(SpatialDropout1D(0.3))\n",
        "model.add(Bidirectional(GRU(300,dropout=0.3)))\n",
        "model.add(Dense(512,activation='relu'))\n",
        "model.add(Dense(256, activation='relu'))\n",
        "model.add(Dense(no_of_classes, activation='softmax'))\n",
        "model.compile(loss='sparse_categorical_crossentropy', optimizer='adam',metrics=['accuracy'])   \n",
        "    \n",
        "model.summary()"
      ],
      "metadata": {
        "colab": {
          "base_uri": "https://localhost:8080/"
        },
        "id": "0NFbH0EEhjJx",
        "outputId": "5687ff3e-f6d6-4496-a8bb-b805332837c6"
      },
      "execution_count": 48,
      "outputs": [
        {
          "output_type": "stream",
          "name": "stdout",
          "text": [
            "Model: \"sequential_3\"\n",
            "_________________________________________________________________\n",
            " Layer (type)                Output Shape              Param #   \n",
            "=================================================================\n",
            " embedding_3 (Embedding)     (None, 66, 100)           2284700   \n",
            "                                                                 \n",
            " bidirectional_2 (Bidirectio  (None, 600)              723600    \n",
            " nal)                                                            \n",
            "                                                                 \n",
            " dense_9 (Dense)             (None, 512)               307712    \n",
            "                                                                 \n",
            " dense_10 (Dense)            (None, 256)               131328    \n",
            "                                                                 \n",
            " dense_11 (Dense)            (None, 5)                 1285      \n",
            "                                                                 \n",
            "=================================================================\n",
            "Total params: 3,448,625\n",
            "Trainable params: 1,163,925\n",
            "Non-trainable params: 2,284,700\n",
            "_________________________________________________________________\n"
          ]
        }
      ]
    },
    {
      "cell_type": "code",
      "source": [
        "history = model.fit(X_train, y_train, epochs=10, batch_size=64,\n",
        "                    validation_data=(X_test, y_test), verbose=1)"
      ],
      "metadata": {
        "colab": {
          "base_uri": "https://localhost:8080/"
        },
        "id": "IHAPJva7h6gW",
        "outputId": "51189c18-b58a-4455-a7f6-cab971163433"
      },
      "execution_count": 49,
      "outputs": [
        {
          "output_type": "stream",
          "name": "stdout",
          "text": [
            "Epoch 1/10\n",
            "231/231 [==============================] - 7s 19ms/step - loss: 1.0522 - accuracy: 0.5790 - val_loss: 0.9708 - val_accuracy: 0.6330\n",
            "Epoch 2/10\n",
            "231/231 [==============================] - 4s 16ms/step - loss: 0.9661 - accuracy: 0.6181 - val_loss: 0.9281 - val_accuracy: 0.6596\n",
            "Epoch 3/10\n",
            "231/231 [==============================] - 4s 17ms/step - loss: 0.9200 - accuracy: 0.6458 - val_loss: 0.8961 - val_accuracy: 0.6740\n",
            "Epoch 4/10\n",
            "231/231 [==============================] - 4s 16ms/step - loss: 0.8931 - accuracy: 0.6596 - val_loss: 0.8828 - val_accuracy: 0.6895\n",
            "Epoch 5/10\n",
            "231/231 [==============================] - 4s 17ms/step - loss: 0.8702 - accuracy: 0.6701 - val_loss: 0.8517 - val_accuracy: 0.6916\n",
            "Epoch 6/10\n",
            "231/231 [==============================] - 5s 20ms/step - loss: 0.8555 - accuracy: 0.6760 - val_loss: 0.8389 - val_accuracy: 0.7049\n",
            "Epoch 7/10\n",
            "231/231 [==============================] - 4s 16ms/step - loss: 0.8277 - accuracy: 0.6846 - val_loss: 0.8392 - val_accuracy: 0.7077\n",
            "Epoch 8/10\n",
            "231/231 [==============================] - 4s 16ms/step - loss: 0.8255 - accuracy: 0.6862 - val_loss: 0.8350 - val_accuracy: 0.7020\n",
            "Epoch 9/10\n",
            "231/231 [==============================] - 4s 18ms/step - loss: 0.8054 - accuracy: 0.6946 - val_loss: 0.8269 - val_accuracy: 0.7090\n",
            "Epoch 10/10\n",
            "231/231 [==============================] - 4s 16ms/step - loss: 0.7942 - accuracy: 0.6982 - val_loss: 0.8165 - val_accuracy: 0.7125\n"
          ]
        }
      ]
    },
    {
      "cell_type": "code",
      "source": [
        "y_pred = model.predict(X_test)\n",
        "print(y_pred.shape)\n",
        "y_pred = np.argmax(y_pred, axis=1)\n",
        "print(y_pred.shape)\n",
        "accuracy=metrics.accuracy_score(y_test, y_pred)\n",
        "print(f'Accuracy of Bi-GRU is {accuracy:.2f}%')"
      ],
      "metadata": {
        "colab": {
          "base_uri": "https://localhost:8080/"
        },
        "id": "OyAMHmxLh-f6",
        "outputId": "77ec3a8d-4aea-4c77-eda6-09e337602d13"
      },
      "execution_count": 50,
      "outputs": [
        {
          "output_type": "stream",
          "name": "stdout",
          "text": [
            "(3684, 5)\n",
            "(3684,)\n",
            "Accuracy of Bi-GRU is 0.71%\n"
          ]
        }
      ]
    },
    {
      "cell_type": "code",
      "source": [
        "print(\"classification report:\")\n",
        "print(metrics.classification_report(y_test, y_pred))#, target_names=target_names))"
      ],
      "metadata": {
        "colab": {
          "base_uri": "https://localhost:8080/"
        },
        "id": "bbRzLTrRibuD",
        "outputId": "9cc11f52-687c-4bf4-b67e-54705f595164"
      },
      "execution_count": 51,
      "outputs": [
        {
          "output_type": "stream",
          "name": "stdout",
          "text": [
            "classification report:\n",
            "              precision    recall  f1-score   support\n",
            "\n",
            "           0       0.65      0.61      0.63      1220\n",
            "           1       0.75      0.93      0.83      2017\n",
            "           2       0.18      0.02      0.04       176\n",
            "           3       0.00      0.00      0.00       160\n",
            "           4       0.00      0.00      0.00       111\n",
            "\n",
            "    accuracy                           0.71      3684\n",
            "   macro avg       0.32      0.31      0.30      3684\n",
            "weighted avg       0.63      0.71      0.66      3684\n",
            "\n"
          ]
        }
      ]
    },
    {
      "cell_type": "code",
      "source": [
        "print(\"confusion matrix: \")\n",
        "print(metrics.confusion_matrix(y_test, y_pred))"
      ],
      "metadata": {
        "colab": {
          "base_uri": "https://localhost:8080/"
        },
        "id": "q-g2U3Eqil9g",
        "outputId": "70ccdecc-cd58-4f44-f617-282a7643cbef"
      },
      "execution_count": 52,
      "outputs": [
        {
          "output_type": "stream",
          "name": "stdout",
          "text": [
            "confusion matrix: \n",
            "[[ 749  449   17    2    3]\n",
            " [ 144 1872    1    0    0]\n",
            " [ 102   70    4    0    0]\n",
            " [  87   73    0    0    0]\n",
            " [  71   40    0    0    0]]\n"
          ]
        }
      ]
    },
    {
      "cell_type": "code",
      "source": [
        "plt.figure(figsize=(12, 8))\n",
        "plt.subplot(2, 2, 1)\n",
        "plt.plot(history.history['loss'], label='Loss')\n",
        "plt.plot(history.history['val_loss'], label='val_Loss')\n",
        "plt.legend()\n",
        "plt.grid()\n",
        "plt.title('Loss evolution')"
      ],
      "metadata": {
        "colab": {
          "base_uri": "https://localhost:8080/",
          "height": 280
        },
        "id": "KhXCiXt8itgU",
        "outputId": "3465489b-3091-4a43-df0f-4dd15f85f337"
      },
      "execution_count": 53,
      "outputs": [
        {
          "output_type": "execute_result",
          "data": {
            "text/plain": [
              "Text(0.5, 1.0, 'Loss evolution')"
            ]
          },
          "metadata": {},
          "execution_count": 53
        },
        {
          "output_type": "display_data",
          "data": {
            "text/plain": [
              "<Figure size 864x576 with 1 Axes>"
            ],
            "image/png": "[encoded data removed]"
          },
          "metadata": {
            "needs_background": "light"
          }
        }
      ]
    },
    {
      "cell_type": "code",
      "source": [
        "plt.subplot(1, 1, 1)\n",
        "plt.plot(history.history['accuracy'], label='accuracy')\n",
        "plt.plot(history.history['val_accuracy'], label='val_accuracy')\n",
        "plt.legend()\n",
        "plt.grid()\n",
        "plt.title('Accuracy evolution')"
      ],
      "metadata": {
        "colab": {
          "base_uri": "https://localhost:8080/",
          "height": 299
        },
        "id": "duD-gz8yixkK",
        "outputId": "d20f4940-c33e-4114-e9f1-7dd8c6c5ab21"
      },
      "execution_count": 54,
      "outputs": [
        {
          "output_type": "execute_result",
          "data": {
            "text/plain": [
              "Text(0.5, 1.0, 'Accuracy evolution')"
            ]
          },
          "metadata": {},
          "execution_count": 54
        },
        {
          "output_type": "display_data",
          "data": {
            "text/plain": [
              "<Figure size 432x288 with 1 Axes>"
            ],
            "image/png": "[encoded data removed]"
          },
          "metadata": {
            "needs_background": "light"
          }
        }
      ]
    },
    {
      "cell_type": "code",
      "source": [
        ""
      ],
      "metadata": {
        "colab": {
          "base_uri": "https://localhost:8080/"
        },
        "id": "emGqAoi8i1_4",
        "outputId": "7c51c449-67bc-4cb2-ff9a-8a9582e871ee"
      },
      "execution_count": 1,
      "outputs": [
        {
          "output_type": "stream",
          "name": "stdout",
          "text": [
            "0.8.1\n"
          ]
        }
      ]
    },
    {
      "cell_type": "code",
      "source": [
        ""
      ],
      "metadata": {
        "id": "QGR5f7PJNrE4"
      },
      "execution_count": null,
      "outputs": []
    }
  ]
}